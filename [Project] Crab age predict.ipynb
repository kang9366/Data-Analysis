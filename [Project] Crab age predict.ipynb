{
 "cells": [
  {
   "cell_type": "markdown",
   "id": "ab08c829",
   "metadata": {},
   "source": [
    "# Import libraries"
   ]
  },
  {
   "cell_type": "code",
   "execution_count": 1,
   "id": "2eb4476e",
   "metadata": {},
   "outputs": [],
   "source": [
    "import pandas as pd\n",
    "import numpy as np\n",
    "import matplotlib.pyplot as plt\n",
    "import seaborn as sns\n",
    "\n",
    "import statsmodels.api as sm\n",
    "from sklearn.model_selection import train_test_split\n",
    "from sklearn.linear_model import LinearRegression, Ridge, Lasso, RidgeCV, LassoCV\n",
    "from sklearn.preprocessing import PolynomialFeatures, LabelEncoder, scale\n",
    "from sklearn.metrics import mean_squared_error\n",
    "\n",
    "import warnings\n",
    "warnings.filterwarnings(action='ignore')"
   ]
  },
  {
   "cell_type": "markdown",
   "id": "1972fae7",
   "metadata": {},
   "source": [
    "# Dataset Processing"
   ]
  },
  {
   "cell_type": "code",
   "execution_count": 81,
   "id": "c2195077",
   "metadata": {
    "scrolled": false
   },
   "outputs": [
    {
     "data": {
      "text/html": [
       "<div>\n",
       "<style scoped>\n",
       "    .dataframe tbody tr th:only-of-type {\n",
       "        vertical-align: middle;\n",
       "    }\n",
       "\n",
       "    .dataframe tbody tr th {\n",
       "        vertical-align: top;\n",
       "    }\n",
       "\n",
       "    .dataframe thead th {\n",
       "        text-align: right;\n",
       "    }\n",
       "</style>\n",
       "<table border=\"1\" class=\"dataframe\">\n",
       "  <thead>\n",
       "    <tr style=\"text-align: right;\">\n",
       "      <th></th>\n",
       "      <th>Sex</th>\n",
       "      <th>Length</th>\n",
       "      <th>Diameter</th>\n",
       "      <th>Height</th>\n",
       "      <th>Weight</th>\n",
       "      <th>Shucked Weight</th>\n",
       "      <th>Viscera Weight</th>\n",
       "      <th>Shell Weight</th>\n",
       "      <th>Age</th>\n",
       "    </tr>\n",
       "  </thead>\n",
       "  <tbody>\n",
       "    <tr>\n",
       "      <th>0</th>\n",
       "      <td>F</td>\n",
       "      <td>1.4375</td>\n",
       "      <td>1.1750</td>\n",
       "      <td>0.4125</td>\n",
       "      <td>24.635715</td>\n",
       "      <td>12.332033</td>\n",
       "      <td>5.584852</td>\n",
       "      <td>6.747181</td>\n",
       "      <td>9</td>\n",
       "    </tr>\n",
       "    <tr>\n",
       "      <th>1</th>\n",
       "      <td>M</td>\n",
       "      <td>0.8875</td>\n",
       "      <td>0.6500</td>\n",
       "      <td>0.2125</td>\n",
       "      <td>5.400580</td>\n",
       "      <td>2.296310</td>\n",
       "      <td>1.374951</td>\n",
       "      <td>1.559222</td>\n",
       "      <td>6</td>\n",
       "    </tr>\n",
       "    <tr>\n",
       "      <th>2</th>\n",
       "      <td>I</td>\n",
       "      <td>1.0375</td>\n",
       "      <td>0.7750</td>\n",
       "      <td>0.2500</td>\n",
       "      <td>7.952035</td>\n",
       "      <td>3.231843</td>\n",
       "      <td>1.601747</td>\n",
       "      <td>2.764076</td>\n",
       "      <td>6</td>\n",
       "    </tr>\n",
       "    <tr>\n",
       "      <th>3</th>\n",
       "      <td>F</td>\n",
       "      <td>1.1750</td>\n",
       "      <td>0.8875</td>\n",
       "      <td>0.2500</td>\n",
       "      <td>13.480187</td>\n",
       "      <td>4.748541</td>\n",
       "      <td>2.282135</td>\n",
       "      <td>5.244657</td>\n",
       "      <td>10</td>\n",
       "    </tr>\n",
       "    <tr>\n",
       "      <th>4</th>\n",
       "      <td>I</td>\n",
       "      <td>0.8875</td>\n",
       "      <td>0.6625</td>\n",
       "      <td>0.2125</td>\n",
       "      <td>6.903103</td>\n",
       "      <td>3.458639</td>\n",
       "      <td>1.488349</td>\n",
       "      <td>1.700970</td>\n",
       "      <td>6</td>\n",
       "    </tr>\n",
       "  </tbody>\n",
       "</table>\n",
       "</div>"
      ],
      "text/plain": [
       "  Sex  Length  Diameter  Height     Weight  Shucked Weight  Viscera Weight  \\\n",
       "0   F  1.4375    1.1750  0.4125  24.635715       12.332033        5.584852   \n",
       "1   M  0.8875    0.6500  0.2125   5.400580        2.296310        1.374951   \n",
       "2   I  1.0375    0.7750  0.2500   7.952035        3.231843        1.601747   \n",
       "3   F  1.1750    0.8875  0.2500  13.480187        4.748541        2.282135   \n",
       "4   I  0.8875    0.6625  0.2125   6.903103        3.458639        1.488349   \n",
       "\n",
       "   Shell Weight  Age  \n",
       "0      6.747181    9  \n",
       "1      1.559222    6  \n",
       "2      2.764076    6  \n",
       "3      5.244657   10  \n",
       "4      1.700970    6  "
      ]
     },
     "execution_count": 81,
     "metadata": {},
     "output_type": "execute_result"
    }
   ],
   "source": [
    "# data 불러오기\n",
    "data = pd.read_csv('/Users/kangseunggu/Downloads/CrabAgePrediction.csv')\n",
    "data.head()"
   ]
  },
  {
   "cell_type": "code",
   "execution_count": 82,
   "id": "fc0581ad",
   "metadata": {
    "scrolled": false
   },
   "outputs": [
    {
     "data": {
      "text/html": [
       "<div>\n",
       "<style scoped>\n",
       "    .dataframe tbody tr th:only-of-type {\n",
       "        vertical-align: middle;\n",
       "    }\n",
       "\n",
       "    .dataframe tbody tr th {\n",
       "        vertical-align: top;\n",
       "    }\n",
       "\n",
       "    .dataframe thead th {\n",
       "        text-align: right;\n",
       "    }\n",
       "</style>\n",
       "<table border=\"1\" class=\"dataframe\">\n",
       "  <thead>\n",
       "    <tr style=\"text-align: right;\">\n",
       "      <th></th>\n",
       "      <th>Length</th>\n",
       "      <th>Diameter</th>\n",
       "      <th>Height</th>\n",
       "      <th>Weight</th>\n",
       "      <th>Shucked Weight</th>\n",
       "      <th>Viscera Weight</th>\n",
       "      <th>Shell Weight</th>\n",
       "      <th>Age</th>\n",
       "    </tr>\n",
       "  </thead>\n",
       "  <tbody>\n",
       "    <tr>\n",
       "      <th>count</th>\n",
       "      <td>3893.000000</td>\n",
       "      <td>3893.000000</td>\n",
       "      <td>3893.000000</td>\n",
       "      <td>3893.000000</td>\n",
       "      <td>3893.000000</td>\n",
       "      <td>3893.000000</td>\n",
       "      <td>3893.000000</td>\n",
       "      <td>3893.000000</td>\n",
       "    </tr>\n",
       "    <tr>\n",
       "      <th>mean</th>\n",
       "      <td>1.311306</td>\n",
       "      <td>1.020893</td>\n",
       "      <td>0.349374</td>\n",
       "      <td>23.567275</td>\n",
       "      <td>10.207342</td>\n",
       "      <td>5.136546</td>\n",
       "      <td>6.795844</td>\n",
       "      <td>9.954791</td>\n",
       "    </tr>\n",
       "    <tr>\n",
       "      <th>std</th>\n",
       "      <td>0.300431</td>\n",
       "      <td>0.248233</td>\n",
       "      <td>0.104976</td>\n",
       "      <td>13.891201</td>\n",
       "      <td>6.275275</td>\n",
       "      <td>3.104133</td>\n",
       "      <td>3.943392</td>\n",
       "      <td>3.220967</td>\n",
       "    </tr>\n",
       "    <tr>\n",
       "      <th>min</th>\n",
       "      <td>0.187500</td>\n",
       "      <td>0.137500</td>\n",
       "      <td>0.000000</td>\n",
       "      <td>0.056699</td>\n",
       "      <td>0.028349</td>\n",
       "      <td>0.014175</td>\n",
       "      <td>0.042524</td>\n",
       "      <td>1.000000</td>\n",
       "    </tr>\n",
       "    <tr>\n",
       "      <th>25%</th>\n",
       "      <td>1.125000</td>\n",
       "      <td>0.875000</td>\n",
       "      <td>0.287500</td>\n",
       "      <td>12.672227</td>\n",
       "      <td>5.343881</td>\n",
       "      <td>2.664853</td>\n",
       "      <td>3.713785</td>\n",
       "      <td>8.000000</td>\n",
       "    </tr>\n",
       "    <tr>\n",
       "      <th>50%</th>\n",
       "      <td>1.362500</td>\n",
       "      <td>1.062500</td>\n",
       "      <td>0.362500</td>\n",
       "      <td>22.792998</td>\n",
       "      <td>9.539607</td>\n",
       "      <td>4.861939</td>\n",
       "      <td>6.662133</td>\n",
       "      <td>10.000000</td>\n",
       "    </tr>\n",
       "    <tr>\n",
       "      <th>75%</th>\n",
       "      <td>1.537500</td>\n",
       "      <td>1.200000</td>\n",
       "      <td>0.412500</td>\n",
       "      <td>32.786197</td>\n",
       "      <td>14.273973</td>\n",
       "      <td>7.200773</td>\n",
       "      <td>9.355335</td>\n",
       "      <td>11.000000</td>\n",
       "    </tr>\n",
       "    <tr>\n",
       "      <th>max</th>\n",
       "      <td>2.037500</td>\n",
       "      <td>1.625000</td>\n",
       "      <td>2.825000</td>\n",
       "      <td>80.101512</td>\n",
       "      <td>42.184056</td>\n",
       "      <td>21.545620</td>\n",
       "      <td>28.491248</td>\n",
       "      <td>29.000000</td>\n",
       "    </tr>\n",
       "  </tbody>\n",
       "</table>\n",
       "</div>"
      ],
      "text/plain": [
       "            Length     Diameter       Height       Weight  Shucked Weight  \\\n",
       "count  3893.000000  3893.000000  3893.000000  3893.000000     3893.000000   \n",
       "mean      1.311306     1.020893     0.349374    23.567275       10.207342   \n",
       "std       0.300431     0.248233     0.104976    13.891201        6.275275   \n",
       "min       0.187500     0.137500     0.000000     0.056699        0.028349   \n",
       "25%       1.125000     0.875000     0.287500    12.672227        5.343881   \n",
       "50%       1.362500     1.062500     0.362500    22.792998        9.539607   \n",
       "75%       1.537500     1.200000     0.412500    32.786197       14.273973   \n",
       "max       2.037500     1.625000     2.825000    80.101512       42.184056   \n",
       "\n",
       "       Viscera Weight  Shell Weight          Age  \n",
       "count     3893.000000   3893.000000  3893.000000  \n",
       "mean         5.136546      6.795844     9.954791  \n",
       "std          3.104133      3.943392     3.220967  \n",
       "min          0.014175      0.042524     1.000000  \n",
       "25%          2.664853      3.713785     8.000000  \n",
       "50%          4.861939      6.662133    10.000000  \n",
       "75%          7.200773      9.355335    11.000000  \n",
       "max         21.545620     28.491248    29.000000  "
      ]
     },
     "execution_count": 82,
     "metadata": {},
     "output_type": "execute_result"
    }
   ],
   "source": [
    "# data set의 대략적인 특징 파악\n",
    "data.describe()"
   ]
  },
  {
   "cell_type": "code",
   "execution_count": 83,
   "id": "aedd8ccf",
   "metadata": {},
   "outputs": [
    {
     "name": "stdout",
     "output_type": "stream",
     "text": [
      "<class 'pandas.core.frame.DataFrame'>\n",
      "RangeIndex: 3893 entries, 0 to 3892\n",
      "Data columns (total 9 columns):\n",
      " #   Column          Non-Null Count  Dtype  \n",
      "---  ------          --------------  -----  \n",
      " 0   Sex             3893 non-null   object \n",
      " 1   Length          3893 non-null   float64\n",
      " 2   Diameter        3893 non-null   float64\n",
      " 3   Height          3893 non-null   float64\n",
      " 4   Weight          3893 non-null   float64\n",
      " 5   Shucked Weight  3893 non-null   float64\n",
      " 6   Viscera Weight  3893 non-null   float64\n",
      " 7   Shell Weight    3893 non-null   float64\n",
      " 8   Age             3893 non-null   int64  \n",
      "dtypes: float64(7), int64(1), object(1)\n",
      "memory usage: 273.9+ KB\n"
     ]
    }
   ],
   "source": [
    "# null값과 variable의 data type 확인\n",
    "data.info()"
   ]
  },
  {
   "cell_type": "code",
   "execution_count": 95,
   "id": "8e28f076",
   "metadata": {
    "scrolled": true
   },
   "outputs": [
    {
     "data": {
      "text/html": [
       "<div>\n",
       "<style scoped>\n",
       "    .dataframe tbody tr th:only-of-type {\n",
       "        vertical-align: middle;\n",
       "    }\n",
       "\n",
       "    .dataframe tbody tr th {\n",
       "        vertical-align: top;\n",
       "    }\n",
       "\n",
       "    .dataframe thead th {\n",
       "        text-align: right;\n",
       "    }\n",
       "</style>\n",
       "<table border=\"1\" class=\"dataframe\">\n",
       "  <thead>\n",
       "    <tr style=\"text-align: right;\">\n",
       "      <th></th>\n",
       "      <th>Length</th>\n",
       "      <th>Diameter</th>\n",
       "      <th>Height</th>\n",
       "      <th>Weight</th>\n",
       "      <th>Shucked Weight</th>\n",
       "      <th>Viscera Weight</th>\n",
       "      <th>Shell Weight</th>\n",
       "      <th>Age</th>\n",
       "      <th>Gender</th>\n",
       "    </tr>\n",
       "  </thead>\n",
       "  <tbody>\n",
       "    <tr>\n",
       "      <th>0</th>\n",
       "      <td>1.4375</td>\n",
       "      <td>1.1750</td>\n",
       "      <td>0.4125</td>\n",
       "      <td>24.635715</td>\n",
       "      <td>12.332033</td>\n",
       "      <td>5.584852</td>\n",
       "      <td>6.747181</td>\n",
       "      <td>9</td>\n",
       "      <td>0</td>\n",
       "    </tr>\n",
       "    <tr>\n",
       "      <th>1</th>\n",
       "      <td>0.8875</td>\n",
       "      <td>0.6500</td>\n",
       "      <td>0.2125</td>\n",
       "      <td>5.400580</td>\n",
       "      <td>2.296310</td>\n",
       "      <td>1.374951</td>\n",
       "      <td>1.559222</td>\n",
       "      <td>6</td>\n",
       "      <td>0</td>\n",
       "    </tr>\n",
       "    <tr>\n",
       "      <th>2</th>\n",
       "      <td>1.0375</td>\n",
       "      <td>0.7750</td>\n",
       "      <td>0.2500</td>\n",
       "      <td>7.952035</td>\n",
       "      <td>3.231843</td>\n",
       "      <td>1.601747</td>\n",
       "      <td>2.764076</td>\n",
       "      <td>6</td>\n",
       "      <td>1</td>\n",
       "    </tr>\n",
       "    <tr>\n",
       "      <th>3</th>\n",
       "      <td>1.1750</td>\n",
       "      <td>0.8875</td>\n",
       "      <td>0.2500</td>\n",
       "      <td>13.480187</td>\n",
       "      <td>4.748541</td>\n",
       "      <td>2.282135</td>\n",
       "      <td>5.244657</td>\n",
       "      <td>10</td>\n",
       "      <td>0</td>\n",
       "    </tr>\n",
       "    <tr>\n",
       "      <th>4</th>\n",
       "      <td>0.8875</td>\n",
       "      <td>0.6625</td>\n",
       "      <td>0.2125</td>\n",
       "      <td>6.903103</td>\n",
       "      <td>3.458639</td>\n",
       "      <td>1.488349</td>\n",
       "      <td>1.700970</td>\n",
       "      <td>6</td>\n",
       "      <td>1</td>\n",
       "    </tr>\n",
       "  </tbody>\n",
       "</table>\n",
       "</div>"
      ],
      "text/plain": [
       "   Length  Diameter  Height     Weight  Shucked Weight  Viscera Weight  \\\n",
       "0  1.4375    1.1750  0.4125  24.635715       12.332033        5.584852   \n",
       "1  0.8875    0.6500  0.2125   5.400580        2.296310        1.374951   \n",
       "2  1.0375    0.7750  0.2500   7.952035        3.231843        1.601747   \n",
       "3  1.1750    0.8875  0.2500  13.480187        4.748541        2.282135   \n",
       "4  0.8875    0.6625  0.2125   6.903103        3.458639        1.488349   \n",
       "\n",
       "   Shell Weight  Age  Gender  \n",
       "0      6.747181    9       0  \n",
       "1      1.559222    6       0  \n",
       "2      2.764076    6       1  \n",
       "3      5.244657   10       0  \n",
       "4      1.700970    6       1  "
      ]
     },
     "execution_count": 95,
     "metadata": {},
     "output_type": "execute_result"
    }
   ],
   "source": [
    "# dummy variable 생성 (Female=0, Intermediate=1, Male=0)\n",
    "\n",
    "data['Gender'] = (data.Sex == \"I\").map({True:1, False:0})\n",
    "df = data.drop(['Sex'], axis=1)\n",
    "df.head()"
   ]
  },
  {
   "cell_type": "code",
   "execution_count": 96,
   "id": "60b5ac4c",
   "metadata": {},
   "outputs": [],
   "source": [
    "# predictor와 response 설정\n",
    "x = df.drop(['Age'], axis=1)\n",
    "y = df['Age']"
   ]
  },
  {
   "cell_type": "code",
   "execution_count": 97,
   "id": "812febff",
   "metadata": {},
   "outputs": [],
   "source": [
    "# data spliting\n",
    "x_train, x_test, y_train, y_test = train_test_split(x,y, train_size = 0.7, test_size = 0.3, random_state=42)"
   ]
  },
  {
   "cell_type": "markdown",
   "id": "8968467c",
   "metadata": {},
   "source": [
    "# Multiple Regression"
   ]
  },
  {
   "cell_type": "code",
   "execution_count": 98,
   "id": "e21901f1",
   "metadata": {
    "scrolled": true
   },
   "outputs": [
    {
     "data": {
      "text/html": [
       "<table class=\"simpletable\">\n",
       "<caption>OLS Regression Results</caption>\n",
       "<tr>\n",
       "  <th>Dep. Variable:</th>           <td>Age</td>       <th>  R-squared:         </th> <td>   0.535</td> \n",
       "</tr>\n",
       "<tr>\n",
       "  <th>Model:</th>                   <td>OLS</td>       <th>  Adj. R-squared:    </th> <td>   0.534</td> \n",
       "</tr>\n",
       "<tr>\n",
       "  <th>Method:</th>             <td>Least Squares</td>  <th>  F-statistic:       </th> <td>   390.9</td> \n",
       "</tr>\n",
       "<tr>\n",
       "  <th>Date:</th>             <td>Sat, 21 May 2022</td> <th>  Prob (F-statistic):</th>  <td>  0.00</td>  \n",
       "</tr>\n",
       "<tr>\n",
       "  <th>Time:</th>                 <td>17:29:21</td>     <th>  Log-Likelihood:    </th> <td> -6031.9</td> \n",
       "</tr>\n",
       "<tr>\n",
       "  <th>No. Observations:</th>      <td>  2725</td>      <th>  AIC:               </th> <td>1.208e+04</td>\n",
       "</tr>\n",
       "<tr>\n",
       "  <th>Df Residuals:</th>          <td>  2716</td>      <th>  BIC:               </th> <td>1.214e+04</td>\n",
       "</tr>\n",
       "<tr>\n",
       "  <th>Df Model:</th>              <td>     8</td>      <th>                     </th>     <td> </td>    \n",
       "</tr>\n",
       "<tr>\n",
       "  <th>Covariance Type:</th>      <td>nonrobust</td>    <th>                     </th>     <td> </td>    \n",
       "</tr>\n",
       "</table>\n",
       "<table class=\"simpletable\">\n",
       "<tr>\n",
       "         <td></td>           <th>coef</th>     <th>std err</th>      <th>t</th>      <th>P>|t|</th>  <th>[0.025</th>    <th>0.975]</th>  \n",
       "</tr>\n",
       "<tr>\n",
       "  <th>const</th>          <td>    4.1203</td> <td>    0.359</td> <td>   11.478</td> <td> 0.000</td> <td>    3.416</td> <td>    4.824</td>\n",
       "</tr>\n",
       "<tr>\n",
       "  <th>Length</th>         <td>   -0.6944</td> <td>    0.891</td> <td>   -0.780</td> <td> 0.436</td> <td>   -2.441</td> <td>    1.052</td>\n",
       "</tr>\n",
       "<tr>\n",
       "  <th>Diameter</th>       <td>    5.0624</td> <td>    1.095</td> <td>    4.624</td> <td> 0.000</td> <td>    2.916</td> <td>    7.209</td>\n",
       "</tr>\n",
       "<tr>\n",
       "  <th>Height</th>         <td>    3.6926</td> <td>    0.680</td> <td>    5.431</td> <td> 0.000</td> <td>    2.359</td> <td>    5.026</td>\n",
       "</tr>\n",
       "<tr>\n",
       "  <th>Weight</th>         <td>    0.2393</td> <td>    0.031</td> <td>    7.722</td> <td> 0.000</td> <td>    0.179</td> <td>    0.300</td>\n",
       "</tr>\n",
       "<tr>\n",
       "  <th>Shucked Weight</th> <td>   -0.6314</td> <td>    0.035</td> <td>  -18.061</td> <td> 0.000</td> <td>   -0.700</td> <td>   -0.563</td>\n",
       "</tr>\n",
       "<tr>\n",
       "  <th>Viscera Weight</th> <td>   -0.2891</td> <td>    0.057</td> <td>   -5.109</td> <td> 0.000</td> <td>   -0.400</td> <td>   -0.178</td>\n",
       "</tr>\n",
       "<tr>\n",
       "  <th>Shell Weight</th>   <td>    0.4185</td> <td>    0.049</td> <td>    8.541</td> <td> 0.000</td> <td>    0.322</td> <td>    0.515</td>\n",
       "</tr>\n",
       "<tr>\n",
       "  <th>Gender</th>         <td>   -0.8956</td> <td>    0.112</td> <td>   -7.995</td> <td> 0.000</td> <td>   -1.115</td> <td>   -0.676</td>\n",
       "</tr>\n",
       "</table>\n",
       "<table class=\"simpletable\">\n",
       "<tr>\n",
       "  <th>Omnibus:</th>       <td>544.245</td> <th>  Durbin-Watson:     </th> <td>   2.052</td> \n",
       "</tr>\n",
       "<tr>\n",
       "  <th>Prob(Omnibus):</th> <td> 0.000</td>  <th>  Jarque-Bera (JB):  </th> <td>1358.202</td> \n",
       "</tr>\n",
       "<tr>\n",
       "  <th>Skew:</th>          <td> 1.086</td>  <th>  Prob(JB):          </th> <td>1.18e-295</td>\n",
       "</tr>\n",
       "<tr>\n",
       "  <th>Kurtosis:</th>      <td> 5.691</td>  <th>  Cond. No.          </th> <td>1.03e+03</td> \n",
       "</tr>\n",
       "</table><br/><br/>Notes:<br/>[1] Standard Errors assume that the covariance matrix of the errors is correctly specified.<br/>[2] The condition number is large, 1.03e+03. This might indicate that there are<br/>strong multicollinearity or other numerical problems."
      ],
      "text/plain": [
       "<class 'statsmodels.iolib.summary.Summary'>\n",
       "\"\"\"\n",
       "                            OLS Regression Results                            \n",
       "==============================================================================\n",
       "Dep. Variable:                    Age   R-squared:                       0.535\n",
       "Model:                            OLS   Adj. R-squared:                  0.534\n",
       "Method:                 Least Squares   F-statistic:                     390.9\n",
       "Date:                Sat, 21 May 2022   Prob (F-statistic):               0.00\n",
       "Time:                        17:29:21   Log-Likelihood:                -6031.9\n",
       "No. Observations:                2725   AIC:                         1.208e+04\n",
       "Df Residuals:                    2716   BIC:                         1.214e+04\n",
       "Df Model:                           8                                         \n",
       "Covariance Type:            nonrobust                                         \n",
       "==================================================================================\n",
       "                     coef    std err          t      P>|t|      [0.025      0.975]\n",
       "----------------------------------------------------------------------------------\n",
       "const              4.1203      0.359     11.478      0.000       3.416       4.824\n",
       "Length            -0.6944      0.891     -0.780      0.436      -2.441       1.052\n",
       "Diameter           5.0624      1.095      4.624      0.000       2.916       7.209\n",
       "Height             3.6926      0.680      5.431      0.000       2.359       5.026\n",
       "Weight             0.2393      0.031      7.722      0.000       0.179       0.300\n",
       "Shucked Weight    -0.6314      0.035    -18.061      0.000      -0.700      -0.563\n",
       "Viscera Weight    -0.2891      0.057     -5.109      0.000      -0.400      -0.178\n",
       "Shell Weight       0.4185      0.049      8.541      0.000       0.322       0.515\n",
       "Gender            -0.8956      0.112     -7.995      0.000      -1.115      -0.676\n",
       "==============================================================================\n",
       "Omnibus:                      544.245   Durbin-Watson:                   2.052\n",
       "Prob(Omnibus):                  0.000   Jarque-Bera (JB):             1358.202\n",
       "Skew:                           1.086   Prob(JB):                    1.18e-295\n",
       "Kurtosis:                       5.691   Cond. No.                     1.03e+03\n",
       "==============================================================================\n",
       "\n",
       "Notes:\n",
       "[1] Standard Errors assume that the covariance matrix of the errors is correctly specified.\n",
       "[2] The condition number is large, 1.03e+03. This might indicate that there are\n",
       "strong multicollinearity or other numerical problems.\n",
       "\"\"\""
      ]
     },
     "execution_count": 98,
     "metadata": {},
     "output_type": "execute_result"
    }
   ],
   "source": [
    "ols_sm = sm.OLS(y_train, sm.add_constant(x_train))\n",
    "ols_sm_results = ols_sm.fit()\n",
    "ols_sm_results.summary()"
   ]
  },
  {
   "cell_type": "code",
   "execution_count": 99,
   "id": "a4dbbdb2",
   "metadata": {
    "scrolled": false
   },
   "outputs": [
    {
     "data": {
      "text/plain": [
       "LinearRegression()"
      ]
     },
     "execution_count": 99,
     "metadata": {},
     "output_type": "execute_result"
    }
   ],
   "source": [
    "lr = LinearRegression()\n",
    "lr.fit(x_train, y_train)"
   ]
  },
  {
   "cell_type": "code",
   "execution_count": 100,
   "id": "14842a17",
   "metadata": {
    "scrolled": false
   },
   "outputs": [
    {
     "data": {
      "text/plain": [
       "Text(0, 0.5, 'Predicted Age')"
      ]
     },
     "execution_count": 100,
     "metadata": {},
     "output_type": "execute_result"
    },
    {
     "data": {
      "image/png": "[encoded data removed]",
      "text/plain": [
       "<Figure size 1080x288 with 1 Axes>"
      ]
     },
     "metadata": {
      "needs_background": "light"
     },
     "output_type": "display_data"
    }
   ],
   "source": [
    "fig = plt.figure(figsize=(15,4))\n",
    "sns.regplot(x=y_test, y=lr.predict(x_test), \n",
    "            scatter_kws={'alpha':0.5},\n",
    "            line_kws={'color': 'red'},\n",
    "            lowess=True)\n",
    "plt.xlabel('True Age')\n",
    "plt.ylabel('Predicted Age')"
   ]
  },
  {
   "cell_type": "code",
   "execution_count": 101,
   "id": "fa04e358",
   "metadata": {
    "scrolled": true
   },
   "outputs": [
    {
     "data": {
      "text/plain": [
       "4.636375889472515"
      ]
     },
     "execution_count": 101,
     "metadata": {},
     "output_type": "execute_result"
    }
   ],
   "source": [
    "multi_MSE = mean_squared_error(y_test, lr.predict(x_test)) # y_true, y_pred error\n",
    "multi_MSE"
   ]
  },
  {
   "cell_type": "markdown",
   "id": "6b6ca588",
   "metadata": {},
   "source": [
    "## Polynomial Regression (degree=2)"
   ]
  },
  {
   "cell_type": "code",
   "execution_count": 102,
   "id": "6108acff",
   "metadata": {},
   "outputs": [],
   "source": [
    "poly = PolynomialFeatures(2)\n",
    "poly_fit = poly.fit_transform(df)"
   ]
  },
  {
   "cell_type": "code",
   "execution_count": 103,
   "id": "c99651aa",
   "metadata": {
    "scrolled": false
   },
   "outputs": [
    {
     "data": {
      "text/html": [
       "<div>\n",
       "<style scoped>\n",
       "    .dataframe tbody tr th:only-of-type {\n",
       "        vertical-align: middle;\n",
       "    }\n",
       "\n",
       "    .dataframe tbody tr th {\n",
       "        vertical-align: top;\n",
       "    }\n",
       "\n",
       "    .dataframe thead th {\n",
       "        text-align: right;\n",
       "    }\n",
       "</style>\n",
       "<table border=\"1\" class=\"dataframe\">\n",
       "  <thead>\n",
       "    <tr style=\"text-align: right;\">\n",
       "      <th></th>\n",
       "      <th>Length</th>\n",
       "      <th>Diameter</th>\n",
       "      <th>Height</th>\n",
       "      <th>Weight</th>\n",
       "      <th>Shucked Weight</th>\n",
       "      <th>Viscera Weight</th>\n",
       "      <th>Shell Weight</th>\n",
       "      <th>Age</th>\n",
       "      <th>Gender</th>\n",
       "      <th>Length^2</th>\n",
       "      <th>...</th>\n",
       "      <th>Viscera Weight^2</th>\n",
       "      <th>Viscera Weight Shell Weight</th>\n",
       "      <th>Viscera Weight Age</th>\n",
       "      <th>Viscera Weight Gender</th>\n",
       "      <th>Shell Weight^2</th>\n",
       "      <th>Shell Weight Age</th>\n",
       "      <th>Shell Weight Gender</th>\n",
       "      <th>Age^2</th>\n",
       "      <th>Age Gender</th>\n",
       "      <th>Gender^2</th>\n",
       "    </tr>\n",
       "  </thead>\n",
       "  <tbody>\n",
       "    <tr>\n",
       "      <th>0</th>\n",
       "      <td>1.4375</td>\n",
       "      <td>1.1750</td>\n",
       "      <td>0.4125</td>\n",
       "      <td>24.635715</td>\n",
       "      <td>12.332033</td>\n",
       "      <td>5.584852</td>\n",
       "      <td>6.747181</td>\n",
       "      <td>9.0</td>\n",
       "      <td>0.0</td>\n",
       "      <td>2.066406</td>\n",
       "      <td>...</td>\n",
       "      <td>31.190566</td>\n",
       "      <td>37.682004</td>\n",
       "      <td>50.263663</td>\n",
       "      <td>0.000000</td>\n",
       "      <td>45.524451</td>\n",
       "      <td>60.724629</td>\n",
       "      <td>0.000000</td>\n",
       "      <td>81.0</td>\n",
       "      <td>0.0</td>\n",
       "      <td>0.0</td>\n",
       "    </tr>\n",
       "    <tr>\n",
       "      <th>1</th>\n",
       "      <td>0.8875</td>\n",
       "      <td>0.6500</td>\n",
       "      <td>0.2125</td>\n",
       "      <td>5.400580</td>\n",
       "      <td>2.296310</td>\n",
       "      <td>1.374951</td>\n",
       "      <td>1.559222</td>\n",
       "      <td>6.0</td>\n",
       "      <td>0.0</td>\n",
       "      <td>0.787656</td>\n",
       "      <td>...</td>\n",
       "      <td>1.890490</td>\n",
       "      <td>2.143854</td>\n",
       "      <td>8.249704</td>\n",
       "      <td>0.000000</td>\n",
       "      <td>2.431175</td>\n",
       "      <td>9.355335</td>\n",
       "      <td>0.000000</td>\n",
       "      <td>36.0</td>\n",
       "      <td>0.0</td>\n",
       "      <td>0.0</td>\n",
       "    </tr>\n",
       "    <tr>\n",
       "      <th>2</th>\n",
       "      <td>1.0375</td>\n",
       "      <td>0.7750</td>\n",
       "      <td>0.2500</td>\n",
       "      <td>7.952035</td>\n",
       "      <td>3.231843</td>\n",
       "      <td>1.601747</td>\n",
       "      <td>2.764076</td>\n",
       "      <td>6.0</td>\n",
       "      <td>1.0</td>\n",
       "      <td>1.076406</td>\n",
       "      <td>...</td>\n",
       "      <td>2.565593</td>\n",
       "      <td>4.427350</td>\n",
       "      <td>9.610480</td>\n",
       "      <td>1.601747</td>\n",
       "      <td>7.640118</td>\n",
       "      <td>16.584457</td>\n",
       "      <td>2.764076</td>\n",
       "      <td>36.0</td>\n",
       "      <td>6.0</td>\n",
       "      <td>1.0</td>\n",
       "    </tr>\n",
       "    <tr>\n",
       "      <th>3</th>\n",
       "      <td>1.1750</td>\n",
       "      <td>0.8875</td>\n",
       "      <td>0.2500</td>\n",
       "      <td>13.480187</td>\n",
       "      <td>4.748541</td>\n",
       "      <td>2.282135</td>\n",
       "      <td>5.244657</td>\n",
       "      <td>10.0</td>\n",
       "      <td>0.0</td>\n",
       "      <td>1.380625</td>\n",
       "      <td>...</td>\n",
       "      <td>5.208139</td>\n",
       "      <td>11.969015</td>\n",
       "      <td>22.821348</td>\n",
       "      <td>0.000000</td>\n",
       "      <td>27.506432</td>\n",
       "      <td>52.446575</td>\n",
       "      <td>0.000000</td>\n",
       "      <td>100.0</td>\n",
       "      <td>0.0</td>\n",
       "      <td>0.0</td>\n",
       "    </tr>\n",
       "    <tr>\n",
       "      <th>4</th>\n",
       "      <td>0.8875</td>\n",
       "      <td>0.6625</td>\n",
       "      <td>0.2125</td>\n",
       "      <td>6.903103</td>\n",
       "      <td>3.458639</td>\n",
       "      <td>1.488349</td>\n",
       "      <td>1.700970</td>\n",
       "      <td>6.0</td>\n",
       "      <td>1.0</td>\n",
       "      <td>0.787656</td>\n",
       "      <td>...</td>\n",
       "      <td>2.215182</td>\n",
       "      <td>2.531637</td>\n",
       "      <td>8.930093</td>\n",
       "      <td>1.488349</td>\n",
       "      <td>2.893299</td>\n",
       "      <td>10.205820</td>\n",
       "      <td>1.700970</td>\n",
       "      <td>36.0</td>\n",
       "      <td>6.0</td>\n",
       "      <td>1.0</td>\n",
       "    </tr>\n",
       "    <tr>\n",
       "      <th>...</th>\n",
       "      <td>...</td>\n",
       "      <td>...</td>\n",
       "      <td>...</td>\n",
       "      <td>...</td>\n",
       "      <td>...</td>\n",
       "      <td>...</td>\n",
       "      <td>...</td>\n",
       "      <td>...</td>\n",
       "      <td>...</td>\n",
       "      <td>...</td>\n",
       "      <td>...</td>\n",
       "      <td>...</td>\n",
       "      <td>...</td>\n",
       "      <td>...</td>\n",
       "      <td>...</td>\n",
       "      <td>...</td>\n",
       "      <td>...</td>\n",
       "      <td>...</td>\n",
       "      <td>...</td>\n",
       "      <td>...</td>\n",
       "      <td>...</td>\n",
       "    </tr>\n",
       "    <tr>\n",
       "      <th>3888</th>\n",
       "      <td>1.4625</td>\n",
       "      <td>1.1375</td>\n",
       "      <td>0.3250</td>\n",
       "      <td>24.819987</td>\n",
       "      <td>11.651644</td>\n",
       "      <td>5.854172</td>\n",
       "      <td>6.378637</td>\n",
       "      <td>8.0</td>\n",
       "      <td>0.0</td>\n",
       "      <td>2.138906</td>\n",
       "      <td>...</td>\n",
       "      <td>34.271327</td>\n",
       "      <td>37.341639</td>\n",
       "      <td>46.833374</td>\n",
       "      <td>0.000000</td>\n",
       "      <td>40.687016</td>\n",
       "      <td>51.029100</td>\n",
       "      <td>0.000000</td>\n",
       "      <td>64.0</td>\n",
       "      <td>0.0</td>\n",
       "      <td>0.0</td>\n",
       "    </tr>\n",
       "    <tr>\n",
       "      <th>3889</th>\n",
       "      <td>1.5500</td>\n",
       "      <td>1.2125</td>\n",
       "      <td>0.4375</td>\n",
       "      <td>34.458817</td>\n",
       "      <td>15.450477</td>\n",
       "      <td>7.172423</td>\n",
       "      <td>9.780577</td>\n",
       "      <td>10.0</td>\n",
       "      <td>0.0</td>\n",
       "      <td>2.402500</td>\n",
       "      <td>...</td>\n",
       "      <td>51.443659</td>\n",
       "      <td>70.150444</td>\n",
       "      <td>71.724235</td>\n",
       "      <td>0.000000</td>\n",
       "      <td>95.659696</td>\n",
       "      <td>97.805775</td>\n",
       "      <td>0.000000</td>\n",
       "      <td>100.0</td>\n",
       "      <td>0.0</td>\n",
       "      <td>0.0</td>\n",
       "    </tr>\n",
       "    <tr>\n",
       "      <th>3890</th>\n",
       "      <td>0.6250</td>\n",
       "      <td>0.4625</td>\n",
       "      <td>0.1625</td>\n",
       "      <td>2.012815</td>\n",
       "      <td>0.765436</td>\n",
       "      <td>0.524466</td>\n",
       "      <td>0.637864</td>\n",
       "      <td>5.0</td>\n",
       "      <td>1.0</td>\n",
       "      <td>0.390625</td>\n",
       "      <td>...</td>\n",
       "      <td>0.275064</td>\n",
       "      <td>0.334538</td>\n",
       "      <td>2.622329</td>\n",
       "      <td>0.524466</td>\n",
       "      <td>0.406870</td>\n",
       "      <td>3.189319</td>\n",
       "      <td>0.637864</td>\n",
       "      <td>25.0</td>\n",
       "      <td>5.0</td>\n",
       "      <td>1.0</td>\n",
       "    </tr>\n",
       "    <tr>\n",
       "      <th>3891</th>\n",
       "      <td>1.0625</td>\n",
       "      <td>0.7750</td>\n",
       "      <td>0.2625</td>\n",
       "      <td>10.347568</td>\n",
       "      <td>4.507570</td>\n",
       "      <td>2.338834</td>\n",
       "      <td>2.976698</td>\n",
       "      <td>6.0</td>\n",
       "      <td>1.0</td>\n",
       "      <td>1.128906</td>\n",
       "      <td>...</td>\n",
       "      <td>5.470143</td>\n",
       "      <td>6.962001</td>\n",
       "      <td>14.033003</td>\n",
       "      <td>2.338834</td>\n",
       "      <td>8.860728</td>\n",
       "      <td>17.860185</td>\n",
       "      <td>2.976698</td>\n",
       "      <td>36.0</td>\n",
       "      <td>6.0</td>\n",
       "      <td>1.0</td>\n",
       "    </tr>\n",
       "    <tr>\n",
       "      <th>3892</th>\n",
       "      <td>0.7875</td>\n",
       "      <td>0.6125</td>\n",
       "      <td>0.2125</td>\n",
       "      <td>4.068153</td>\n",
       "      <td>1.502523</td>\n",
       "      <td>1.346601</td>\n",
       "      <td>1.417475</td>\n",
       "      <td>8.0</td>\n",
       "      <td>1.0</td>\n",
       "      <td>0.620156</td>\n",
       "      <td>...</td>\n",
       "      <td>1.813335</td>\n",
       "      <td>1.908774</td>\n",
       "      <td>10.772810</td>\n",
       "      <td>1.346601</td>\n",
       "      <td>2.009235</td>\n",
       "      <td>11.339800</td>\n",
       "      <td>1.417475</td>\n",
       "      <td>64.0</td>\n",
       "      <td>8.0</td>\n",
       "      <td>1.0</td>\n",
       "    </tr>\n",
       "  </tbody>\n",
       "</table>\n",
       "<p>3893 rows × 54 columns</p>\n",
       "</div>"
      ],
      "text/plain": [
       "      Length  Diameter  Height     Weight  Shucked Weight  Viscera Weight  \\\n",
       "0     1.4375    1.1750  0.4125  24.635715       12.332033        5.584852   \n",
       "1     0.8875    0.6500  0.2125   5.400580        2.296310        1.374951   \n",
       "2     1.0375    0.7750  0.2500   7.952035        3.231843        1.601747   \n",
       "3     1.1750    0.8875  0.2500  13.480187        4.748541        2.282135   \n",
       "4     0.8875    0.6625  0.2125   6.903103        3.458639        1.488349   \n",
       "...      ...       ...     ...        ...             ...             ...   \n",
       "3888  1.4625    1.1375  0.3250  24.819987       11.651644        5.854172   \n",
       "3889  1.5500    1.2125  0.4375  34.458817       15.450477        7.172423   \n",
       "3890  0.6250    0.4625  0.1625   2.012815        0.765436        0.524466   \n",
       "3891  1.0625    0.7750  0.2625  10.347568        4.507570        2.338834   \n",
       "3892  0.7875    0.6125  0.2125   4.068153        1.502523        1.346601   \n",
       "\n",
       "      Shell Weight   Age  Gender  Length^2  ...  Viscera Weight^2  \\\n",
       "0         6.747181   9.0     0.0  2.066406  ...         31.190566   \n",
       "1         1.559222   6.0     0.0  0.787656  ...          1.890490   \n",
       "2         2.764076   6.0     1.0  1.076406  ...          2.565593   \n",
       "3         5.244657  10.0     0.0  1.380625  ...          5.208139   \n",
       "4         1.700970   6.0     1.0  0.787656  ...          2.215182   \n",
       "...            ...   ...     ...       ...  ...               ...   \n",
       "3888      6.378637   8.0     0.0  2.138906  ...         34.271327   \n",
       "3889      9.780577  10.0     0.0  2.402500  ...         51.443659   \n",
       "3890      0.637864   5.0     1.0  0.390625  ...          0.275064   \n",
       "3891      2.976698   6.0     1.0  1.128906  ...          5.470143   \n",
       "3892      1.417475   8.0     1.0  0.620156  ...          1.813335   \n",
       "\n",
       "      Viscera Weight Shell Weight  Viscera Weight Age  Viscera Weight Gender  \\\n",
       "0                       37.682004           50.263663               0.000000   \n",
       "1                        2.143854            8.249704               0.000000   \n",
       "2                        4.427350            9.610480               1.601747   \n",
       "3                       11.969015           22.821348               0.000000   \n",
       "4                        2.531637            8.930093               1.488349   \n",
       "...                           ...                 ...                    ...   \n",
       "3888                    37.341639           46.833374               0.000000   \n",
       "3889                    70.150444           71.724235               0.000000   \n",
       "3890                     0.334538            2.622329               0.524466   \n",
       "3891                     6.962001           14.033003               2.338834   \n",
       "3892                     1.908774           10.772810               1.346601   \n",
       "\n",
       "      Shell Weight^2  Shell Weight Age  Shell Weight Gender  Age^2  \\\n",
       "0          45.524451         60.724629             0.000000   81.0   \n",
       "1           2.431175          9.355335             0.000000   36.0   \n",
       "2           7.640118         16.584457             2.764076   36.0   \n",
       "3          27.506432         52.446575             0.000000  100.0   \n",
       "4           2.893299         10.205820             1.700970   36.0   \n",
       "...              ...               ...                  ...    ...   \n",
       "3888       40.687016         51.029100             0.000000   64.0   \n",
       "3889       95.659696         97.805775             0.000000  100.0   \n",
       "3890        0.406870          3.189319             0.637864   25.0   \n",
       "3891        8.860728         17.860185             2.976698   36.0   \n",
       "3892        2.009235         11.339800             1.417475   64.0   \n",
       "\n",
       "      Age Gender  Gender^2  \n",
       "0            0.0       0.0  \n",
       "1            0.0       0.0  \n",
       "2            6.0       1.0  \n",
       "3            0.0       0.0  \n",
       "4            6.0       1.0  \n",
       "...          ...       ...  \n",
       "3888         0.0       0.0  \n",
       "3889         0.0       0.0  \n",
       "3890         5.0       1.0  \n",
       "3891         6.0       1.0  \n",
       "3892         8.0       1.0  \n",
       "\n",
       "[3893 rows x 54 columns]"
      ]
     },
     "execution_count": 103,
     "metadata": {},
     "output_type": "execute_result"
    }
   ],
   "source": [
    "df_poly = pd.DataFrame(poly_fit, columns = poly.get_feature_names(df.columns))\n",
    "df_poly = df_poly.drop(columns=['1'], axis=1)\n",
    "df_poly"
   ]
  },
  {
   "cell_type": "code",
   "execution_count": 104,
   "id": "5d83e72f",
   "metadata": {},
   "outputs": [],
   "source": [
    "x_poly = df_poly.drop(['Age'], axis=1)\n",
    "y_poly = df_poly['Age']\n",
    "x_train_poly, x_test_poly, y_train_poly, y_test_poly = train_test_split(x_poly, y_poly, train_size = 0.8, test_size = 0.2, random_state=42)"
   ]
  },
  {
   "cell_type": "code",
   "execution_count": 105,
   "id": "39588083",
   "metadata": {
    "scrolled": true
   },
   "outputs": [
    {
     "data": {
      "text/plain": [
       "LinearRegression()"
      ]
     },
     "execution_count": 105,
     "metadata": {},
     "output_type": "execute_result"
    }
   ],
   "source": [
    "lr.fit(x_train_poly, y_train_poly)"
   ]
  },
  {
   "cell_type": "code",
   "execution_count": 106,
   "id": "36cdb8d7",
   "metadata": {
    "scrolled": true
   },
   "outputs": [
    {
     "data": {
      "text/html": [
       "<table class=\"simpletable\">\n",
       "<caption>OLS Regression Results</caption>\n",
       "<tr>\n",
       "  <th>Dep. Variable:</th>           <td>Age</td>       <th>  R-squared:         </th> <td>   0.997</td> \n",
       "</tr>\n",
       "<tr>\n",
       "  <th>Model:</th>                   <td>OLS</td>       <th>  Adj. R-squared:    </th> <td>   0.997</td> \n",
       "</tr>\n",
       "<tr>\n",
       "  <th>Method:</th>             <td>Least Squares</td>  <th>  F-statistic:       </th> <td>1.808e+04</td>\n",
       "</tr>\n",
       "<tr>\n",
       "  <th>Date:</th>             <td>Sat, 21 May 2022</td> <th>  Prob (F-statistic):</th>  <td>  0.00</td>  \n",
       "</tr>\n",
       "<tr>\n",
       "  <th>Time:</th>                 <td>17:29:40</td>     <th>  Log-Likelihood:    </th> <td>  834.94</td> \n",
       "</tr>\n",
       "<tr>\n",
       "  <th>No. Observations:</th>      <td>  3114</td>      <th>  AIC:               </th> <td>  -1564.</td> \n",
       "</tr>\n",
       "<tr>\n",
       "  <th>Df Residuals:</th>          <td>  3061</td>      <th>  BIC:               </th> <td>  -1244.</td> \n",
       "</tr>\n",
       "<tr>\n",
       "  <th>Df Model:</th>              <td>    52</td>      <th>                     </th>     <td> </td>    \n",
       "</tr>\n",
       "<tr>\n",
       "  <th>Covariance Type:</th>      <td>nonrobust</td>    <th>                     </th>     <td> </td>    \n",
       "</tr>\n",
       "</table>\n",
       "<table class=\"simpletable\">\n",
       "<tr>\n",
       "                <td></td>                   <th>coef</th>     <th>std err</th>      <th>t</th>      <th>P>|t|</th>  <th>[0.025</th>    <th>0.975]</th>  \n",
       "</tr>\n",
       "<tr>\n",
       "  <th>const</th>                         <td>    2.8979</td> <td>    0.146</td> <td>   19.856</td> <td> 0.000</td> <td>    2.612</td> <td>    3.184</td>\n",
       "</tr>\n",
       "<tr>\n",
       "  <th>Length</th>                        <td>   -2.5664</td> <td>    0.687</td> <td>   -3.735</td> <td> 0.000</td> <td>   -3.914</td> <td>   -1.219</td>\n",
       "</tr>\n",
       "<tr>\n",
       "  <th>Diameter</th>                      <td>    5.2944</td> <td>    0.847</td> <td>    6.248</td> <td> 0.000</td> <td>    3.633</td> <td>    6.956</td>\n",
       "</tr>\n",
       "<tr>\n",
       "  <th>Height</th>                        <td>    3.4952</td> <td>    0.874</td> <td>    3.998</td> <td> 0.000</td> <td>    1.781</td> <td>    5.209</td>\n",
       "</tr>\n",
       "<tr>\n",
       "  <th>Weight</th>                        <td>    0.2297</td> <td>    0.031</td> <td>    7.479</td> <td> 0.000</td> <td>    0.169</td> <td>    0.290</td>\n",
       "</tr>\n",
       "<tr>\n",
       "  <th>Shucked Weight</th>                <td>   -0.5487</td> <td>    0.035</td> <td>  -15.826</td> <td> 0.000</td> <td>   -0.617</td> <td>   -0.481</td>\n",
       "</tr>\n",
       "<tr>\n",
       "  <th>Viscera Weight</th>                <td>   -0.1293</td> <td>    0.066</td> <td>   -1.968</td> <td> 0.049</td> <td>   -0.258</td> <td>   -0.000</td>\n",
       "</tr>\n",
       "<tr>\n",
       "  <th>Shell Weight</th>                  <td>    0.3330</td> <td>    0.049</td> <td>    6.746</td> <td> 0.000</td> <td>    0.236</td> <td>    0.430</td>\n",
       "</tr>\n",
       "<tr>\n",
       "  <th>Gender</th>                        <td>   -0.5882</td> <td>    0.043</td> <td>  -13.594</td> <td> 0.000</td> <td>   -0.673</td> <td>   -0.503</td>\n",
       "</tr>\n",
       "<tr>\n",
       "  <th>Length^2</th>                      <td>   -1.5659</td> <td>    0.394</td> <td>   -3.972</td> <td> 0.000</td> <td>   -2.339</td> <td>   -0.793</td>\n",
       "</tr>\n",
       "<tr>\n",
       "  <th>Length Diameter</th>               <td>    0.8698</td> <td>    1.010</td> <td>    0.861</td> <td> 0.389</td> <td>   -1.111</td> <td>    2.851</td>\n",
       "</tr>\n",
       "<tr>\n",
       "  <th>Length Height</th>                 <td>   -3.1203</td> <td>    2.050</td> <td>   -1.522</td> <td> 0.128</td> <td>   -7.139</td> <td>    0.899</td>\n",
       "</tr>\n",
       "<tr>\n",
       "  <th>Length Weight</th>                 <td>   -0.1050</td> <td>    0.055</td> <td>   -1.915</td> <td> 0.056</td> <td>   -0.212</td> <td>    0.003</td>\n",
       "</tr>\n",
       "<tr>\n",
       "  <th>Length Shucked Weight</th>         <td>    0.3777</td> <td>    0.065</td> <td>    5.854</td> <td> 0.000</td> <td>    0.251</td> <td>    0.504</td>\n",
       "</tr>\n",
       "<tr>\n",
       "  <th>Length Viscera Weight</th>         <td>   -0.0023</td> <td>    0.095</td> <td>   -0.024</td> <td> 0.981</td> <td>   -0.188</td> <td>    0.184</td>\n",
       "</tr>\n",
       "<tr>\n",
       "  <th>Length Shell Weight</th>           <td>   -0.3036</td> <td>    0.084</td> <td>   -3.625</td> <td> 0.000</td> <td>   -0.468</td> <td>   -0.139</td>\n",
       "</tr>\n",
       "<tr>\n",
       "  <th>Length Age</th>                    <td>    0.7435</td> <td>    0.030</td> <td>   24.454</td> <td> 0.000</td> <td>    0.684</td> <td>    0.803</td>\n",
       "</tr>\n",
       "<tr>\n",
       "  <th>Length Gender</th>                 <td>    0.9231</td> <td>    0.210</td> <td>    4.394</td> <td> 0.000</td> <td>    0.511</td> <td>    1.335</td>\n",
       "</tr>\n",
       "<tr>\n",
       "  <th>Diameter^2</th>                    <td>   -3.8738</td> <td>    0.943</td> <td>   -4.106</td> <td> 0.000</td> <td>   -5.724</td> <td>   -2.024</td>\n",
       "</tr>\n",
       "<tr>\n",
       "  <th>Diameter Height</th>               <td>   -4.3349</td> <td>    2.485</td> <td>   -1.745</td> <td> 0.081</td> <td>   -9.207</td> <td>    0.537</td>\n",
       "</tr>\n",
       "<tr>\n",
       "  <th>Diameter Weight</th>               <td>   -0.0003</td> <td>    0.067</td> <td>   -0.004</td> <td> 0.997</td> <td>   -0.131</td> <td>    0.130</td>\n",
       "</tr>\n",
       "<tr>\n",
       "  <th>Diameter Shucked Weight</th>       <td>    0.1002</td> <td>    0.080</td> <td>    1.258</td> <td> 0.208</td> <td>   -0.056</td> <td>    0.256</td>\n",
       "</tr>\n",
       "<tr>\n",
       "  <th>Diameter Viscera Weight</th>       <td>    0.1907</td> <td>    0.117</td> <td>    1.628</td> <td> 0.104</td> <td>   -0.039</td> <td>    0.420</td>\n",
       "</tr>\n",
       "<tr>\n",
       "  <th>Diameter Shell Weight</th>         <td>    0.0436</td> <td>    0.099</td> <td>    0.441</td> <td> 0.660</td> <td>   -0.151</td> <td>    0.238</td>\n",
       "</tr>\n",
       "<tr>\n",
       "  <th>Diameter Age</th>                  <td>    0.0988</td> <td>    0.041</td> <td>    2.395</td> <td> 0.017</td> <td>    0.018</td> <td>    0.180</td>\n",
       "</tr>\n",
       "<tr>\n",
       "  <th>Diameter Gender</th>               <td>   -0.4427</td> <td>    0.256</td> <td>   -1.729</td> <td> 0.084</td> <td>   -0.945</td> <td>    0.059</td>\n",
       "</tr>\n",
       "<tr>\n",
       "  <th>Height^2</th>                      <td>   -0.2685</td> <td>    0.099</td> <td>   -2.711</td> <td> 0.007</td> <td>   -0.463</td> <td>   -0.074</td>\n",
       "</tr>\n",
       "<tr>\n",
       "  <th>Height Weight</th>                 <td>   -0.2229</td> <td>    0.059</td> <td>   -3.755</td> <td> 0.000</td> <td>   -0.339</td> <td>   -0.106</td>\n",
       "</tr>\n",
       "<tr>\n",
       "  <th>Height Shucked Weight</th>         <td>    0.4076</td> <td>    0.071</td> <td>    5.731</td> <td> 0.000</td> <td>    0.268</td> <td>    0.547</td>\n",
       "</tr>\n",
       "<tr>\n",
       "  <th>Height Viscera Weight</th>         <td>    0.3092</td> <td>    0.112</td> <td>    2.772</td> <td> 0.006</td> <td>    0.090</td> <td>    0.528</td>\n",
       "</tr>\n",
       "<tr>\n",
       "  <th>Height Shell Weight</th>           <td>    0.1365</td> <td>    0.074</td> <td>    1.838</td> <td> 0.066</td> <td>   -0.009</td> <td>    0.282</td>\n",
       "</tr>\n",
       "<tr>\n",
       "  <th>Height Age</th>                    <td>    0.3887</td> <td>    0.039</td> <td>   10.060</td> <td> 0.000</td> <td>    0.313</td> <td>    0.464</td>\n",
       "</tr>\n",
       "<tr>\n",
       "  <th>Height Gender</th>                 <td>   -0.2483</td> <td>    0.288</td> <td>   -0.863</td> <td> 0.388</td> <td>   -0.812</td> <td>    0.316</td>\n",
       "</tr>\n",
       "<tr>\n",
       "  <th>Weight^2</th>                      <td>    0.0018</td> <td>    0.000</td> <td>    4.799</td> <td> 0.000</td> <td>    0.001</td> <td>    0.003</td>\n",
       "</tr>\n",
       "<tr>\n",
       "  <th>Weight Shucked Weight</th>         <td>   -0.0075</td> <td>    0.001</td> <td>   -7.305</td> <td> 0.000</td> <td>   -0.010</td> <td>   -0.005</td>\n",
       "</tr>\n",
       "<tr>\n",
       "  <th>Weight Viscera Weight</th>         <td>    0.0066</td> <td>    0.002</td> <td>    3.464</td> <td> 0.001</td> <td>    0.003</td> <td>    0.010</td>\n",
       "</tr>\n",
       "<tr>\n",
       "  <th>Weight Shell Weight</th>           <td>    0.0078</td> <td>    0.001</td> <td>    5.425</td> <td> 0.000</td> <td>    0.005</td> <td>    0.011</td>\n",
       "</tr>\n",
       "<tr>\n",
       "  <th>Weight Age</th>                    <td>   -0.0106</td> <td>    0.001</td> <td>  -11.074</td> <td> 0.000</td> <td>   -0.012</td> <td>   -0.009</td>\n",
       "</tr>\n",
       "<tr>\n",
       "  <th>Weight Gender</th>                 <td>   -0.0642</td> <td>    0.011</td> <td>   -6.032</td> <td> 0.000</td> <td>   -0.085</td> <td>   -0.043</td>\n",
       "</tr>\n",
       "<tr>\n",
       "  <th>Shucked Weight^2</th>              <td>    0.0024</td> <td>    0.001</td> <td>    3.029</td> <td> 0.002</td> <td>    0.001</td> <td>    0.004</td>\n",
       "</tr>\n",
       "<tr>\n",
       "  <th>Shucked Weight Viscera Weight</th> <td>   -0.0122</td> <td>    0.002</td> <td>   -5.257</td> <td> 0.000</td> <td>   -0.017</td> <td>   -0.008</td>\n",
       "</tr>\n",
       "<tr>\n",
       "  <th>Shucked Weight Shell Weight</th>   <td>   -0.0019</td> <td>    0.002</td> <td>   -0.976</td> <td> 0.329</td> <td>   -0.006</td> <td>    0.002</td>\n",
       "</tr>\n",
       "<tr>\n",
       "  <th>Shucked Weight Age</th>            <td>   -0.0019</td> <td>    0.001</td> <td>   -1.379</td> <td> 0.168</td> <td>   -0.005</td> <td>    0.001</td>\n",
       "</tr>\n",
       "<tr>\n",
       "  <th>Shucked Weight Gender</th>         <td>    0.0919</td> <td>    0.012</td> <td>    7.429</td> <td> 0.000</td> <td>    0.068</td> <td>    0.116</td>\n",
       "</tr>\n",
       "<tr>\n",
       "  <th>Viscera Weight^2</th>              <td>   -0.0049</td> <td>    0.003</td> <td>   -1.921</td> <td> 0.055</td> <td>   -0.010</td> <td>    0.000</td>\n",
       "</tr>\n",
       "<tr>\n",
       "  <th>Viscera Weight Shell Weight</th>   <td>   -0.0115</td> <td>    0.003</td> <td>   -3.541</td> <td> 0.000</td> <td>   -0.018</td> <td>   -0.005</td>\n",
       "</tr>\n",
       "<tr>\n",
       "  <th>Viscera Weight Age</th>            <td>   -0.0062</td> <td>    0.002</td> <td>   -3.259</td> <td> 0.001</td> <td>   -0.010</td> <td>   -0.002</td>\n",
       "</tr>\n",
       "<tr>\n",
       "  <th>Viscera Weight Gender</th>         <td>    0.0526</td> <td>    0.019</td> <td>    2.812</td> <td> 0.005</td> <td>    0.016</td> <td>    0.089</td>\n",
       "</tr>\n",
       "<tr>\n",
       "  <th>Shell Weight^2</th>                <td>   -0.0007</td> <td>    0.001</td> <td>   -0.565</td> <td> 0.572</td> <td>   -0.003</td> <td>    0.002</td>\n",
       "</tr>\n",
       "<tr>\n",
       "  <th>Shell Weight Age</th>              <td>   -0.0091</td> <td>    0.001</td> <td>   -6.759</td> <td> 0.000</td> <td>   -0.012</td> <td>   -0.006</td>\n",
       "</tr>\n",
       "<tr>\n",
       "  <th>Shell Weight Gender</th>           <td>   -0.0214</td> <td>    0.016</td> <td>   -1.326</td> <td> 0.185</td> <td>   -0.053</td> <td>    0.010</td>\n",
       "</tr>\n",
       "<tr>\n",
       "  <th>Age^2</th>                         <td>    0.0043</td> <td>    0.000</td> <td>   10.484</td> <td> 0.000</td> <td>    0.003</td> <td>    0.005</td>\n",
       "</tr>\n",
       "<tr>\n",
       "  <th>Age Gender</th>                    <td>    0.0895</td> <td>    0.005</td> <td>   19.536</td> <td> 0.000</td> <td>    0.080</td> <td>    0.098</td>\n",
       "</tr>\n",
       "<tr>\n",
       "  <th>Gender^2</th>                      <td>   -0.5882</td> <td>    0.043</td> <td>  -13.594</td> <td> 0.000</td> <td>   -0.673</td> <td>   -0.503</td>\n",
       "</tr>\n",
       "</table>\n",
       "<table class=\"simpletable\">\n",
       "<tr>\n",
       "  <th>Omnibus:</th>       <td>587.266</td> <th>  Durbin-Watson:     </th> <td>   1.954</td> \n",
       "</tr>\n",
       "<tr>\n",
       "  <th>Prob(Omnibus):</th> <td> 0.000</td>  <th>  Jarque-Bera (JB):  </th> <td>13192.218</td>\n",
       "</tr>\n",
       "<tr>\n",
       "  <th>Skew:</th>          <td> 0.252</td>  <th>  Prob(JB):          </th> <td>    0.00</td> \n",
       "</tr>\n",
       "<tr>\n",
       "  <th>Kurtosis:</th>      <td>13.071</td>  <th>  Cond. No.          </th> <td>1.41e+16</td> \n",
       "</tr>\n",
       "</table><br/><br/>Notes:<br/>[1] Standard Errors assume that the covariance matrix of the errors is correctly specified.<br/>[2] The smallest eigenvalue is 2.87e-23. This might indicate that there are<br/>strong multicollinearity problems or that the design matrix is singular."
      ],
      "text/plain": [
       "<class 'statsmodels.iolib.summary.Summary'>\n",
       "\"\"\"\n",
       "                            OLS Regression Results                            \n",
       "==============================================================================\n",
       "Dep. Variable:                    Age   R-squared:                       0.997\n",
       "Model:                            OLS   Adj. R-squared:                  0.997\n",
       "Method:                 Least Squares   F-statistic:                 1.808e+04\n",
       "Date:                Sat, 21 May 2022   Prob (F-statistic):               0.00\n",
       "Time:                        17:29:40   Log-Likelihood:                 834.94\n",
       "No. Observations:                3114   AIC:                            -1564.\n",
       "Df Residuals:                    3061   BIC:                            -1244.\n",
       "Df Model:                          52                                         \n",
       "Covariance Type:            nonrobust                                         \n",
       "=================================================================================================\n",
       "                                    coef    std err          t      P>|t|      [0.025      0.975]\n",
       "-------------------------------------------------------------------------------------------------\n",
       "const                             2.8979      0.146     19.856      0.000       2.612       3.184\n",
       "Length                           -2.5664      0.687     -3.735      0.000      -3.914      -1.219\n",
       "Diameter                          5.2944      0.847      6.248      0.000       3.633       6.956\n",
       "Height                            3.4952      0.874      3.998      0.000       1.781       5.209\n",
       "Weight                            0.2297      0.031      7.479      0.000       0.169       0.290\n",
       "Shucked Weight                   -0.5487      0.035    -15.826      0.000      -0.617      -0.481\n",
       "Viscera Weight                   -0.1293      0.066     -1.968      0.049      -0.258      -0.000\n",
       "Shell Weight                      0.3330      0.049      6.746      0.000       0.236       0.430\n",
       "Gender                           -0.5882      0.043    -13.594      0.000      -0.673      -0.503\n",
       "Length^2                         -1.5659      0.394     -3.972      0.000      -2.339      -0.793\n",
       "Length Diameter                   0.8698      1.010      0.861      0.389      -1.111       2.851\n",
       "Length Height                    -3.1203      2.050     -1.522      0.128      -7.139       0.899\n",
       "Length Weight                    -0.1050      0.055     -1.915      0.056      -0.212       0.003\n",
       "Length Shucked Weight             0.3777      0.065      5.854      0.000       0.251       0.504\n",
       "Length Viscera Weight            -0.0023      0.095     -0.024      0.981      -0.188       0.184\n",
       "Length Shell Weight              -0.3036      0.084     -3.625      0.000      -0.468      -0.139\n",
       "Length Age                        0.7435      0.030     24.454      0.000       0.684       0.803\n",
       "Length Gender                     0.9231      0.210      4.394      0.000       0.511       1.335\n",
       "Diameter^2                       -3.8738      0.943     -4.106      0.000      -5.724      -2.024\n",
       "Diameter Height                  -4.3349      2.485     -1.745      0.081      -9.207       0.537\n",
       "Diameter Weight                  -0.0003      0.067     -0.004      0.997      -0.131       0.130\n",
       "Diameter Shucked Weight           0.1002      0.080      1.258      0.208      -0.056       0.256\n",
       "Diameter Viscera Weight           0.1907      0.117      1.628      0.104      -0.039       0.420\n",
       "Diameter Shell Weight             0.0436      0.099      0.441      0.660      -0.151       0.238\n",
       "Diameter Age                      0.0988      0.041      2.395      0.017       0.018       0.180\n",
       "Diameter Gender                  -0.4427      0.256     -1.729      0.084      -0.945       0.059\n",
       "Height^2                         -0.2685      0.099     -2.711      0.007      -0.463      -0.074\n",
       "Height Weight                    -0.2229      0.059     -3.755      0.000      -0.339      -0.106\n",
       "Height Shucked Weight             0.4076      0.071      5.731      0.000       0.268       0.547\n",
       "Height Viscera Weight             0.3092      0.112      2.772      0.006       0.090       0.528\n",
       "Height Shell Weight               0.1365      0.074      1.838      0.066      -0.009       0.282\n",
       "Height Age                        0.3887      0.039     10.060      0.000       0.313       0.464\n",
       "Height Gender                    -0.2483      0.288     -0.863      0.388      -0.812       0.316\n",
       "Weight^2                          0.0018      0.000      4.799      0.000       0.001       0.003\n",
       "Weight Shucked Weight            -0.0075      0.001     -7.305      0.000      -0.010      -0.005\n",
       "Weight Viscera Weight             0.0066      0.002      3.464      0.001       0.003       0.010\n",
       "Weight Shell Weight               0.0078      0.001      5.425      0.000       0.005       0.011\n",
       "Weight Age                       -0.0106      0.001    -11.074      0.000      -0.012      -0.009\n",
       "Weight Gender                    -0.0642      0.011     -6.032      0.000      -0.085      -0.043\n",
       "Shucked Weight^2                  0.0024      0.001      3.029      0.002       0.001       0.004\n",
       "Shucked Weight Viscera Weight    -0.0122      0.002     -5.257      0.000      -0.017      -0.008\n",
       "Shucked Weight Shell Weight      -0.0019      0.002     -0.976      0.329      -0.006       0.002\n",
       "Shucked Weight Age               -0.0019      0.001     -1.379      0.168      -0.005       0.001\n",
       "Shucked Weight Gender             0.0919      0.012      7.429      0.000       0.068       0.116\n",
       "Viscera Weight^2                 -0.0049      0.003     -1.921      0.055      -0.010       0.000\n",
       "Viscera Weight Shell Weight      -0.0115      0.003     -3.541      0.000      -0.018      -0.005\n",
       "Viscera Weight Age               -0.0062      0.002     -3.259      0.001      -0.010      -0.002\n",
       "Viscera Weight Gender             0.0526      0.019      2.812      0.005       0.016       0.089\n",
       "Shell Weight^2                   -0.0007      0.001     -0.565      0.572      -0.003       0.002\n",
       "Shell Weight Age                 -0.0091      0.001     -6.759      0.000      -0.012      -0.006\n",
       "Shell Weight Gender              -0.0214      0.016     -1.326      0.185      -0.053       0.010\n",
       "Age^2                             0.0043      0.000     10.484      0.000       0.003       0.005\n",
       "Age Gender                        0.0895      0.005     19.536      0.000       0.080       0.098\n",
       "Gender^2                         -0.5882      0.043    -13.594      0.000      -0.673      -0.503\n",
       "==============================================================================\n",
       "Omnibus:                      587.266   Durbin-Watson:                   1.954\n",
       "Prob(Omnibus):                  0.000   Jarque-Bera (JB):            13192.218\n",
       "Skew:                           0.252   Prob(JB):                         0.00\n",
       "Kurtosis:                      13.071   Cond. No.                     1.41e+16\n",
       "==============================================================================\n",
       "\n",
       "Notes:\n",
       "[1] Standard Errors assume that the covariance matrix of the errors is correctly specified.\n",
       "[2] The smallest eigenvalue is 2.87e-23. This might indicate that there are\n",
       "strong multicollinearity problems or that the design matrix is singular.\n",
       "\"\"\""
      ]
     },
     "execution_count": 106,
     "metadata": {},
     "output_type": "execute_result"
    }
   ],
   "source": [
    "ols_sm = sm.OLS(y_train_poly, sm.add_constant(x_train_poly))\n",
    "ols_sm_results = ols_sm.fit()\n",
    "ols_sm_results.summary()"
   ]
  },
  {
   "cell_type": "code",
   "execution_count": 107,
   "id": "5fd10106",
   "metadata": {
    "scrolled": false
   },
   "outputs": [
    {
     "data": {
      "text/plain": [
       "Text(0, 0.5, 'Predicted Age')"
      ]
     },
     "execution_count": 107,
     "metadata": {},
     "output_type": "execute_result"
    },
    {
     "data": {
      "image/png": "[encoded data removed]",
      "text/plain": [
       "<Figure size 1080x288 with 1 Axes>"
      ]
     },
     "metadata": {
      "needs_background": "light"
     },
     "output_type": "display_data"
    }
   ],
   "source": [
    "fig = plt.figure(figsize=(15,4))\n",
    "sns.regplot(x=y_test_poly, y=lr.predict(x_test_poly), \n",
    "            scatter_kws={'alpha':0.5},\n",
    "            line_kws={'color': 'red'},\n",
    "            lowess=True)\n",
    "plt.xlabel('True Age')\n",
    "plt.ylabel('Predicted Age')"
   ]
  },
  {
   "cell_type": "code",
   "execution_count": 108,
   "id": "10487784",
   "metadata": {
    "scrolled": true
   },
   "outputs": [
    {
     "data": {
      "text/plain": [
       "0.03930099194986923"
      ]
     },
     "execution_count": 108,
     "metadata": {},
     "output_type": "execute_result"
    }
   ],
   "source": [
    "poly_MSE = mean_squared_error(y_test_poly, lr.predict(x_test_poly)) # y_true, y_pred error\n",
    "poly_MSE"
   ]
  },
  {
   "cell_type": "markdown",
   "id": "45e91633",
   "metadata": {},
   "source": [
    "## K-fold"
   ]
  },
  {
   "cell_type": "code",
   "execution_count": 109,
   "id": "666ced97",
   "metadata": {},
   "outputs": [],
   "source": [
    "from sklearn.model_selection import KFold\n",
    "\n",
    "kfold = KFold(n_splits=10, shuffle=True, random_state=42)"
   ]
  },
  {
   "cell_type": "code",
   "execution_count": 110,
   "id": "183088a8",
   "metadata": {
    "scrolled": true
   },
   "outputs": [],
   "source": [
    "kf_MSE_list = []\n",
    "    \n",
    "for train_index, test_index in kfold.split(x):\n",
    "    x_train, x_test = x.iloc[train_index], x.iloc[test_index]\n",
    "    y_train, y_test = y.iloc[train_index], y.iloc[test_index]\n",
    "    \n",
    "    kf = LinearRegression(fit_intercept=True)\n",
    "    kf.fit(x_train, y_train)\n",
    "    kf_MSE = mean_squared_error(y_test,kf.predict(x_test))\n",
    "    kf_MSE_list.append(kf_MSE)"
   ]
  },
  {
   "cell_type": "code",
   "execution_count": 111,
   "id": "824dbe33",
   "metadata": {},
   "outputs": [
    {
     "data": {
      "image/png": "[encoded data removed]",
      "text/plain": [
       "<Figure size 720x288 with 1 Axes>"
      ]
     },
     "metadata": {
      "needs_background": "light"
     },
     "output_type": "display_data"
    }
   ],
   "source": [
    "fig = plt.figure(figsize=(10,4))\n",
    "plt.plot(kf_MSE_list, c = 'red', linestyle = '--', marker = 'o', markersize = 7)\n",
    "plt.xlabel('num')\n",
    "plt.ylabel('MSE')\n",
    "plt.show()"
   ]
  },
  {
   "cell_type": "code",
   "execution_count": 112,
   "id": "77f9f0de",
   "metadata": {
    "scrolled": true
   },
   "outputs": [
    {
     "data": {
      "text/plain": [
       "4.922211747212089"
      ]
     },
     "execution_count": 112,
     "metadata": {},
     "output_type": "execute_result"
    }
   ],
   "source": [
    "kf_MSE = np.mean(kf_MSE_list)\n",
    "kf_MSE"
   ]
  },
  {
   "cell_type": "markdown",
   "id": "c2d4430b",
   "metadata": {},
   "source": [
    "## Lasso"
   ]
  },
  {
   "cell_type": "code",
   "execution_count": 113,
   "id": "bb3543e3",
   "metadata": {},
   "outputs": [],
   "source": [
    "alpha = 10 ** np.linspace(1, -3, 100)"
   ]
  },
  {
   "cell_type": "code",
   "execution_count": 114,
   "id": "12dd5419",
   "metadata": {},
   "outputs": [],
   "source": [
    "lasso_mse_list = []\n",
    "x_train, x_test, y_train, y_test = train_test_split(x,y, train_size = 0.7, test_size = 0.3, random_state=42)\n",
    "\n",
    "for i in alpha:  \n",
    "  lasso = Lasso(alpha = i)\n",
    "  lasso.fit(x_train, y_train)\n",
    "  lasso_MSE = mean_squared_error(y_test, lasso.predict(x_test))\n",
    "  lasso_mse_list.append(lasso_MSE)"
   ]
  },
  {
   "cell_type": "code",
   "execution_count": 115,
   "id": "b3854e10",
   "metadata": {
    "scrolled": false
   },
   "outputs": [
    {
     "data": {
      "text/plain": [
       "Text(0, 0.5, 'MSE')"
      ]
     },
     "execution_count": 115,
     "metadata": {},
     "output_type": "execute_result"
    },
    {
     "data": {
      "image/png": "[encoded data removed]",
      "text/plain": [
       "<Figure size 1080x288 with 1 Axes>"
      ]
     },
     "metadata": {
      "needs_background": "light"
     },
     "output_type": "display_data"
    }
   ],
   "source": [
    "m = min(lasso_mse_list)\n",
    "\n",
    "fig = plt.figure(figsize=(15,4))\n",
    "plt.plot(alpha, lasso_mse_list)\n",
    "plt.plot(lasso_mse_list[::-1].index(m), m, 'or')\n",
    "plt.xticks([10**(-3), 1, 5, 10])\n",
    "plt.xlabel('λ')\n",
    "plt.ylabel('MSE')"
   ]
  },
  {
   "cell_type": "code",
   "execution_count": 116,
   "id": "b1573f50",
   "metadata": {
    "scrolled": false
   },
   "outputs": [
    {
     "data": {
      "text/plain": [
       "0.001"
      ]
     },
     "execution_count": 116,
     "metadata": {},
     "output_type": "execute_result"
    }
   ],
   "source": [
    "lasso_cv = LassoCV(alphas=alpha, normalize=True, max_iter=1000)\n",
    "lasso_cv.fit(x_train, y_train)\n",
    "lasso_cv.alpha_"
   ]
  },
  {
   "cell_type": "code",
   "execution_count": 117,
   "id": "e6f2d372",
   "metadata": {
    "scrolled": true
   },
   "outputs": [
    {
     "data": {
      "text/plain": [
       "Length            0.000000\n",
       "Diameter          3.088959\n",
       "Height            3.363224\n",
       "Weight            0.000000\n",
       "Shucked Weight   -0.327673\n",
       "Viscera Weight   -0.000000\n",
       "Shell Weight      0.654297\n",
       "Gender           -0.852253\n",
       "dtype: float64"
      ]
     },
     "execution_count": 117,
     "metadata": {},
     "output_type": "execute_result"
    }
   ],
   "source": [
    "lasso = Lasso(alpha=lasso_cv.alpha_, normalize=True)\n",
    "lasso_fit = lasso.fit(x_train, y_train)\n",
    "\n",
    "pd.Series(lasso_fit.coef_, index = x.columns)"
   ]
  },
  {
   "cell_type": "code",
   "execution_count": 118,
   "id": "416ef160",
   "metadata": {
    "scrolled": true
   },
   "outputs": [
    {
     "data": {
      "text/plain": [
       "4.980484823754432"
      ]
     },
     "execution_count": 118,
     "metadata": {},
     "output_type": "execute_result"
    }
   ],
   "source": [
    "lasso_MSE = mean_squared_error(y_test,lasso_cv.predict(x_test))\n",
    "lasso_MSE"
   ]
  },
  {
   "cell_type": "markdown",
   "id": "de2d0070",
   "metadata": {},
   "source": [
    "## Compare MSE"
   ]
  },
  {
   "cell_type": "code",
   "execution_count": 119,
   "id": "b664c9c2",
   "metadata": {},
   "outputs": [],
   "source": [
    "x_axis = ['Multi Regression', 'Polynomial Regression', 'K-fold', 'Lasso']\n",
    "y_axis = [multi_MSE, poly_MSE, kf_MSE, lasso_MSE]"
   ]
  },
  {
   "cell_type": "code",
   "execution_count": 120,
   "id": "c4803201",
   "metadata": {
    "scrolled": true
   },
   "outputs": [
    {
     "data": {
      "image/png": "[encoded data removed]",
      "text/plain": [
       "<Figure size 720x288 with 1 Axes>"
      ]
     },
     "metadata": {
      "needs_background": "light"
     },
     "output_type": "display_data"
    }
   ],
   "source": [
    "fig = plt.figure(figsize=(10,4))\n",
    "plt.plot(x_axis, y_axis, c = 'red', linestyle = '--', marker = 'o', markersize = 7)\n",
    "plt.xlabel('Model')\n",
    "plt.ylabel('MSE')\n",
    "plt.show()"
   ]
  }
 ],
 "metadata": {
  "kernelspec": {
   "display_name": "Python 3 (ipykernel)",
   "language": "python",
   "name": "python3"
  },
  "language_info": {
   "codemirror_mode": {
    "name": "ipython",
    "version": 3
   },
   "file_extension": ".py",
   "mimetype": "text/x-python",
   "name": "python",
   "nbconvert_exporter": "python",
   "pygments_lexer": "ipython3",
   "version": "3.9.7"
  }
 },
 "nbformat": 4,
 "nbformat_minor": 5
}
