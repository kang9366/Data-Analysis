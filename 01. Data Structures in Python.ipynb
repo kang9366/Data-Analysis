{
 "cells": [
  {
   "cell_type": "markdown",
   "id": "94e698b1",
   "metadata": {},
   "source": [
    "# List"
   ]
  },
  {
   "cell_type": "code",
   "execution_count": 2,
   "id": "9b1e8f54",
   "metadata": {},
   "outputs": [
    {
     "data": {
      "text/plain": [
       "([1, 2, 3, 4, 5], ['blockdmask', 2, 4, 'blog'], [])"
      ]
     },
     "execution_count": 2,
     "metadata": {},
     "output_type": "execute_result"
    }
   ],
   "source": [
    "# make list\n",
    "a = [1, 2, 3, 4, 5]\n",
    "b = ['blockdmask', 2, 4, 'blog']\n",
    "c = list() # empty list\n",
    "\n",
    "a, b, c"
   ]
  },
  {
   "cell_type": "code",
   "execution_count": 1,
   "id": "699a2a79",
   "metadata": {},
   "outputs": [
    {
     "data": {
      "text/plain": [
       "[]"
      ]
     },
     "execution_count": 1,
     "metadata": {},
     "output_type": "execute_result"
    }
   ],
   "source": [
    "# list calculation\n",
    "a = [\"BlockDMask\", 333]\n",
    "b = [1, 2, 3]\n",
    "\n",
    "# sum of two lists connects the two lists into one list\n",
    "a + b\n",
    "\n",
    "# multiply of lists repeats the list n times\n",
    "c = [1, 2, 3]\n",
    "d = c * 3\n",
    "d\n",
    "\n",
    "# If list multiply 0, it makes list empty\n",
    "e = a * 0\n",
    "e"
   ]
  },
  {
   "cell_type": "code",
   "execution_count": 6,
   "id": "7f7aba1f",
   "metadata": {},
   "outputs": [
    {
     "data": {
      "text/plain": [
       "105"
      ]
     },
     "execution_count": 6,
     "metadata": {},
     "output_type": "execute_result"
    }
   ],
   "source": [
    "# index slicing\n",
    "# the index of list starts from 0\n",
    "a = [101, 102, 'b', 'l', 'o', 103, 104, 105]\n",
    "\n",
    "# If the index is negative, access the element at the back\n",
    "a[-1]"
   ]
  },
  {
   "cell_type": "code",
   "execution_count": null,
   "id": "f6f3dfa6",
   "metadata": {},
   "outputs": [],
   "source": [
    "# list functions\n",
    "a = [1, 2, 3, 4, 5]\n",
    "\n",
    "# length of list\n",
    "len(a)\n",
    "\n",
    "# delete particular elements or range of list\n",
    "del(a[4])\n",
    "del(a[0:1])\n",
    "a\n",
    "\n",
    "# add element to list\n",
    "a.append('a') # it adds elements at the end of list\n",
    "\n",
    "# add element in certain index\n",
    "a.insert(1, 3) # first parameter is index num and second parameter is value that you want to add\n",
    "\n",
    "# delete certain value\n",
    "a.remove('a') # if there isn't certain value, it will occur error\n",
    "\n",
    "# return value and delete last element of list\n",
    "a.pop()\n",
    "\n",
    "# connect another list\n",
    "b = [7, 8, 9, 10]\n",
    "a.extend(b)\n",
    "\n",
    "# list copy\n",
    "c = a.copy()\n",
    "c\n",
    "\n",
    "# reverse\n",
    "a.reverse()\n",
    "\n",
    "# ascending sort\n",
    "# In order to use this method, list must have same type of element\n",
    "a.sort()\n",
    "\n",
    "# count the number of certain value\n",
    "a.count(1)\n",
    "\n",
    "# return index number using certain value\n",
    "# If there are same values, it returns the first index\n",
    "# If there isn't certain value, it will occur error\n",
    "a.index(2)\n",
    "\n",
    "# remove all elements of index\n",
    "a.clear()"
   ]
  },
  {
   "cell_type": "markdown",
   "id": "c2b68177",
   "metadata": {},
   "source": [
    "# Tuple"
   ]
  },
  {
   "cell_type": "code",
   "execution_count": 10,
   "id": "20f4ca67",
   "metadata": {},
   "outputs": [
    {
     "name": "stdout",
     "output_type": "stream",
     "text": [
      "(1, 2, 3, 1, 2, 3) (1, 2, 3, 1, 2, 3)\n",
      "3\n",
      "1\n",
      "0\n",
      "(0,)\n"
     ]
    }
   ],
   "source": [
    "t = (1, 2, 3)\n",
    "\n",
    "print(t+t, t*2)\n",
    "print(len(t))\n",
    "print(t[0])\n",
    "\n",
    "#tuple은 값 변경 불가\n",
    "#t[0] = 4 --> error\n",
    "\n",
    "#길이가 1인 tuple만들기\n",
    "t1 = (0) #t1 = 0으로 인식\n",
    "t2 = (0,)\n",
    "print(t1)\n",
    "print(t2)"
   ]
  },
  {
   "cell_type": "markdown",
   "id": "3592d01f",
   "metadata": {},
   "source": [
    "# Set"
   ]
  },
  {
   "cell_type": "code",
   "execution_count": 11,
   "id": "ad421336",
   "metadata": {},
   "outputs": [
    {
     "name": "stdout",
     "output_type": "stream",
     "text": [
      "합집합 : {1, 2, 3, 4, 5, 6, 7, 9, 10}\n",
      "교집합 : {5, 7}\n",
      "차집합 : {2, 10, 4, 6}\n",
      "합집합 : {1, 2, 3, 4, 5, 6, 7, 9, 10}\n",
      "교집합 : {5, 7}\n",
      "차집합 : {2, 10, 4, 6}\n"
     ]
    }
   ],
   "source": [
    "s1 = {1,2,3,4,4}\n",
    "s1.add(10)\n",
    "s1.remove(1)\n",
    "s1.discard(3)\n",
    "s1.update([4,5,6,7])\n",
    "\n",
    "s3 = {1,3,5,7,9}\n",
    "print(\"합집합 : \" + str(s1.union(s3)))\n",
    "print(\"교집합 : \" + str(s1.intersection(s3)))\n",
    "print(\"차집합 : \" + str(s1.difference(s3)))\n",
    "\n",
    "print(\"합집합 : \" + str(s1 | s3))\n",
    "print(\"교집합 : \" + str(s1 & s3))\n",
    "print(\"차집합 : \" + str(s1 - s3))"
   ]
  },
  {
   "cell_type": "markdown",
   "id": "9a454d02",
   "metadata": {},
   "source": [
    "# Dictionary"
   ]
  },
  {
   "cell_type": "code",
   "execution_count": 12,
   "id": "d04d5733",
   "metadata": {},
   "outputs": [
    {
     "name": "stdout",
     "output_type": "stream",
     "text": [
      "82\n",
      "dict_keys(['Korea', 'US', 'China', 'Germany'])\n",
      "dict_values([82, 1, 86, 81])\n",
      "dict_items([('Korea', 82), ('US', 1), ('China', 86), ('Germany', 81)])\n",
      "key :  Korea value :  82\n",
      "key :  US value :  1\n",
      "key :  China value :  86\n",
      "key :  Germany value :  81\n",
      "Korea is exist\n"
     ]
    }
   ],
   "source": [
    "c_code = {'Korea' : 82, 'US' : 1, 'China' : 86, 'Germany' : 81}\n",
    "print(c_code['Korea']) #value값 출력\n",
    "print(c_code.keys())\n",
    "print(c_code.values())\n",
    "print(c_code.items())\n",
    "\n",
    "for k, v in c_code.items():\n",
    "    print(\"key : \", k, \"value : \", v)\n",
    "\n",
    "if 'Korea' in c_code.keys():\n",
    "    print(\"Korea is exist\")\n",
    "else:\n",
    "    print('Korea is not exist')"
   ]
  },
  {
   "cell_type": "markdown",
   "id": "28200216",
   "metadata": {},
   "source": [
    "# Default Dict\n",
    "\n",
    "defaultdict는 딕셔너리(dictionary)와 거의 비슷하지만 key값이 없을 경우 미리 지정해 놓은 초기(default)값을 반환하는 dictionary이다."
   ]
  },
  {
   "cell_type": "code",
   "execution_count": 13,
   "id": "e0e837ca",
   "metadata": {},
   "outputs": [
    {
     "name": "stdout",
     "output_type": "stream",
     "text": [
      "1 2 해당 자료 없음\n",
      "3.5\n"
     ]
    }
   ],
   "source": [
    "import collections as cln\n",
    "import pandas as pd\n",
    "\n",
    "def undefined_key():\n",
    "    return \"해당 자료 없음\"\n",
    "\n",
    "#defaultDict : 키 값이 없을 때 반환할 값을 지정하는 함수\n",
    "d = cln.defaultdict(undefined_key)\n",
    "d['a'] = 1\n",
    "d['b'] = 2\n",
    "print(d['a'], d['b'], d['c'])\n",
    "\n",
    "def myMean(*x):\n",
    "    return sum(x)/len(x)\n",
    "\n",
    "print(myMean(1,2,3,4,5,6))\n",
    "\n",
    "df1 = pd.DataFrame({\n",
    "    \"var1\" : [1, 2, 4, 4],\n",
    "    \"var2\" : [3, 4, 5, 6],\n",
    "    \"var3\" : [5, 6, 7, 8]\n",
    "}, index = ['h', 'j', 'k', 's'])\n",
    "\n",
    "df1.to_csv(\"hi.csv\")"
   ]
  },
  {
   "cell_type": "markdown",
   "id": "97859c73",
   "metadata": {},
   "source": [
    "# Counter"
   ]
  },
  {
   "cell_type": "code",
   "execution_count": null,
   "id": "15d90983",
   "metadata": {},
   "outputs": [],
   "source": [
    "import collections as cln\n",
    "\n",
    "f = open(\"/Users/kangseunggu/Desktop/BTS_Dynamite_lyrics.txt\")\n",
    "\n",
    "f = f.readlines()\n",
    "t = ''.join(f)\n",
    "\n",
    "freq = cln.Counter(t.split())\n",
    "print(freq)\n",
    "\n",
    "cc = cln.Counter({\"red\" : 4, \"black\" : 3})\n",
    "print(list(cc.elements()))\n",
    "\n",
    "dd = cln.Counter(red=3, black=4)\n",
    "print(list(dd.elements()))\n",
    "\n",
    "ee = dd + cc\n",
    "print(list(ee.elements()))\n",
    "\n",
    "ee.subtract(cc)\n",
    "print(list(ee.elements()))"
   ]
  },
  {
   "cell_type": "markdown",
   "id": "2ef06a37",
   "metadata": {},
   "source": [
    "# Deque"
   ]
  },
  {
   "cell_type": "code",
   "execution_count": null,
   "id": "7de70e50",
   "metadata": {},
   "outputs": [],
   "source": [
    "score = []\n",
    "while True:\n",
    "    temp = input(\"입력 : \")\n",
    "    try:\n",
    "        if temp == \"stop\":\n",
    "            break\n",
    "        elif int(temp) > 100 or int(temp) < 0:\n",
    "            print(\"잘못 입력\")\n",
    "        else:\n",
    "            score.append(int(temp))\n",
    "    except ValueError as e:\n",
    "        print(\"잘못 입력\")\n",
    "    \n",
    "\n",
    "rank = []\n",
    "for i in range(0, len(score)):\n",
    "    rank.append(1)\n",
    "\n",
    "print(score)"
   ]
  },
  {
   "cell_type": "markdown",
   "id": "7294b50f",
   "metadata": {},
   "source": [
    "# Named Tuple"
   ]
  },
  {
   "cell_type": "code",
   "execution_count": null,
   "id": "36e5f57d",
   "metadata": {},
   "outputs": [],
   "source": [
    "import collections as cln\n",
    "\n",
    "nt = cln.namedtuple(\"Person\", ['name', 'age', 'gender'])\n",
    "\n",
    "person1 = nt(\"강승구\", 23, \"남\")\n",
    "print(\"My name is %s\\nMy age is %d\\nI'm %c\" % (person1.name, person1.age, person1.gender))"
   ]
  },
  {
   "cell_type": "markdown",
   "id": "aa38b61f",
   "metadata": {},
   "source": [
    "# Ordered Dict"
   ]
  },
  {
   "cell_type": "code",
   "execution_count": null,
   "id": "3a8c58ed",
   "metadata": {},
   "outputs": [],
   "source": [
    "import collections as cln\n",
    "\n",
    "d1 = {}\n",
    "d1['x'] = 100\n",
    "d1['l'] = 500\n",
    "d1['y'] = 200\n",
    "d1['z'] = 300\n",
    "\n",
    "for k, v in d1.items():\n",
    "    print(k, v)\n",
    "\n",
    "print(\"===============================\")\n",
    "\n",
    "d2 = cln.OrderedDict()\n",
    "d2['x'] = 100\n",
    "d2['l'] = 200\n",
    "d2['z'] = 300\n",
    "d2['y'] = 500\n",
    "for k, v in d2.items():\n",
    "    print(k, v)\n",
    "\n",
    "def sort_by_key(mydict):\n",
    "    return mydict[0]\n",
    "\n",
    "def sort_by_value(mydict):\n",
    "    return mydict[1]\n",
    "\n",
    "d = {}\n",
    "d['l'] = 100\n",
    "d['x'] = 200\n",
    "d['y'] = 300\n",
    "d['z'] = 500\n",
    "print(\"key에 의한 정렬\")\n",
    "for k, v in cln.OrderedDict(sorted(d.items(), key = sort_by_key, reverse=False)).items():\n",
    "    print(k, v)\n",
    "\n",
    "print(\"\\nvalue에 의한 정렬\")\n",
    "for k, v in cln.OrderedDict(sorted(d.items(), key = sort_by_value, reverse=True)).items():\n",
    "    print(k, v)"
   ]
  }
 ],
 "metadata": {
  "kernelspec": {
   "display_name": "Python 3 (ipykernel)",
   "language": "python",
   "name": "python3"
  },
  "language_info": {
   "codemirror_mode": {
    "name": "ipython",
    "version": 3
   },
   "file_extension": ".py",
   "mimetype": "text/x-python",
   "name": "python",
   "nbconvert_exporter": "python",
   "pygments_lexer": "ipython3",
   "version": "3.9.7"
  }
 },
 "nbformat": 4,
 "nbformat_minor": 5
}
