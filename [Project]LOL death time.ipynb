{
 "cells": [
  {
   "cell_type": "markdown",
   "id": "2d949c35",
   "metadata": {},
   "source": [
    "## Riot API 발급\n",
    "https://developer.riotgames.com"
   ]
  },
  {
   "cell_type": "code",
   "execution_count": 23,
   "id": "fa74b87b",
   "metadata": {},
   "outputs": [],
   "source": [
    "import pandas as pd\n",
    "from tqdm import tqdm\n",
    "import time\n",
    "\n",
    "#API 요청\n",
    "import requests\n",
    "\n",
    "import plotly.express as px\n",
    "import plotly.graph_objects as go"
   ]
  },
  {
   "cell_type": "markdown",
   "id": "0652e084",
   "metadata": {},
   "source": [
    "## data 불러오기"
   ]
  },
  {
   "cell_type": "code",
   "execution_count": 24,
   "id": "dfdf6a20",
   "metadata": {},
   "outputs": [
    {
     "name": "stdout",
     "output_type": "stream",
     "text": [
      "nickname을 입력하세요 : 친일파김구\n"
     ]
    }
   ],
   "source": [
    "# riot_api 토큰 입력(매일 갱신해야한다.)\n",
    "riot_token = 'RGAPI-cab1dbec-984a-436e-8585-2b791de50eb6'\n",
    "nickname = input('nickname을 입력하세요 : ')"
   ]
  },
  {
   "cell_type": "code",
   "execution_count": 25,
   "id": "aa6eef0a",
   "metadata": {},
   "outputs": [],
   "source": [
    "# 소환사 정보\n",
    "req_url_summoner = f'https://kr.api.riotgames.com/lol/summoner/v4/summoners/by-name/{nickname}?api_key={riot_token}'\n",
    "\n",
    "summoner_data = requests.get(req_url_summoner)\n",
    "# summoner_data.json()"
   ]
  },
  {
   "cell_type": "code",
   "execution_count": 26,
   "id": "cab1a318",
   "metadata": {},
   "outputs": [],
   "source": [
    "summoner_id = summoner_data.json()['id'] # 지역별 소환사 고유 아이디\n",
    "puuid = summoner_data.json()['puuid'] #  소환사 고유 아이디"
   ]
  },
  {
   "cell_type": "markdown",
   "id": "94442332",
   "metadata": {},
   "source": [
    "## 게임 기록 가져오기"
   ]
  },
  {
   "cell_type": "code",
   "execution_count": 27,
   "id": "762ab2fd",
   "metadata": {},
   "outputs": [],
   "source": [
    "start = 0\n",
    "count = 100\n",
    "req_url_match = f'https://asia.api.riotgames.com/lol/match/v5/matches/by-puuid/{puuid}/ids?start={start}&count={count}&api_key={riot_token}'\n",
    "match_data = requests.get(req_url_match)"
   ]
  },
  {
   "cell_type": "code",
   "execution_count": 28,
   "id": "5a48b0a8",
   "metadata": {},
   "outputs": [
    {
     "name": "stdout",
     "output_type": "stream",
     "text": [
      "전체 불러온 게임 수 : 100\n"
     ]
    }
   ],
   "source": [
    "def get_my_index(get_data,puuid):\n",
    "    if 'metadata' not in get_data.json().keys():\n",
    "        print(get_data.json())\n",
    "    else:\n",
    "        for idx,p_id in enumerate(get_data.json()['metadata']['participants']):\n",
    "            if p_id==puuid:\n",
    "                my_idx = idx\n",
    "                return my_idx\n",
    "            else:\n",
    "                continue\n",
    "                \n",
    "print(f'전체 불러온 게임 수 : {len(match_data.json())}')"
   ]
  },
  {
   "cell_type": "code",
   "execution_count": 29,
   "id": "966ab596",
   "metadata": {},
   "outputs": [
    {
     "name": "stderr",
     "output_type": "stream",
     "text": [
      "100%|█████████████████████████████████████████| 100/100 [00:41<00:00,  2.41it/s]\n"
     ]
    }
   ],
   "source": [
    "# 클래식 게임만 담을 리스트\n",
    "classic_game_list = []\n",
    "# 데이터를 담을 빈 데이터 프레임 생성\n",
    "total_df = pd.DataFrame()\n",
    "# api 요청 횟수 조절을 위한 상수 1초에 20회 2분에 100회\n",
    "cnt = 0\n",
    "\n",
    "# 불러온 매치 아이디로 게임 데이터 요청해서 dataframe에 데이터 채우기\n",
    "for match in tqdm(match_data.json()):\n",
    "    \n",
    "    # match_data 리스트에서 match 하나를 불러와서 데이터 요청\n",
    "    match_id = match\n",
    "    req_url_match_info = f'https://asia.api.riotgames.com/lol/match/v5/matches/{match_id}?api_key={riot_token}'\n",
    "    match_info = requests.get(req_url_match_info) # 매치 데이터\n",
    "    \n",
    "    try:\n",
    "        if 'metadata' in match_info.json().keys():\n",
    "            if match_info.json()['info']['gameMode']=='CLASSIC' and match_info.json()['info']['gameType']=='MATCHED_GAME':\n",
    "                    classic_game_list.append(match_id)\n",
    "                    # match에서 나의 번호 찾기\n",
    "                    my_idx = get_my_index(get_data=match_info,puuid=puuid)\n",
    "\n",
    "                    # 유저들 정보 temp_df에 할당\n",
    "                    temp_df = pd.DataFrame.from_dict(match_info.json()['info']['participants'])\n",
    "\n",
    "                    # dataframe에서 my_idx만 추출\n",
    "                    my_series = temp_df.iloc[my_idx]\n",
    "                    my_df = pd.DataFrame(my_series).T\n",
    "\n",
    "                    # 게임길이 total_df에 추가\n",
    "                    game_length_dict = {}\n",
    "                    game_length_dict['match_id'] = match_id\n",
    "                    game_length_dict['time'] = my_df['challenges'][my_idx]['gameLength']\n",
    "                    game_length_dict['type'] = '총 게임 시간'\n",
    "                    total_df = total_df.append(game_length_dict,ignore_index=True)\n",
    "\n",
    "                    # 죽은 시간 total_df에 추가\n",
    "                    total_time_spend_dead_dict = {}\n",
    "                    total_time_spend_dead_dict['match_id'] = match_id\n",
    "                    total_time_spend_dead_dict['time'] = my_df['totalTimeSpentDead'][my_idx]\n",
    "                    total_time_spend_dead_dict['type'] = '죽어있던 시간'\n",
    "                    total_df = total_df.append(total_time_spend_dead_dict,ignore_index=True)\n",
    "                    \n",
    "    except:\n",
    "        print(match_info.json())\n",
    "        \n",
    "    cnt += 1\n",
    "    \n",
    "    if cnt==19:\n",
    "        time.sleep(1)\n",
    "        cnt = 0"
   ]
  },
  {
   "cell_type": "code",
   "execution_count": 30,
   "id": "5737ca68",
   "metadata": {},
   "outputs": [
    {
     "name": "stdout",
     "output_type": "stream",
     "text": [
      "일반, 랭크 게임 수 : 99\n"
     ]
    }
   ],
   "source": [
    "print(f'일반, 랭크 게임 수 : {len(classic_game_list)}')"
   ]
  },
  {
   "cell_type": "code",
   "execution_count": 31,
   "id": "0addcb0b",
   "metadata": {},
   "outputs": [
    {
     "data": {
      "text/html": [
       "<div>\n",
       "<style scoped>\n",
       "    .dataframe tbody tr th:only-of-type {\n",
       "        vertical-align: middle;\n",
       "    }\n",
       "\n",
       "    .dataframe tbody tr th {\n",
       "        vertical-align: top;\n",
       "    }\n",
       "\n",
       "    .dataframe thead th {\n",
       "        text-align: right;\n",
       "    }\n",
       "</style>\n",
       "<table border=\"1\" class=\"dataframe\">\n",
       "  <thead>\n",
       "    <tr style=\"text-align: right;\">\n",
       "      <th>type</th>\n",
       "      <th>죽어있던 시간</th>\n",
       "      <th>총 게임 시간</th>\n",
       "    </tr>\n",
       "    <tr>\n",
       "      <th>match_id</th>\n",
       "      <th></th>\n",
       "      <th></th>\n",
       "    </tr>\n",
       "  </thead>\n",
       "  <tbody>\n",
       "    <tr>\n",
       "      <th>KR_5885032321</th>\n",
       "      <td>35.0</td>\n",
       "      <td>1165.244391</td>\n",
       "    </tr>\n",
       "    <tr>\n",
       "      <th>KR_5885067354</th>\n",
       "      <td>204.0</td>\n",
       "      <td>1367.125178</td>\n",
       "    </tr>\n",
       "    <tr>\n",
       "      <th>KR_5885194272</th>\n",
       "      <td>103.0</td>\n",
       "      <td>1183.139944</td>\n",
       "    </tr>\n",
       "    <tr>\n",
       "      <th>KR_5885303163</th>\n",
       "      <td>174.0</td>\n",
       "      <td>1735.180966</td>\n",
       "    </tr>\n",
       "    <tr>\n",
       "      <th>KR_5886343477</th>\n",
       "      <td>377.0</td>\n",
       "      <td>1846.714391</td>\n",
       "    </tr>\n",
       "    <tr>\n",
       "      <th>...</th>\n",
       "      <td>...</td>\n",
       "      <td>...</td>\n",
       "    </tr>\n",
       "    <tr>\n",
       "      <th>KR_5947604622</th>\n",
       "      <td>0.0</td>\n",
       "      <td>1434.289963</td>\n",
       "    </tr>\n",
       "    <tr>\n",
       "      <th>KR_5947676632</th>\n",
       "      <td>78.0</td>\n",
       "      <td>1311.747876</td>\n",
       "    </tr>\n",
       "    <tr>\n",
       "      <th>KR_5948035732</th>\n",
       "      <td>85.0</td>\n",
       "      <td>1251.522783</td>\n",
       "    </tr>\n",
       "    <tr>\n",
       "      <th>KR_5948488912</th>\n",
       "      <td>381.0</td>\n",
       "      <td>1880.392141</td>\n",
       "    </tr>\n",
       "    <tr>\n",
       "      <th>KR_5948521990</th>\n",
       "      <td>132.0</td>\n",
       "      <td>1382.712599</td>\n",
       "    </tr>\n",
       "  </tbody>\n",
       "</table>\n",
       "<p>99 rows × 2 columns</p>\n",
       "</div>"
      ],
      "text/plain": [
       "type           죽어있던 시간      총 게임 시간\n",
       "match_id                           \n",
       "KR_5885032321     35.0  1165.244391\n",
       "KR_5885067354    204.0  1367.125178\n",
       "KR_5885194272    103.0  1183.139944\n",
       "KR_5885303163    174.0  1735.180966\n",
       "KR_5886343477    377.0  1846.714391\n",
       "...                ...          ...\n",
       "KR_5947604622      0.0  1434.289963\n",
       "KR_5947676632     78.0  1311.747876\n",
       "KR_5948035732     85.0  1251.522783\n",
       "KR_5948488912    381.0  1880.392141\n",
       "KR_5948521990    132.0  1382.712599\n",
       "\n",
       "[99 rows x 2 columns]"
      ]
     },
     "execution_count": 31,
     "metadata": {},
     "output_type": "execute_result"
    }
   ],
   "source": [
    "total_df.pivot(index='match_id',columns='type',values='time')"
   ]
  },
  {
   "cell_type": "code",
   "execution_count": 32,
   "id": "61652a72",
   "metadata": {},
   "outputs": [],
   "source": [
    "# 초 단위를 분 단위로 변경\n",
    "total_df['time'] = total_df['time'].apply(lambda x : x/60)"
   ]
  },
  {
   "cell_type": "code",
   "execution_count": 33,
   "id": "78505c99",
   "metadata": {},
   "outputs": [
    {
     "ename": "IndexError",
     "evalue": "index 0 is out of bounds for axis 0 with size 0",
     "output_type": "error",
     "traceback": [
      "\u001b[0;31m---------------------------------------------------------------------------\u001b[0m",
      "\u001b[0;31mIndexError\u001b[0m                                Traceback (most recent call last)",
      "\u001b[0;32m/var/folders/m6/1ky1f05n673720qf019cb64c0000gn/T/ipykernel_11689/1890624537.py\u001b[0m in \u001b[0;36m<module>\u001b[0;34m\u001b[0m\n\u001b[0;32m----> 1\u001b[0;31m \u001b[0mtotal_df\u001b[0m \u001b[0;34m=\u001b[0m \u001b[0mtotal_df\u001b[0m\u001b[0;34m.\u001b[0m\u001b[0mdrop\u001b[0m\u001b[0;34m(\u001b[0m\u001b[0mtotal_df\u001b[0m\u001b[0;34m.\u001b[0m\u001b[0mquery\u001b[0m\u001b[0;34m(\u001b[0m\u001b[0;34m'time<=4 and type==\"총 게임 시간\"'\u001b[0m\u001b[0;34m)\u001b[0m\u001b[0;34m.\u001b[0m\u001b[0mindex\u001b[0m\u001b[0;34m[\u001b[0m\u001b[0;36m0\u001b[0m\u001b[0;34m]\u001b[0m\u001b[0;34m)\u001b[0m\u001b[0;34m\u001b[0m\u001b[0;34m\u001b[0m\u001b[0m\n\u001b[0m\u001b[1;32m      2\u001b[0m fig = px.box(total_df, x=\"type\", y=\"time\", \n\u001b[1;32m      3\u001b[0m              labels={\n\u001b[1;32m      4\u001b[0m                      \u001b[0;34m\"type\"\u001b[0m\u001b[0;34m:\u001b[0m \u001b[0;34m\"시간의 종류\"\u001b[0m\u001b[0;34m,\u001b[0m\u001b[0;34m\u001b[0m\u001b[0;34m\u001b[0m\u001b[0m\n\u001b[1;32m      5\u001b[0m                      \u001b[0;34m\"time\"\u001b[0m\u001b[0;34m:\u001b[0m \u001b[0;34m\"시간 (분)\"\u001b[0m\u001b[0;34m,\u001b[0m\u001b[0;34m\u001b[0m\u001b[0;34m\u001b[0m\u001b[0m\n",
      "\u001b[0;32m~/opt/anaconda3/lib/python3.9/site-packages/pandas/core/indexes/base.py\u001b[0m in \u001b[0;36m__getitem__\u001b[0;34m(self, key)\u001b[0m\n\u001b[1;32m   4602\u001b[0m         \u001b[0;32mif\u001b[0m \u001b[0mis_scalar\u001b[0m\u001b[0;34m(\u001b[0m\u001b[0mkey\u001b[0m\u001b[0;34m)\u001b[0m\u001b[0;34m:\u001b[0m\u001b[0;34m\u001b[0m\u001b[0;34m\u001b[0m\u001b[0m\n\u001b[1;32m   4603\u001b[0m             \u001b[0mkey\u001b[0m \u001b[0;34m=\u001b[0m \u001b[0mcom\u001b[0m\u001b[0;34m.\u001b[0m\u001b[0mcast_scalar_indexer\u001b[0m\u001b[0;34m(\u001b[0m\u001b[0mkey\u001b[0m\u001b[0;34m,\u001b[0m \u001b[0mwarn_float\u001b[0m\u001b[0;34m=\u001b[0m\u001b[0;32mTrue\u001b[0m\u001b[0;34m)\u001b[0m\u001b[0;34m\u001b[0m\u001b[0;34m\u001b[0m\u001b[0m\n\u001b[0;32m-> 4604\u001b[0;31m             \u001b[0;32mreturn\u001b[0m \u001b[0mgetitem\u001b[0m\u001b[0;34m(\u001b[0m\u001b[0mkey\u001b[0m\u001b[0;34m)\u001b[0m\u001b[0;34m\u001b[0m\u001b[0;34m\u001b[0m\u001b[0m\n\u001b[0m\u001b[1;32m   4605\u001b[0m \u001b[0;34m\u001b[0m\u001b[0m\n\u001b[1;32m   4606\u001b[0m         \u001b[0;32mif\u001b[0m \u001b[0misinstance\u001b[0m\u001b[0;34m(\u001b[0m\u001b[0mkey\u001b[0m\u001b[0;34m,\u001b[0m \u001b[0mslice\u001b[0m\u001b[0;34m)\u001b[0m\u001b[0;34m:\u001b[0m\u001b[0;34m\u001b[0m\u001b[0;34m\u001b[0m\u001b[0m\n",
      "\u001b[0;31mIndexError\u001b[0m: index 0 is out of bounds for axis 0 with size 0"
     ]
    }
   ],
   "source": [
    "total_df = total_df.drop(total_df.query('time<=4 and type==\"총 게임 시간\"').index[0])\n",
    "fig = px.box(total_df, x=\"type\", y=\"time\", \n",
    "             labels={\n",
    "                     \"type\": \"시간의 종류\",\n",
    "                     \"time\": \"시간 (분)\",\n",
    "                 },\n",
    "             title=\"분포\")\n",
    "fig.show()"
   ]
  },
  {
   "cell_type": "code",
   "execution_count": 34,
   "id": "e55f43af",
   "metadata": {},
   "outputs": [],
   "source": [
    "# 시간 순으로 오름차순 정렬\n",
    "test_df = total_df.sort_values(by=['type','time'],ascending = [False, True]).reset_index(drop=True)"
   ]
  },
  {
   "cell_type": "code",
   "execution_count": 35,
   "id": "a201eb01",
   "metadata": {},
   "outputs": [],
   "source": [
    "# 데이터 프레임 형식 변경\n",
    "test_df_pivot = test_df.pivot(index='match_id', columns='type', values='time')\n",
    "test_df_pivot['rate'] = test_df_pivot['죽어있던 시간'] / test_df_pivot['총 게임 시간']\n",
    "game_length_mean = test_df_pivot['총 게임 시간'].mean()\n",
    "total_time_spend_dead_mean = test_df_pivot['죽어있던 시간'].mean()\n",
    "dead_rate_mean = test_df_pivot.rate.mean()"
   ]
  },
  {
   "cell_type": "code",
   "execution_count": 36,
   "id": "8c79feca",
   "metadata": {},
   "outputs": [
    {
     "data": {
      "application/vnd.plotly.v1+json": {
       "config": {
        "plotlyServerURL": "https://plot.ly"
       },
       "data": [
        {
         "alignmentgroup": "True",
         "hovertemplate": "type=총 게임 시간<br>match_id=%{x}<br>time=%{y}<extra></extra>",
         "legendgroup": "총 게임 시간",
         "marker": {
          "color": "#636efa",
          "pattern": {
           "shape": ""
          }
         },
         "name": "총 게임 시간",
         "offsetgroup": "총 게임 시간",
         "orientation": "v",
         "showlegend": true,
         "textposition": "auto",
         "type": "bar",
         "x": [
          "KR_5897155407",
          "KR_5944029021",
          "KR_5907617277",
          "KR_5887706530",
          "KR_5947402021",
          "KR_5936294990",
          "KR_5937298797",
          "KR_5885032321",
          "KR_5901393729",
          "KR_5885194272",
          "KR_5887384287",
          "KR_5928749114",
          "KR_5890245144",
          "KR_5921337499",
          "KR_5947601250",
          "KR_5932118148",
          "KR_5935862415",
          "KR_5948035732",
          "KR_5887783615",
          "KR_5922380801",
          "KR_5947676632",
          "KR_5925895593",
          "KR_5905860179",
          "KR_5885067354",
          "KR_5948521990",
          "KR_5889433555",
          "KR_5930666017",
          "KR_5891035514",
          "KR_5908992329",
          "KR_5922132607",
          "KR_5901905666",
          "KR_5926480151",
          "KR_5947604622",
          "KR_5903835663",
          "KR_5932529440",
          "KR_5903109699",
          "KR_5935683340",
          "KR_5935837003",
          "KR_5896830958",
          "KR_5934792349",
          "KR_5889472363",
          "KR_5933017693",
          "KR_5920185678",
          "KR_5887735422",
          "KR_5935718194",
          "KR_5887094447",
          "KR_5931161190",
          "KR_5947280074",
          "KR_5887769463",
          "KR_5887700263",
          "KR_5887219341",
          "KR_5920470182",
          "KR_5937950634",
          "KR_5928674773",
          "KR_5888254234",
          "KR_5888397325",
          "KR_5894207810",
          "KR_5885303163",
          "KR_5887264211",
          "KR_5922117151",
          "KR_5933289239",
          "KR_5914024901",
          "KR_5887781735",
          "KR_5910044054",
          "KR_5891216106",
          "KR_5903876224",
          "KR_5886343477",
          "KR_5947291391",
          "KR_5920039035",
          "KR_5948488912",
          "KR_5913084671",
          "KR_5923295741",
          "KR_5900939321",
          "KR_5923410708",
          "KR_5905813976",
          "KR_5937690961",
          "KR_5896834981",
          "KR_5938020149",
          "KR_5932106146",
          "KR_5901264939",
          "KR_5908324281",
          "KR_5921437018",
          "KR_5887138750",
          "KR_5924718598",
          "KR_5911393767",
          "KR_5937502870",
          "KR_5944229718",
          "KR_5894253757",
          "KR_5911635440",
          "KR_5912686230",
          "KR_5919484709",
          "KR_5924364928",
          "KR_5919112487",
          "KR_5944636527",
          "KR_5898542464",
          "KR_5913123019",
          "KR_5903251547",
          "KR_5931388827",
          "KR_5898340602"
         ],
         "xaxis": "x",
         "y": [
          15.740216608333332,
          16.157592977811635,
          18.466046065319922,
          18.47517038624091,
          18.660865251666667,
          18.729107217439083,
          19.285322001666664,
          19.420739842437108,
          19.675403108746572,
          19.71899906850664,
          20.12358155758759,
          20.1715272664237,
          20.187547841887977,
          20.227308893972765,
          20.299009879999996,
          20.447930110500632,
          20.598979046498915,
          20.858713046532685,
          20.886921505246768,
          21.004940903791276,
          21.862464594169417,
          21.940064993333333,
          22.65978015025311,
          22.785419626290086,
          23.04520998674923,
          23.064416701133553,
          23.128915713947926,
          23.207803844659075,
          23.27361114912606,
          23.417568858194716,
          23.674383571503423,
          23.841909791097866,
          23.90483271722546,
          23.98892981202979,
          24.043645904492756,
          24.070196042056242,
          24.315009511977816,
          24.684167967416503,
          24.692501799377062,
          24.952848287170443,
          25.11750994790166,
          25.544745405155876,
          25.686812773383036,
          25.693550371666667,
          26.070791434999997,
          26.185891818451033,
          26.259749478465565,
          26.456595560644516,
          26.526605207849435,
          26.660229514607348,
          26.75150492028627,
          26.96717583393302,
          27.04642721782325,
          27.119018421699888,
          27.214512463035142,
          27.32182032620616,
          28.66479868802803,
          28.919682772879142,
          29.069455040063986,
          29.159627193333332,
          29.625071531519612,
          30.17352080807712,
          30.182354111441967,
          30.27638933503844,
          30.423363670669406,
          30.458403078254968,
          30.778573178166265,
          30.887792902693924,
          31.001301505189293,
          31.339869022891154,
          31.718477302505697,
          32.047613909251226,
          32.59984279333333,
          32.65396290666666,
          33.10682482696189,
          33.15050316012308,
          33.41547912215743,
          34.746578267799876,
          34.91522026943051,
          35.23226255376003,
          35.98409811322572,
          36.1937174647091,
          36.43815772667036,
          36.5061107668641,
          36.60817046113617,
          38.64167095602678,
          38.85079519764186,
          38.85649890396437,
          40.0564427065692,
          40.37672912532535,
          41.46021803896464,
          41.71396822645254,
          43.618351630012484,
          43.687860305623744,
          44.63580034357978,
          44.93012909263244,
          45.54347446515795,
          45.89862515449944,
          56.695608390865814
         ],
         "yaxis": "y"
        },
        {
         "alignmentgroup": "True",
         "hovertemplate": "type=죽어있던 시간<br>match_id=%{x}<br>time=%{y}<extra></extra>",
         "legendgroup": "죽어있던 시간",
         "marker": {
          "color": "#EF553B",
          "pattern": {
           "shape": ""
          }
         },
         "name": "죽어있던 시간",
         "offsetgroup": "죽어있던 시간",
         "orientation": "v",
         "showlegend": true,
         "textposition": "auto",
         "type": "bar",
         "x": [
          "KR_5947604622",
          "KR_5887384287",
          "KR_5921337499",
          "KR_5936294990",
          "KR_5932118148",
          "KR_5908992329",
          "KR_5934792349",
          "KR_5907617277",
          "KR_5944029021",
          "KR_5925895593",
          "KR_5885032321",
          "KR_5930666017",
          "KR_5897155407",
          "KR_5932529440",
          "KR_5890245144",
          "KR_5922132607",
          "KR_5947676632",
          "KR_5922380801",
          "KR_5948035732",
          "KR_5910044054",
          "KR_5887264211",
          "KR_5947402021",
          "KR_5885194272",
          "KR_5887700263",
          "KR_5935718194",
          "KR_5923410708",
          "KR_5891035514",
          "KR_5948521990",
          "KR_5926480151",
          "KR_5905860179",
          "KR_5887706530",
          "KR_5903876224",
          "KR_5924718598",
          "KR_5947601250",
          "KR_5920185678",
          "KR_5889433555",
          "KR_5885303163",
          "KR_5947291391",
          "KR_5887783615",
          "KR_5935862415",
          "KR_5914024901",
          "KR_5937298797",
          "KR_5887219341",
          "KR_5933289239",
          "KR_5903835663",
          "KR_5901905666",
          "KR_5901393729",
          "KR_5889472363",
          "KR_5894207810",
          "KR_5885067354",
          "KR_5903109699",
          "KR_5935837003",
          "KR_5887735422",
          "KR_5896830958",
          "KR_5920470182",
          "KR_5947280074",
          "KR_5928749114",
          "KR_5900939321",
          "KR_5931161190",
          "KR_5928674773",
          "KR_5905813976",
          "KR_5887138750",
          "KR_5938020149",
          "KR_5922117151",
          "KR_5903251547",
          "KR_5888397325",
          "KR_5894253757",
          "KR_5923295741",
          "KR_5887769463",
          "KR_5891216106",
          "KR_5937950634",
          "KR_5933017693",
          "KR_5911393767",
          "KR_5920039035",
          "KR_5898542464",
          "KR_5887781735",
          "KR_5896834981",
          "KR_5913084671",
          "KR_5937690961",
          "KR_5935683340",
          "KR_5887094447",
          "KR_5908324281",
          "KR_5901264939",
          "KR_5886343477",
          "KR_5948488912",
          "KR_5944229718",
          "KR_5932106146",
          "KR_5919484709",
          "KR_5944636527",
          "KR_5921437018",
          "KR_5888254234",
          "KR_5912686230",
          "KR_5911635440",
          "KR_5924364928",
          "KR_5937502870",
          "KR_5913123019",
          "KR_5898340602",
          "KR_5931388827",
          "KR_5919112487"
         ],
         "xaxis": "x",
         "y": [
          0,
          0,
          0.16666666666666666,
          0.23333333333333334,
          0.23333333333333334,
          0.23333333333333334,
          0.3333333333333333,
          0.35,
          0.45,
          0.5833333333333334,
          0.5833333333333334,
          0.7,
          0.8666666666666667,
          1,
          1.1666666666666667,
          1.2,
          1.3,
          1.4,
          1.4166666666666667,
          1.4666666666666666,
          1.55,
          1.5833333333333333,
          1.7166666666666666,
          1.85,
          2.1,
          2.1,
          2.1333333333333333,
          2.2,
          2.2333333333333334,
          2.283333333333333,
          2.566666666666667,
          2.5833333333333335,
          2.6166666666666667,
          2.65,
          2.8333333333333335,
          2.8833333333333333,
          2.9,
          2.933333333333333,
          2.933333333333333,
          2.95,
          2.9833333333333334,
          3.0166666666666666,
          3.05,
          3.2,
          3.2333333333333334,
          3.25,
          3.25,
          3.25,
          3.3666666666666667,
          3.4,
          3.55,
          3.566666666666667,
          3.5833333333333335,
          3.6166666666666667,
          3.6333333333333333,
          3.7,
          3.7,
          3.7,
          3.8,
          3.8,
          3.9,
          3.95,
          4.033333333333333,
          4.05,
          4.05,
          4.05,
          4.183333333333334,
          4.416666666666667,
          4.616666666666666,
          4.8,
          4.9,
          4.983333333333333,
          5.016666666666667,
          5.05,
          5.133333333333334,
          5.233333333333333,
          5.25,
          5.266666666666667,
          5.5,
          5.816666666666666,
          5.983333333333333,
          6.133333333333334,
          6.283333333333333,
          6.283333333333333,
          6.35,
          6.366666666666666,
          6.416666666666667,
          6.5,
          6.55,
          6.566666666666666,
          6.616666666666666,
          6.95,
          7.566666666666666,
          7.683333333333334,
          9.1,
          10.316666666666666,
          10.416666666666666,
          11.116666666666667,
          11.533333333333333
         ],
         "yaxis": "y"
        },
        {
         "mode": "text",
         "text": [
          "평균 게임 길이 : 28.52분",
          "평균적으로 게임 시간의 0.12분을 죽어있습니다"
         ],
         "type": "scatter",
         "x": [
          "KR_5947676632",
          "KR_5889433555"
         ],
         "y": [
          40,
          50
         ]
        }
       ],
       "layout": {
        "barmode": "group",
        "legend": {
         "title": {
          "text": "시간 종류"
         },
         "tracegroupgap": 0
        },
        "margin": {
         "t": 60
        },
        "shapes": [
         {
          "line": {
           "color": "red",
           "dash": "dashdot",
           "width": 4
          },
          "type": "line",
          "x0": "KR_5897155407",
          "x1": "KR_5919112487",
          "y0": 28.520767063829105,
          "y1": 28.520767063829105
         }
        ],
        "template": {
         "data": {
          "bar": [
           {
            "error_x": {
             "color": "#2a3f5f"
            },
            "error_y": {
             "color": "#2a3f5f"
            },
            "marker": {
             "line": {
              "color": "#E5ECF6",
              "width": 0.5
             },
             "pattern": {
              "fillmode": "overlay",
              "size": 10,
              "solidity": 0.2
             }
            },
            "type": "bar"
           }
          ],
          "barpolar": [
           {
            "marker": {
             "line": {
              "color": "#E5ECF6",
              "width": 0.5
             },
             "pattern": {
              "fillmode": "overlay",
              "size": 10,
              "solidity": 0.2
             }
            },
            "type": "barpolar"
           }
          ],
          "carpet": [
           {
            "aaxis": {
             "endlinecolor": "#2a3f5f",
             "gridcolor": "white",
             "linecolor": "white",
             "minorgridcolor": "white",
             "startlinecolor": "#2a3f5f"
            },
            "baxis": {
             "endlinecolor": "#2a3f5f",
             "gridcolor": "white",
             "linecolor": "white",
             "minorgridcolor": "white",
             "startlinecolor": "#2a3f5f"
            },
            "type": "carpet"
           }
          ],
          "choropleth": [
           {
            "colorbar": {
             "outlinewidth": 0,
             "ticks": ""
            },
            "type": "choropleth"
           }
          ],
          "contour": [
           {
            "colorbar": {
             "outlinewidth": 0,
             "ticks": ""
            },
            "colorscale": [
             [
              0,
              "#0d0887"
             ],
             [
              0.1111111111111111,
              "#46039f"
             ],
             [
              0.2222222222222222,
              "#7201a8"
             ],
             [
              0.3333333333333333,
              "#9c179e"
             ],
             [
              0.4444444444444444,
              "#bd3786"
             ],
             [
              0.5555555555555556,
              "#d8576b"
             ],
             [
              0.6666666666666666,
              "#ed7953"
             ],
             [
              0.7777777777777778,
              "#fb9f3a"
             ],
             [
              0.8888888888888888,
              "#fdca26"
             ],
             [
              1,
              "#f0f921"
             ]
            ],
            "type": "contour"
           }
          ],
          "contourcarpet": [
           {
            "colorbar": {
             "outlinewidth": 0,
             "ticks": ""
            },
            "type": "contourcarpet"
           }
          ],
          "heatmap": [
           {
            "colorbar": {
             "outlinewidth": 0,
             "ticks": ""
            },
            "colorscale": [
             [
              0,
              "#0d0887"
             ],
             [
              0.1111111111111111,
              "#46039f"
             ],
             [
              0.2222222222222222,
              "#7201a8"
             ],
             [
              0.3333333333333333,
              "#9c179e"
             ],
             [
              0.4444444444444444,
              "#bd3786"
             ],
             [
              0.5555555555555556,
              "#d8576b"
             ],
             [
              0.6666666666666666,
              "#ed7953"
             ],
             [
              0.7777777777777778,
              "#fb9f3a"
             ],
             [
              0.8888888888888888,
              "#fdca26"
             ],
             [
              1,
              "#f0f921"
             ]
            ],
            "type": "heatmap"
           }
          ],
          "heatmapgl": [
           {
            "colorbar": {
             "outlinewidth": 0,
             "ticks": ""
            },
            "colorscale": [
             [
              0,
              "#0d0887"
             ],
             [
              0.1111111111111111,
              "#46039f"
             ],
             [
              0.2222222222222222,
              "#7201a8"
             ],
             [
              0.3333333333333333,
              "#9c179e"
             ],
             [
              0.4444444444444444,
              "#bd3786"
             ],
             [
              0.5555555555555556,
              "#d8576b"
             ],
             [
              0.6666666666666666,
              "#ed7953"
             ],
             [
              0.7777777777777778,
              "#fb9f3a"
             ],
             [
              0.8888888888888888,
              "#fdca26"
             ],
             [
              1,
              "#f0f921"
             ]
            ],
            "type": "heatmapgl"
           }
          ],
          "histogram": [
           {
            "marker": {
             "pattern": {
              "fillmode": "overlay",
              "size": 10,
              "solidity": 0.2
             }
            },
            "type": "histogram"
           }
          ],
          "histogram2d": [
           {
            "colorbar": {
             "outlinewidth": 0,
             "ticks": ""
            },
            "colorscale": [
             [
              0,
              "#0d0887"
             ],
             [
              0.1111111111111111,
              "#46039f"
             ],
             [
              0.2222222222222222,
              "#7201a8"
             ],
             [
              0.3333333333333333,
              "#9c179e"
             ],
             [
              0.4444444444444444,
              "#bd3786"
             ],
             [
              0.5555555555555556,
              "#d8576b"
             ],
             [
              0.6666666666666666,
              "#ed7953"
             ],
             [
              0.7777777777777778,
              "#fb9f3a"
             ],
             [
              0.8888888888888888,
              "#fdca26"
             ],
             [
              1,
              "#f0f921"
             ]
            ],
            "type": "histogram2d"
           }
          ],
          "histogram2dcontour": [
           {
            "colorbar": {
             "outlinewidth": 0,
             "ticks": ""
            },
            "colorscale": [
             [
              0,
              "#0d0887"
             ],
             [
              0.1111111111111111,
              "#46039f"
             ],
             [
              0.2222222222222222,
              "#7201a8"
             ],
             [
              0.3333333333333333,
              "#9c179e"
             ],
             [
              0.4444444444444444,
              "#bd3786"
             ],
             [
              0.5555555555555556,
              "#d8576b"
             ],
             [
              0.6666666666666666,
              "#ed7953"
             ],
             [
              0.7777777777777778,
              "#fb9f3a"
             ],
             [
              0.8888888888888888,
              "#fdca26"
             ],
             [
              1,
              "#f0f921"
             ]
            ],
            "type": "histogram2dcontour"
           }
          ],
          "mesh3d": [
           {
            "colorbar": {
             "outlinewidth": 0,
             "ticks": ""
            },
            "type": "mesh3d"
           }
          ],
          "parcoords": [
           {
            "line": {
             "colorbar": {
              "outlinewidth": 0,
              "ticks": ""
             }
            },
            "type": "parcoords"
           }
          ],
          "pie": [
           {
            "automargin": true,
            "type": "pie"
           }
          ],
          "scatter": [
           {
            "fillpattern": {
             "fillmode": "overlay",
             "size": 10,
             "solidity": 0.2
            },
            "type": "scatter"
           }
          ],
          "scatter3d": [
           {
            "line": {
             "colorbar": {
              "outlinewidth": 0,
              "ticks": ""
             }
            },
            "marker": {
             "colorbar": {
              "outlinewidth": 0,
              "ticks": ""
             }
            },
            "type": "scatter3d"
           }
          ],
          "scattercarpet": [
           {
            "marker": {
             "colorbar": {
              "outlinewidth": 0,
              "ticks": ""
             }
            },
            "type": "scattercarpet"
           }
          ],
          "scattergeo": [
           {
            "marker": {
             "colorbar": {
              "outlinewidth": 0,
              "ticks": ""
             }
            },
            "type": "scattergeo"
           }
          ],
          "scattergl": [
           {
            "marker": {
             "colorbar": {
              "outlinewidth": 0,
              "ticks": ""
             }
            },
            "type": "scattergl"
           }
          ],
          "scattermapbox": [
           {
            "marker": {
             "colorbar": {
              "outlinewidth": 0,
              "ticks": ""
             }
            },
            "type": "scattermapbox"
           }
          ],
          "scatterpolar": [
           {
            "marker": {
             "colorbar": {
              "outlinewidth": 0,
              "ticks": ""
             }
            },
            "type": "scatterpolar"
           }
          ],
          "scatterpolargl": [
           {
            "marker": {
             "colorbar": {
              "outlinewidth": 0,
              "ticks": ""
             }
            },
            "type": "scatterpolargl"
           }
          ],
          "scatterternary": [
           {
            "marker": {
             "colorbar": {
              "outlinewidth": 0,
              "ticks": ""
             }
            },
            "type": "scatterternary"
           }
          ],
          "surface": [
           {
            "colorbar": {
             "outlinewidth": 0,
             "ticks": ""
            },
            "colorscale": [
             [
              0,
              "#0d0887"
             ],
             [
              0.1111111111111111,
              "#46039f"
             ],
             [
              0.2222222222222222,
              "#7201a8"
             ],
             [
              0.3333333333333333,
              "#9c179e"
             ],
             [
              0.4444444444444444,
              "#bd3786"
             ],
             [
              0.5555555555555556,
              "#d8576b"
             ],
             [
              0.6666666666666666,
              "#ed7953"
             ],
             [
              0.7777777777777778,
              "#fb9f3a"
             ],
             [
              0.8888888888888888,
              "#fdca26"
             ],
             [
              1,
              "#f0f921"
             ]
            ],
            "type": "surface"
           }
          ],
          "table": [
           {
            "cells": {
             "fill": {
              "color": "#EBF0F8"
             },
             "line": {
              "color": "white"
             }
            },
            "header": {
             "fill": {
              "color": "#C8D4E3"
             },
             "line": {
              "color": "white"
             }
            },
            "type": "table"
           }
          ]
         },
         "layout": {
          "annotationdefaults": {
           "arrowcolor": "#2a3f5f",
           "arrowhead": 0,
           "arrowwidth": 1
          },
          "autotypenumbers": "strict",
          "coloraxis": {
           "colorbar": {
            "outlinewidth": 0,
            "ticks": ""
           }
          },
          "colorscale": {
           "diverging": [
            [
             0,
             "#8e0152"
            ],
            [
             0.1,
             "#c51b7d"
            ],
            [
             0.2,
             "#de77ae"
            ],
            [
             0.3,
             "#f1b6da"
            ],
            [
             0.4,
             "#fde0ef"
            ],
            [
             0.5,
             "#f7f7f7"
            ],
            [
             0.6,
             "#e6f5d0"
            ],
            [
             0.7,
             "#b8e186"
            ],
            [
             0.8,
             "#7fbc41"
            ],
            [
             0.9,
             "#4d9221"
            ],
            [
             1,
             "#276419"
            ]
           ],
           "sequential": [
            [
             0,
             "#0d0887"
            ],
            [
             0.1111111111111111,
             "#46039f"
            ],
            [
             0.2222222222222222,
             "#7201a8"
            ],
            [
             0.3333333333333333,
             "#9c179e"
            ],
            [
             0.4444444444444444,
             "#bd3786"
            ],
            [
             0.5555555555555556,
             "#d8576b"
            ],
            [
             0.6666666666666666,
             "#ed7953"
            ],
            [
             0.7777777777777778,
             "#fb9f3a"
            ],
            [
             0.8888888888888888,
             "#fdca26"
            ],
            [
             1,
             "#f0f921"
            ]
           ],
           "sequentialminus": [
            [
             0,
             "#0d0887"
            ],
            [
             0.1111111111111111,
             "#46039f"
            ],
            [
             0.2222222222222222,
             "#7201a8"
            ],
            [
             0.3333333333333333,
             "#9c179e"
            ],
            [
             0.4444444444444444,
             "#bd3786"
            ],
            [
             0.5555555555555556,
             "#d8576b"
            ],
            [
             0.6666666666666666,
             "#ed7953"
            ],
            [
             0.7777777777777778,
             "#fb9f3a"
            ],
            [
             0.8888888888888888,
             "#fdca26"
            ],
            [
             1,
             "#f0f921"
            ]
           ]
          },
          "colorway": [
           "#636efa",
           "#EF553B",
           "#00cc96",
           "#ab63fa",
           "#FFA15A",
           "#19d3f3",
           "#FF6692",
           "#B6E880",
           "#FF97FF",
           "#FECB52"
          ],
          "font": {
           "color": "#2a3f5f"
          },
          "geo": {
           "bgcolor": "white",
           "lakecolor": "white",
           "landcolor": "#E5ECF6",
           "showlakes": true,
           "showland": true,
           "subunitcolor": "white"
          },
          "hoverlabel": {
           "align": "left"
          },
          "hovermode": "closest",
          "mapbox": {
           "style": "light"
          },
          "paper_bgcolor": "white",
          "plot_bgcolor": "#E5ECF6",
          "polar": {
           "angularaxis": {
            "gridcolor": "white",
            "linecolor": "white",
            "ticks": ""
           },
           "bgcolor": "#E5ECF6",
           "radialaxis": {
            "gridcolor": "white",
            "linecolor": "white",
            "ticks": ""
           }
          },
          "scene": {
           "xaxis": {
            "backgroundcolor": "#E5ECF6",
            "gridcolor": "white",
            "gridwidth": 2,
            "linecolor": "white",
            "showbackground": true,
            "ticks": "",
            "zerolinecolor": "white"
           },
           "yaxis": {
            "backgroundcolor": "#E5ECF6",
            "gridcolor": "white",
            "gridwidth": 2,
            "linecolor": "white",
            "showbackground": true,
            "ticks": "",
            "zerolinecolor": "white"
           },
           "zaxis": {
            "backgroundcolor": "#E5ECF6",
            "gridcolor": "white",
            "gridwidth": 2,
            "linecolor": "white",
            "showbackground": true,
            "ticks": "",
            "zerolinecolor": "white"
           }
          },
          "shapedefaults": {
           "line": {
            "color": "#2a3f5f"
           }
          },
          "ternary": {
           "aaxis": {
            "gridcolor": "white",
            "linecolor": "white",
            "ticks": ""
           },
           "baxis": {
            "gridcolor": "white",
            "linecolor": "white",
            "ticks": ""
           },
           "bgcolor": "#E5ECF6",
           "caxis": {
            "gridcolor": "white",
            "linecolor": "white",
            "ticks": ""
           }
          },
          "title": {
           "x": 0.05
          },
          "xaxis": {
           "automargin": true,
           "gridcolor": "white",
           "linecolor": "white",
           "ticks": "",
           "title": {
            "standoff": 15
           },
           "zerolinecolor": "white",
           "zerolinewidth": 2
          },
          "yaxis": {
           "automargin": true,
           "gridcolor": "white",
           "linecolor": "white",
           "ticks": "",
           "title": {
            "standoff": 15
           },
           "zerolinecolor": "white",
           "zerolinewidth": 2
          }
         }
        },
        "title": {
         "text": "총 게임 길이별 죽어 있던 시간 시각화"
        },
        "xaxis": {
         "anchor": "y",
         "domain": [
          0,
          1
         ],
         "title": {
          "text": "매치 아이디"
         }
        },
        "yaxis": {
         "anchor": "x",
         "domain": [
          0,
          1
         ],
         "title": {
          "text": "시간 (분)"
         }
        }
       }
      },
      "text/html": [
       "<div>                            <div id=\"cfcff41c-c8d5-4b14-8781-e8a03c3a45ae\" class=\"plotly-graph-div\" style=\"height:525px; width:100%;\"></div>            <script type=\"text/javascript\">                require([\"plotly\"], function(Plotly) {                    window.PLOTLYENV=window.PLOTLYENV || {};                                    if (document.getElementById(\"cfcff41c-c8d5-4b14-8781-e8a03c3a45ae\")) {                    Plotly.newPlot(                        \"cfcff41c-c8d5-4b14-8781-e8a03c3a45ae\",                        [{\"alignmentgroup\":\"True\",\"hovertemplate\":\"type=\\ucd1d \\uac8c\\uc784 \\uc2dc\\uac04<br>match_id=%{x}<br>time=%{y}<extra></extra>\",\"legendgroup\":\"\\ucd1d \\uac8c\\uc784 \\uc2dc\\uac04\",\"marker\":{\"color\":\"#636efa\",\"pattern\":{\"shape\":\"\"}},\"name\":\"\\ucd1d \\uac8c\\uc784 \\uc2dc\\uac04\",\"offsetgroup\":\"\\ucd1d \\uac8c\\uc784 \\uc2dc\\uac04\",\"orientation\":\"v\",\"showlegend\":true,\"textposition\":\"auto\",\"x\":[\"KR_5897155407\",\"KR_5944029021\",\"KR_5907617277\",\"KR_5887706530\",\"KR_5947402021\",\"KR_5936294990\",\"KR_5937298797\",\"KR_5885032321\",\"KR_5901393729\",\"KR_5885194272\",\"KR_5887384287\",\"KR_5928749114\",\"KR_5890245144\",\"KR_5921337499\",\"KR_5947601250\",\"KR_5932118148\",\"KR_5935862415\",\"KR_5948035732\",\"KR_5887783615\",\"KR_5922380801\",\"KR_5947676632\",\"KR_5925895593\",\"KR_5905860179\",\"KR_5885067354\",\"KR_5948521990\",\"KR_5889433555\",\"KR_5930666017\",\"KR_5891035514\",\"KR_5908992329\",\"KR_5922132607\",\"KR_5901905666\",\"KR_5926480151\",\"KR_5947604622\",\"KR_5903835663\",\"KR_5932529440\",\"KR_5903109699\",\"KR_5935683340\",\"KR_5935837003\",\"KR_5896830958\",\"KR_5934792349\",\"KR_5889472363\",\"KR_5933017693\",\"KR_5920185678\",\"KR_5887735422\",\"KR_5935718194\",\"KR_5887094447\",\"KR_5931161190\",\"KR_5947280074\",\"KR_5887769463\",\"KR_5887700263\",\"KR_5887219341\",\"KR_5920470182\",\"KR_5937950634\",\"KR_5928674773\",\"KR_5888254234\",\"KR_5888397325\",\"KR_5894207810\",\"KR_5885303163\",\"KR_5887264211\",\"KR_5922117151\",\"KR_5933289239\",\"KR_5914024901\",\"KR_5887781735\",\"KR_5910044054\",\"KR_5891216106\",\"KR_5903876224\",\"KR_5886343477\",\"KR_5947291391\",\"KR_5920039035\",\"KR_5948488912\",\"KR_5913084671\",\"KR_5923295741\",\"KR_5900939321\",\"KR_5923410708\",\"KR_5905813976\",\"KR_5937690961\",\"KR_5896834981\",\"KR_5938020149\",\"KR_5932106146\",\"KR_5901264939\",\"KR_5908324281\",\"KR_5921437018\",\"KR_5887138750\",\"KR_5924718598\",\"KR_5911393767\",\"KR_5937502870\",\"KR_5944229718\",\"KR_5894253757\",\"KR_5911635440\",\"KR_5912686230\",\"KR_5919484709\",\"KR_5924364928\",\"KR_5919112487\",\"KR_5944636527\",\"KR_5898542464\",\"KR_5913123019\",\"KR_5903251547\",\"KR_5931388827\",\"KR_5898340602\"],\"xaxis\":\"x\",\"y\":[15.740216608333332,16.157592977811635,18.466046065319922,18.47517038624091,18.660865251666667,18.729107217439083,19.285322001666664,19.420739842437108,19.675403108746572,19.71899906850664,20.12358155758759,20.1715272664237,20.187547841887977,20.227308893972765,20.299009879999996,20.447930110500632,20.598979046498915,20.858713046532685,20.886921505246768,21.004940903791276,21.862464594169417,21.940064993333333,22.65978015025311,22.785419626290086,23.04520998674923,23.064416701133553,23.128915713947926,23.207803844659075,23.27361114912606,23.417568858194716,23.674383571503423,23.841909791097866,23.90483271722546,23.98892981202979,24.043645904492756,24.070196042056242,24.315009511977816,24.684167967416503,24.692501799377062,24.952848287170443,25.11750994790166,25.544745405155876,25.686812773383036,25.693550371666667,26.070791434999997,26.185891818451033,26.259749478465565,26.456595560644516,26.526605207849435,26.660229514607348,26.75150492028627,26.96717583393302,27.04642721782325,27.119018421699888,27.214512463035142,27.32182032620616,28.66479868802803,28.919682772879142,29.069455040063986,29.159627193333332,29.625071531519612,30.17352080807712,30.182354111441967,30.27638933503844,30.423363670669406,30.458403078254968,30.778573178166265,30.887792902693924,31.001301505189293,31.339869022891154,31.718477302505697,32.047613909251226,32.59984279333333,32.65396290666666,33.10682482696189,33.15050316012308,33.41547912215743,34.746578267799876,34.91522026943051,35.23226255376003,35.98409811322572,36.1937174647091,36.43815772667036,36.5061107668641,36.60817046113617,38.64167095602678,38.85079519764186,38.85649890396437,40.0564427065692,40.37672912532535,41.46021803896464,41.71396822645254,43.618351630012484,43.687860305623744,44.63580034357978,44.93012909263244,45.54347446515795,45.89862515449944,56.695608390865814],\"yaxis\":\"y\",\"type\":\"bar\"},{\"alignmentgroup\":\"True\",\"hovertemplate\":\"type=\\uc8fd\\uc5b4\\uc788\\ub358 \\uc2dc\\uac04<br>match_id=%{x}<br>time=%{y}<extra></extra>\",\"legendgroup\":\"\\uc8fd\\uc5b4\\uc788\\ub358 \\uc2dc\\uac04\",\"marker\":{\"color\":\"#EF553B\",\"pattern\":{\"shape\":\"\"}},\"name\":\"\\uc8fd\\uc5b4\\uc788\\ub358 \\uc2dc\\uac04\",\"offsetgroup\":\"\\uc8fd\\uc5b4\\uc788\\ub358 \\uc2dc\\uac04\",\"orientation\":\"v\",\"showlegend\":true,\"textposition\":\"auto\",\"x\":[\"KR_5947604622\",\"KR_5887384287\",\"KR_5921337499\",\"KR_5936294990\",\"KR_5932118148\",\"KR_5908992329\",\"KR_5934792349\",\"KR_5907617277\",\"KR_5944029021\",\"KR_5925895593\",\"KR_5885032321\",\"KR_5930666017\",\"KR_5897155407\",\"KR_5932529440\",\"KR_5890245144\",\"KR_5922132607\",\"KR_5947676632\",\"KR_5922380801\",\"KR_5948035732\",\"KR_5910044054\",\"KR_5887264211\",\"KR_5947402021\",\"KR_5885194272\",\"KR_5887700263\",\"KR_5935718194\",\"KR_5923410708\",\"KR_5891035514\",\"KR_5948521990\",\"KR_5926480151\",\"KR_5905860179\",\"KR_5887706530\",\"KR_5903876224\",\"KR_5924718598\",\"KR_5947601250\",\"KR_5920185678\",\"KR_5889433555\",\"KR_5885303163\",\"KR_5947291391\",\"KR_5887783615\",\"KR_5935862415\",\"KR_5914024901\",\"KR_5937298797\",\"KR_5887219341\",\"KR_5933289239\",\"KR_5903835663\",\"KR_5901905666\",\"KR_5901393729\",\"KR_5889472363\",\"KR_5894207810\",\"KR_5885067354\",\"KR_5903109699\",\"KR_5935837003\",\"KR_5887735422\",\"KR_5896830958\",\"KR_5920470182\",\"KR_5947280074\",\"KR_5928749114\",\"KR_5900939321\",\"KR_5931161190\",\"KR_5928674773\",\"KR_5905813976\",\"KR_5887138750\",\"KR_5938020149\",\"KR_5922117151\",\"KR_5903251547\",\"KR_5888397325\",\"KR_5894253757\",\"KR_5923295741\",\"KR_5887769463\",\"KR_5891216106\",\"KR_5937950634\",\"KR_5933017693\",\"KR_5911393767\",\"KR_5920039035\",\"KR_5898542464\",\"KR_5887781735\",\"KR_5896834981\",\"KR_5913084671\",\"KR_5937690961\",\"KR_5935683340\",\"KR_5887094447\",\"KR_5908324281\",\"KR_5901264939\",\"KR_5886343477\",\"KR_5948488912\",\"KR_5944229718\",\"KR_5932106146\",\"KR_5919484709\",\"KR_5944636527\",\"KR_5921437018\",\"KR_5888254234\",\"KR_5912686230\",\"KR_5911635440\",\"KR_5924364928\",\"KR_5937502870\",\"KR_5913123019\",\"KR_5898340602\",\"KR_5931388827\",\"KR_5919112487\"],\"xaxis\":\"x\",\"y\":[0.0,0.0,0.16666666666666666,0.23333333333333334,0.23333333333333334,0.23333333333333334,0.3333333333333333,0.35,0.45,0.5833333333333334,0.5833333333333334,0.7,0.8666666666666667,1.0,1.1666666666666667,1.2,1.3,1.4,1.4166666666666667,1.4666666666666666,1.55,1.5833333333333333,1.7166666666666666,1.85,2.1,2.1,2.1333333333333333,2.2,2.2333333333333334,2.283333333333333,2.566666666666667,2.5833333333333335,2.6166666666666667,2.65,2.8333333333333335,2.8833333333333333,2.9,2.933333333333333,2.933333333333333,2.95,2.9833333333333334,3.0166666666666666,3.05,3.2,3.2333333333333334,3.25,3.25,3.25,3.3666666666666667,3.4,3.55,3.566666666666667,3.5833333333333335,3.6166666666666667,3.6333333333333333,3.7,3.7,3.7,3.8,3.8,3.9,3.95,4.033333333333333,4.05,4.05,4.05,4.183333333333334,4.416666666666667,4.616666666666666,4.8,4.9,4.983333333333333,5.016666666666667,5.05,5.133333333333334,5.233333333333333,5.25,5.266666666666667,5.5,5.816666666666666,5.983333333333333,6.133333333333334,6.283333333333333,6.283333333333333,6.35,6.366666666666666,6.416666666666667,6.5,6.55,6.566666666666666,6.616666666666666,6.95,7.566666666666666,7.683333333333334,9.1,10.316666666666666,10.416666666666666,11.116666666666667,11.533333333333333],\"yaxis\":\"y\",\"type\":\"bar\"},{\"mode\":\"text\",\"text\":[\"\\ud3c9\\uade0 \\uac8c\\uc784 \\uae38\\uc774 : 28.52\\ubd84\",\"\\ud3c9\\uade0\\uc801\\uc73c\\ub85c \\uac8c\\uc784 \\uc2dc\\uac04\\uc758 0.12\\ubd84\\uc744 \\uc8fd\\uc5b4\\uc788\\uc2b5\\ub2c8\\ub2e4\"],\"x\":[\"KR_5947676632\",\"KR_5889433555\"],\"y\":[40,50],\"type\":\"scatter\"}],                        {\"template\":{\"data\":{\"histogram2dcontour\":[{\"type\":\"histogram2dcontour\",\"colorbar\":{\"outlinewidth\":0,\"ticks\":\"\"},\"colorscale\":[[0.0,\"#0d0887\"],[0.1111111111111111,\"#46039f\"],[0.2222222222222222,\"#7201a8\"],[0.3333333333333333,\"#9c179e\"],[0.4444444444444444,\"#bd3786\"],[0.5555555555555556,\"#d8576b\"],[0.6666666666666666,\"#ed7953\"],[0.7777777777777778,\"#fb9f3a\"],[0.8888888888888888,\"#fdca26\"],[1.0,\"#f0f921\"]]}],\"choropleth\":[{\"type\":\"choropleth\",\"colorbar\":{\"outlinewidth\":0,\"ticks\":\"\"}}],\"histogram2d\":[{\"type\":\"histogram2d\",\"colorbar\":{\"outlinewidth\":0,\"ticks\":\"\"},\"colorscale\":[[0.0,\"#0d0887\"],[0.1111111111111111,\"#46039f\"],[0.2222222222222222,\"#7201a8\"],[0.3333333333333333,\"#9c179e\"],[0.4444444444444444,\"#bd3786\"],[0.5555555555555556,\"#d8576b\"],[0.6666666666666666,\"#ed7953\"],[0.7777777777777778,\"#fb9f3a\"],[0.8888888888888888,\"#fdca26\"],[1.0,\"#f0f921\"]]}],\"heatmap\":[{\"type\":\"heatmap\",\"colorbar\":{\"outlinewidth\":0,\"ticks\":\"\"},\"colorscale\":[[0.0,\"#0d0887\"],[0.1111111111111111,\"#46039f\"],[0.2222222222222222,\"#7201a8\"],[0.3333333333333333,\"#9c179e\"],[0.4444444444444444,\"#bd3786\"],[0.5555555555555556,\"#d8576b\"],[0.6666666666666666,\"#ed7953\"],[0.7777777777777778,\"#fb9f3a\"],[0.8888888888888888,\"#fdca26\"],[1.0,\"#f0f921\"]]}],\"heatmapgl\":[{\"type\":\"heatmapgl\",\"colorbar\":{\"outlinewidth\":0,\"ticks\":\"\"},\"colorscale\":[[0.0,\"#0d0887\"],[0.1111111111111111,\"#46039f\"],[0.2222222222222222,\"#7201a8\"],[0.3333333333333333,\"#9c179e\"],[0.4444444444444444,\"#bd3786\"],[0.5555555555555556,\"#d8576b\"],[0.6666666666666666,\"#ed7953\"],[0.7777777777777778,\"#fb9f3a\"],[0.8888888888888888,\"#fdca26\"],[1.0,\"#f0f921\"]]}],\"contourcarpet\":[{\"type\":\"contourcarpet\",\"colorbar\":{\"outlinewidth\":0,\"ticks\":\"\"}}],\"contour\":[{\"type\":\"contour\",\"colorbar\":{\"outlinewidth\":0,\"ticks\":\"\"},\"colorscale\":[[0.0,\"#0d0887\"],[0.1111111111111111,\"#46039f\"],[0.2222222222222222,\"#7201a8\"],[0.3333333333333333,\"#9c179e\"],[0.4444444444444444,\"#bd3786\"],[0.5555555555555556,\"#d8576b\"],[0.6666666666666666,\"#ed7953\"],[0.7777777777777778,\"#fb9f3a\"],[0.8888888888888888,\"#fdca26\"],[1.0,\"#f0f921\"]]}],\"surface\":[{\"type\":\"surface\",\"colorbar\":{\"outlinewidth\":0,\"ticks\":\"\"},\"colorscale\":[[0.0,\"#0d0887\"],[0.1111111111111111,\"#46039f\"],[0.2222222222222222,\"#7201a8\"],[0.3333333333333333,\"#9c179e\"],[0.4444444444444444,\"#bd3786\"],[0.5555555555555556,\"#d8576b\"],[0.6666666666666666,\"#ed7953\"],[0.7777777777777778,\"#fb9f3a\"],[0.8888888888888888,\"#fdca26\"],[1.0,\"#f0f921\"]]}],\"mesh3d\":[{\"type\":\"mesh3d\",\"colorbar\":{\"outlinewidth\":0,\"ticks\":\"\"}}],\"scatter\":[{\"fillpattern\":{\"fillmode\":\"overlay\",\"size\":10,\"solidity\":0.2},\"type\":\"scatter\"}],\"parcoords\":[{\"type\":\"parcoords\",\"line\":{\"colorbar\":{\"outlinewidth\":0,\"ticks\":\"\"}}}],\"scatterpolargl\":[{\"type\":\"scatterpolargl\",\"marker\":{\"colorbar\":{\"outlinewidth\":0,\"ticks\":\"\"}}}],\"bar\":[{\"error_x\":{\"color\":\"#2a3f5f\"},\"error_y\":{\"color\":\"#2a3f5f\"},\"marker\":{\"line\":{\"color\":\"#E5ECF6\",\"width\":0.5},\"pattern\":{\"fillmode\":\"overlay\",\"size\":10,\"solidity\":0.2}},\"type\":\"bar\"}],\"scattergeo\":[{\"type\":\"scattergeo\",\"marker\":{\"colorbar\":{\"outlinewidth\":0,\"ticks\":\"\"}}}],\"scatterpolar\":[{\"type\":\"scatterpolar\",\"marker\":{\"colorbar\":{\"outlinewidth\":0,\"ticks\":\"\"}}}],\"histogram\":[{\"marker\":{\"pattern\":{\"fillmode\":\"overlay\",\"size\":10,\"solidity\":0.2}},\"type\":\"histogram\"}],\"scattergl\":[{\"type\":\"scattergl\",\"marker\":{\"colorbar\":{\"outlinewidth\":0,\"ticks\":\"\"}}}],\"scatter3d\":[{\"type\":\"scatter3d\",\"line\":{\"colorbar\":{\"outlinewidth\":0,\"ticks\":\"\"}},\"marker\":{\"colorbar\":{\"outlinewidth\":0,\"ticks\":\"\"}}}],\"scattermapbox\":[{\"type\":\"scattermapbox\",\"marker\":{\"colorbar\":{\"outlinewidth\":0,\"ticks\":\"\"}}}],\"scatterternary\":[{\"type\":\"scatterternary\",\"marker\":{\"colorbar\":{\"outlinewidth\":0,\"ticks\":\"\"}}}],\"scattercarpet\":[{\"type\":\"scattercarpet\",\"marker\":{\"colorbar\":{\"outlinewidth\":0,\"ticks\":\"\"}}}],\"carpet\":[{\"aaxis\":{\"endlinecolor\":\"#2a3f5f\",\"gridcolor\":\"white\",\"linecolor\":\"white\",\"minorgridcolor\":\"white\",\"startlinecolor\":\"#2a3f5f\"},\"baxis\":{\"endlinecolor\":\"#2a3f5f\",\"gridcolor\":\"white\",\"linecolor\":\"white\",\"minorgridcolor\":\"white\",\"startlinecolor\":\"#2a3f5f\"},\"type\":\"carpet\"}],\"table\":[{\"cells\":{\"fill\":{\"color\":\"#EBF0F8\"},\"line\":{\"color\":\"white\"}},\"header\":{\"fill\":{\"color\":\"#C8D4E3\"},\"line\":{\"color\":\"white\"}},\"type\":\"table\"}],\"barpolar\":[{\"marker\":{\"line\":{\"color\":\"#E5ECF6\",\"width\":0.5},\"pattern\":{\"fillmode\":\"overlay\",\"size\":10,\"solidity\":0.2}},\"type\":\"barpolar\"}],\"pie\":[{\"automargin\":true,\"type\":\"pie\"}]},\"layout\":{\"autotypenumbers\":\"strict\",\"colorway\":[\"#636efa\",\"#EF553B\",\"#00cc96\",\"#ab63fa\",\"#FFA15A\",\"#19d3f3\",\"#FF6692\",\"#B6E880\",\"#FF97FF\",\"#FECB52\"],\"font\":{\"color\":\"#2a3f5f\"},\"hovermode\":\"closest\",\"hoverlabel\":{\"align\":\"left\"},\"paper_bgcolor\":\"white\",\"plot_bgcolor\":\"#E5ECF6\",\"polar\":{\"bgcolor\":\"#E5ECF6\",\"angularaxis\":{\"gridcolor\":\"white\",\"linecolor\":\"white\",\"ticks\":\"\"},\"radialaxis\":{\"gridcolor\":\"white\",\"linecolor\":\"white\",\"ticks\":\"\"}},\"ternary\":{\"bgcolor\":\"#E5ECF6\",\"aaxis\":{\"gridcolor\":\"white\",\"linecolor\":\"white\",\"ticks\":\"\"},\"baxis\":{\"gridcolor\":\"white\",\"linecolor\":\"white\",\"ticks\":\"\"},\"caxis\":{\"gridcolor\":\"white\",\"linecolor\":\"white\",\"ticks\":\"\"}},\"coloraxis\":{\"colorbar\":{\"outlinewidth\":0,\"ticks\":\"\"}},\"colorscale\":{\"sequential\":[[0.0,\"#0d0887\"],[0.1111111111111111,\"#46039f\"],[0.2222222222222222,\"#7201a8\"],[0.3333333333333333,\"#9c179e\"],[0.4444444444444444,\"#bd3786\"],[0.5555555555555556,\"#d8576b\"],[0.6666666666666666,\"#ed7953\"],[0.7777777777777778,\"#fb9f3a\"],[0.8888888888888888,\"#fdca26\"],[1.0,\"#f0f921\"]],\"sequentialminus\":[[0.0,\"#0d0887\"],[0.1111111111111111,\"#46039f\"],[0.2222222222222222,\"#7201a8\"],[0.3333333333333333,\"#9c179e\"],[0.4444444444444444,\"#bd3786\"],[0.5555555555555556,\"#d8576b\"],[0.6666666666666666,\"#ed7953\"],[0.7777777777777778,\"#fb9f3a\"],[0.8888888888888888,\"#fdca26\"],[1.0,\"#f0f921\"]],\"diverging\":[[0,\"#8e0152\"],[0.1,\"#c51b7d\"],[0.2,\"#de77ae\"],[0.3,\"#f1b6da\"],[0.4,\"#fde0ef\"],[0.5,\"#f7f7f7\"],[0.6,\"#e6f5d0\"],[0.7,\"#b8e186\"],[0.8,\"#7fbc41\"],[0.9,\"#4d9221\"],[1,\"#276419\"]]},\"xaxis\":{\"gridcolor\":\"white\",\"linecolor\":\"white\",\"ticks\":\"\",\"title\":{\"standoff\":15},\"zerolinecolor\":\"white\",\"automargin\":true,\"zerolinewidth\":2},\"yaxis\":{\"gridcolor\":\"white\",\"linecolor\":\"white\",\"ticks\":\"\",\"title\":{\"standoff\":15},\"zerolinecolor\":\"white\",\"automargin\":true,\"zerolinewidth\":2},\"scene\":{\"xaxis\":{\"backgroundcolor\":\"#E5ECF6\",\"gridcolor\":\"white\",\"linecolor\":\"white\",\"showbackground\":true,\"ticks\":\"\",\"zerolinecolor\":\"white\",\"gridwidth\":2},\"yaxis\":{\"backgroundcolor\":\"#E5ECF6\",\"gridcolor\":\"white\",\"linecolor\":\"white\",\"showbackground\":true,\"ticks\":\"\",\"zerolinecolor\":\"white\",\"gridwidth\":2},\"zaxis\":{\"backgroundcolor\":\"#E5ECF6\",\"gridcolor\":\"white\",\"linecolor\":\"white\",\"showbackground\":true,\"ticks\":\"\",\"zerolinecolor\":\"white\",\"gridwidth\":2}},\"shapedefaults\":{\"line\":{\"color\":\"#2a3f5f\"}},\"annotationdefaults\":{\"arrowcolor\":\"#2a3f5f\",\"arrowhead\":0,\"arrowwidth\":1},\"geo\":{\"bgcolor\":\"white\",\"landcolor\":\"#E5ECF6\",\"subunitcolor\":\"white\",\"showland\":true,\"showlakes\":true,\"lakecolor\":\"white\"},\"title\":{\"x\":0.05},\"mapbox\":{\"style\":\"light\"}}},\"xaxis\":{\"anchor\":\"y\",\"domain\":[0.0,1.0],\"title\":{\"text\":\"\\ub9e4\\uce58 \\uc544\\uc774\\ub514\"}},\"yaxis\":{\"anchor\":\"x\",\"domain\":[0.0,1.0],\"title\":{\"text\":\"\\uc2dc\\uac04 (\\ubd84)\"}},\"legend\":{\"title\":{\"text\":\"\\uc2dc\\uac04 \\uc885\\ub958\"},\"tracegroupgap\":0},\"margin\":{\"t\":60},\"barmode\":\"group\",\"shapes\":[{\"line\":{\"color\":\"red\",\"dash\":\"dashdot\",\"width\":4},\"type\":\"line\",\"x0\":\"KR_5897155407\",\"x1\":\"KR_5919112487\",\"y0\":28.520767063829105,\"y1\":28.520767063829105}],\"title\":{\"text\":\"\\ucd1d \\uac8c\\uc784 \\uae38\\uc774\\ubcc4 \\uc8fd\\uc5b4 \\uc788\\ub358 \\uc2dc\\uac04 \\uc2dc\\uac01\\ud654\"}},                        {\"responsive\": true}                    ).then(function(){\n",
       "                            \n",
       "var gd = document.getElementById('cfcff41c-c8d5-4b14-8781-e8a03c3a45ae');\n",
       "var x = new MutationObserver(function (mutations, observer) {{\n",
       "        var display = window.getComputedStyle(gd).display;\n",
       "        if (!display || display === 'none') {{\n",
       "            console.log([gd, 'removed!']);\n",
       "            Plotly.purge(gd);\n",
       "            observer.disconnect();\n",
       "        }}\n",
       "}});\n",
       "\n",
       "// Listen for the removal of the full notebook cells\n",
       "var notebookContainer = gd.closest('#notebook-container');\n",
       "if (notebookContainer) {{\n",
       "    x.observe(notebookContainer, {childList: true});\n",
       "}}\n",
       "\n",
       "// Listen for the clearing of the current output cell\n",
       "var outputEl = gd.closest('.output');\n",
       "if (outputEl) {{\n",
       "    x.observe(outputEl, {childList: true});\n",
       "}}\n",
       "\n",
       "                        })                };                });            </script>        </div>"
      ]
     },
     "metadata": {},
     "output_type": "display_data"
    }
   ],
   "source": [
    "fig = px.bar(test_df, x='match_id', y='time', color='type', barmode='group')\n",
    "\n",
    "fig.add_trace(go.Scatter(\n",
    "    x=[test_df['match_id'][20], test_df['match_id'][25]], \n",
    "    y=[40, 50],\n",
    "    text=[f'평균 게임 길이 : {round(game_length_mean,2)}분',f'평균적으로 게임 시간의 {round(dead_rate_mean,2)}분을 죽어있습니다'],\n",
    "    mode='text'))\n",
    "\n",
    "fig.add_shape(type='line', x0=test_df['match_id'][0], x1=test_df['match_id'][len(test_df)-1], \n",
    "              y0=game_length_mean, y1=game_length_mean,\n",
    "              line=dict(\n",
    "                 color=\"red\",\n",
    "                 width=4,\n",
    "                 dash=\"dashdot\"))\n",
    "\n",
    "fig.update_layout(\n",
    "    title=\"총 게임 길이별 죽어 있던 시간 시각화\",\n",
    "    xaxis_title=\"매치 아이디\",\n",
    "    yaxis_title=\"시간 (분)\",\n",
    "    legend_title=\"시간 종류\",\n",
    ")\n",
    "\n",
    "\n",
    "\n",
    "fig.show()"
   ]
  },
  {
   "cell_type": "code",
   "execution_count": null,
   "id": "62e9b186",
   "metadata": {},
   "outputs": [],
   "source": []
  }
 ],
 "metadata": {
  "kernelspec": {
   "display_name": "Python 3 (ipykernel)",
   "language": "python",
   "name": "python3"
  },
  "language_info": {
   "codemirror_mode": {
    "name": "ipython",
    "version": 3
   },
   "file_extension": ".py",
   "mimetype": "text/x-python",
   "name": "python",
   "nbconvert_exporter": "python",
   "pygments_lexer": "ipython3",
   "version": "3.9.7"
  }
 },
 "nbformat": 4,
 "nbformat_minor": 5
}

