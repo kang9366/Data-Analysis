{
 "cells": [
  {
   "cell_type": "markdown",
   "id": "619abe92",
   "metadata": {},
   "source": [
    "# 2. Pandas\n",
    "* High-level data structures and functions designed to make working with structured or tabular data fast, easy, and expressive\n",
    "* DataFrame: a tabular, column-oriented data structure with both row and column labels • Series: a one-dimensional labeled array object\n",
    "\n",
    "\n",
    "\n",
    "# 4. SciPy\n",
    "* collection of packages addressing a number of different standard problem domains in scientific computing\n",
    "* E.g.,scipy.integrate,scipy.stats\n",
    "\n",
    "# 5. Scikit-learn\n",
    "* Premier general purpose machine learning toolkit for Python programmers\n",
    "\n",
    "# 6. statsmodels\n",
    "* Statistical analysis package that contains algorithms for classical (primarily frequentist) statistics and econometrics, compared with scikit-learn, e.g., Regression, ANOVA\n",
    "\n",
    "# 7. seaborn\n",
    "* Providing several built-in plot themes or styles that use matplotlib’s configuration system internally"
   ]
  },
  {
   "cell_type": "markdown",
   "id": "95b5f15a",
   "metadata": {},
   "source": [
    "# Using Python Libraries"
   ]
  },
  {
   "cell_type": "code",
   "execution_count": 1,
   "id": "1d719258",
   "metadata": {},
   "outputs": [],
   "source": [
    "#imports and steup\n",
    "import numpy as np\n",
    "from scipy.stats.stats import pearsonr\n",
    "\n",
    "import seaborn as sns\n",
    "import matplotlib\n",
    "import matplotlib.pyplot as plt # drawing 2d plots\n",
    "from mpl_toolkits.mplot3d import Axes3D # drawing 3d plots\n",
    "\n",
    "import math\n",
    "import pandas as pd\n",
    "\n",
    "%matplotlib inline\n",
    "pd.set_option('precision', 2) # number precision for pandas (set digit)\n",
    "plt.style.use('seaborn') # pretty matplotlib plots"
   ]
  },
  {
   "cell_type": "markdown",
   "id": "33c3ad26",
   "metadata": {},
   "source": [
    "# 1. Numpy\n",
    "\n",
    "* A fast and efficient multidimensional array object ndarray\n",
    "* Functions for performing element-wise computations with arrays or mathematical operations between arrays\n",
    "* Tools for reading and writing array-based datasets to disk\n",
    "* Linear algebra operations, Fourier transform, and random number generation"
   ]
  },
  {
   "cell_type": "code",
   "execution_count": 14,
   "id": "001b62a8",
   "metadata": {},
   "outputs": [
    {
     "name": "stdout",
     "output_type": "stream",
     "text": [
      "numpy\n",
      "CPU times: user 10.2 ms, sys: 157 µs, total: 10.4 ms\n",
      "Wall time: 10 ms\n",
      "\n",
      "list\n",
      "CPU times: user 768 ms, sys: 185 ms, total: 953 ms\n",
      "Wall time: 955 ms\n"
     ]
    }
   ],
   "source": [
    "# Numpy is Very efficient on large arrays of data\n",
    "# NumPy internally stores data in a contiguous block of memory\n",
    "# Complex computations on entire arrays without the need for Python for loops\n",
    "\n",
    "import numpy as np\n",
    "my_arr = np.arange(1000000)\n",
    "my_list = list(range(1000000))\n",
    "\n",
    "print(\"numpy\")\n",
    "%time for _ in range(10): my_arr2 = my_arr*2\n",
    "print(\"\")\n",
    "print(\"list\")\n",
    "%time for _ in range(10): my_list2 = [x*2 for x in my_list]"
   ]
  },
  {
   "cell_type": "code",
   "execution_count": 22,
   "id": "ee04d4fc",
   "metadata": {},
   "outputs": [
    {
     "data": {
      "text/plain": [
       "(3, 3)"
      ]
     },
     "execution_count": 22,
     "metadata": {},
     "output_type": "execute_result"
    }
   ],
   "source": [
    "# array creation\n",
    "x = np.array([1, 6, 2])\n",
    "y = np.array([1, 4, 3])\n",
    "len(x), len(y)"
   ]
  },
  {
   "cell_type": "code",
   "execution_count": 13,
   "id": "b929df46",
   "metadata": {},
   "outputs": [
    {
     "data": {
      "text/plain": [
       "array([ 2, 10,  5])"
      ]
     },
     "execution_count": 13,
     "metadata": {},
     "output_type": "execute_result"
    }
   ],
   "source": [
    "# array operations\n",
    "x + y"
   ]
  },
  {
   "cell_type": "code",
   "execution_count": 16,
   "id": "66b9822b",
   "metadata": {},
   "outputs": [
    {
     "data": {
      "text/plain": [
       "matrix([[1, 3],\n",
       "        [2, 4]])"
      ]
     },
     "execution_count": 16,
     "metadata": {},
     "output_type": "execute_result"
    }
   ],
   "source": [
    "# matrix creation\n",
    "x = np.asmatrix(np.arange(1, 5).reshape(2, 2).transpose())\n",
    "x"
   ]
  },
  {
   "cell_type": "code",
   "execution_count": 17,
   "id": "9b8533f7",
   "metadata": {},
   "outputs": [
    {
     "data": {
      "text/plain": [
       "matrix([[ 1,  9],\n",
       "        [ 4, 16]])"
      ]
     },
     "execution_count": 17,
     "metadata": {},
     "output_type": "execute_result"
    }
   ],
   "source": [
    "# matrix operations\n",
    "np.power(x, 2) # not multiply, it is what each elements are squared"
   ]
  },
  {
   "cell_type": "code",
   "execution_count": 18,
   "id": "23816595",
   "metadata": {},
   "outputs": [
    {
     "data": {
      "text/plain": [
       "0.9944995217940871"
      ]
     },
     "execution_count": 18,
     "metadata": {},
     "output_type": "execute_result"
    }
   ],
   "source": [
    "# random normal distribution & correlation\n",
    "x = np.random.normal(size=50)\n",
    "y = x + np.random.normal(loc=50, scale=.1, size=50)\n",
    "pearsonr(x,y)[0]"
   ]
  },
  {
   "cell_type": "code",
   "execution_count": 19,
   "id": "786b3099",
   "metadata": {},
   "outputs": [
    {
     "data": {
      "text/plain": [
       "(-0.10863707440606224,\n",
       " 1.132081888283007,\n",
       " 1.0639933685333791,\n",
       " 1.0639933685333791)"
      ]
     },
     "execution_count": 19,
     "metadata": {},
     "output_type": "execute_result"
    }
   ],
   "source": [
    "# random seed and basic statistical functions\n",
    "np.random.seed(3)\n",
    "y = np.random.normal(size=100)\n",
    "y.mean(), y.var(), np.sqrt(y.var()), y.std()"
   ]
  },
  {
   "cell_type": "markdown",
   "id": "d4fba6f2",
   "metadata": {},
   "source": [
    "# 2. Matplotlib\n",
    "* Python library for producing plots and other two-dimensional data visualizations"
   ]
  },
  {
   "cell_type": "code",
   "execution_count": 20,
   "id": "c9315333",
   "metadata": {},
   "outputs": [
    {
     "data": {
      "text/plain": [
       "[<matplotlib.lines.Line2D at 0x7fbe842330d0>]"
      ]
     },
     "execution_count": 20,
     "metadata": {},
     "output_type": "execute_result"
    },
    {
     "data": {
      "image/png": "[encoded data removed]",
      "text/plain": [
       "<Figure size 576x396 with 1 Axes>"
      ]
     },
     "metadata": {},
     "output_type": "display_data"
    }
   ],
   "source": [
    "# basic plot\n",
    "plt.plot(np.random.randn(30).cumsum(), 'ko--')"
   ]
  },
  {
   "cell_type": "code",
   "execution_count": 21,
   "id": "70d5d7e4",
   "metadata": {},
   "outputs": [
    {
     "data": {
      "text/plain": [
       "<matplotlib.collections.PathCollection at 0x7fbe84eafa00>"
      ]
     },
     "execution_count": 21,
     "metadata": {},
     "output_type": "execute_result"
    },
    {
     "data": {
      "image/png": "[encoded data removed]",
      "text/plain": [
       "<Figure size 576x396 with 3 Axes>"
      ]
     },
     "metadata": {},
     "output_type": "display_data"
    }
   ],
   "source": [
    "# figures and subplots\n",
    "fig = plt.figure()\n",
    "ax1 = fig.add_subplot(2, 2, 1)\n",
    "ax2 = fig.add_subplot(2, 2, 2)\n",
    "ax3 = fig.add_subplot(2, 2, 3)\n",
    "plt.plot(np.random.randn(50).cumsum(), 'k--')\n",
    "_ = ax1.hist(np.random.randn(100), bins=20, color='k', alpha=0.3)\n",
    "ax2.scatter(np.arange(30), np.arange(30) + 3 * np.random.randn(30))\n",
    "\n",
    "# If color parameter is 'k', it generally makes graph black\n",
    "# alpha parameter maens transparency of graph"
   ]
  },
  {
   "cell_type": "code",
   "execution_count": null,
   "id": "0e5a8981",
   "metadata": {},
   "outputs": [],
   "source": []
  }
 ],
 "metadata": {
  "kernelspec": {
   "display_name": "Python 3 (ipykernel)",
   "language": "python",
   "name": "python3"
  },
  "language_info": {
   "codemirror_mode": {
    "name": "ipython",
    "version": 3
   },
   "file_extension": ".py",
   "mimetype": "text/x-python",
   "name": "python",
   "nbconvert_exporter": "python",
   "pygments_lexer": "ipython3",
   "version": "3.9.7"
  }
 },
 "nbformat": 4,
 "nbformat_minor": 5
}
