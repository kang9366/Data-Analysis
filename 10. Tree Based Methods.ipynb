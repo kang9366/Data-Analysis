{
 "cells": [
  {
   "cell_type": "markdown",
   "id": "c422f965",
   "metadata": {},
   "source": [
    "# Import Libraries"
   ]
  },
  {
   "cell_type": "code",
   "execution_count": 2,
   "id": "574e5661",
   "metadata": {},
   "outputs": [],
   "source": [
    "# imports and setup\n",
    "%matplotlib inline\n",
    "\n",
    "import numpy as np\n",
    "import pandas as pd\n",
    "\n",
    "import seaborn as sns\n",
    "import matplotlib.pyplot as plt\n",
    "pd.set_option('precision', 4) # number precision for pandas\n",
    "pd.set_option('display.max_rows', 12)\n",
    "pd.set_option('display.max_columns', 12)\n",
    "pd.set_option('display.float_format', '{:20,.5f}'.format) #get rid of scientific notation\n",
    "plt.style.use('seaborn') #pretty matplotlib plots"
   ]
  },
  {
   "cell_type": "markdown",
   "id": "7e44e207",
   "metadata": {},
   "source": [
    "# Load data\n",
    "Sales : \n",
    "CompPrice\n",
    "Income\n",
    "Advertising\n",
    "Population\n",
    "Price\n",
    "ShelveLoc\n",
    "Age\n",
    "Education\n",
    "Urban\n",
    "US\n",
    "High"
   ]
  },
  {
   "cell_type": "code",
   "execution_count": 3,
   "id": "19024cc7",
   "metadata": {
    "scrolled": true
   },
   "outputs": [
    {
     "data": {
      "text/html": [
       "<div>\n",
       "<style scoped>\n",
       "    .dataframe tbody tr th:only-of-type {\n",
       "        vertical-align: middle;\n",
       "    }\n",
       "\n",
       "    .dataframe tbody tr th {\n",
       "        vertical-align: top;\n",
       "    }\n",
       "\n",
       "    .dataframe thead th {\n",
       "        text-align: right;\n",
       "    }\n",
       "</style>\n",
       "<table border=\"1\" class=\"dataframe\">\n",
       "  <thead>\n",
       "    <tr style=\"text-align: right;\">\n",
       "      <th></th>\n",
       "      <th>Sales</th>\n",
       "      <th>CompPrice</th>\n",
       "      <th>Income</th>\n",
       "      <th>Advertising</th>\n",
       "      <th>Population</th>\n",
       "      <th>Price</th>\n",
       "      <th>ShelveLoc</th>\n",
       "      <th>Age</th>\n",
       "      <th>Education</th>\n",
       "      <th>Urban</th>\n",
       "      <th>US</th>\n",
       "      <th>High</th>\n",
       "    </tr>\n",
       "  </thead>\n",
       "  <tbody>\n",
       "    <tr>\n",
       "      <th>1</th>\n",
       "      <td>9.50000</td>\n",
       "      <td>138</td>\n",
       "      <td>73</td>\n",
       "      <td>11</td>\n",
       "      <td>276</td>\n",
       "      <td>120</td>\n",
       "      <td>Bad</td>\n",
       "      <td>42</td>\n",
       "      <td>17</td>\n",
       "      <td>Yes</td>\n",
       "      <td>Yes</td>\n",
       "      <td>Yes</td>\n",
       "    </tr>\n",
       "    <tr>\n",
       "      <th>2</th>\n",
       "      <td>11.22000</td>\n",
       "      <td>111</td>\n",
       "      <td>48</td>\n",
       "      <td>16</td>\n",
       "      <td>260</td>\n",
       "      <td>83</td>\n",
       "      <td>Good</td>\n",
       "      <td>65</td>\n",
       "      <td>10</td>\n",
       "      <td>Yes</td>\n",
       "      <td>Yes</td>\n",
       "      <td>Yes</td>\n",
       "    </tr>\n",
       "    <tr>\n",
       "      <th>3</th>\n",
       "      <td>10.06000</td>\n",
       "      <td>113</td>\n",
       "      <td>35</td>\n",
       "      <td>10</td>\n",
       "      <td>269</td>\n",
       "      <td>80</td>\n",
       "      <td>Medium</td>\n",
       "      <td>59</td>\n",
       "      <td>12</td>\n",
       "      <td>Yes</td>\n",
       "      <td>Yes</td>\n",
       "      <td>Yes</td>\n",
       "    </tr>\n",
       "    <tr>\n",
       "      <th>4</th>\n",
       "      <td>7.40000</td>\n",
       "      <td>117</td>\n",
       "      <td>100</td>\n",
       "      <td>4</td>\n",
       "      <td>466</td>\n",
       "      <td>97</td>\n",
       "      <td>Medium</td>\n",
       "      <td>55</td>\n",
       "      <td>14</td>\n",
       "      <td>Yes</td>\n",
       "      <td>Yes</td>\n",
       "      <td>No</td>\n",
       "    </tr>\n",
       "    <tr>\n",
       "      <th>5</th>\n",
       "      <td>4.15000</td>\n",
       "      <td>141</td>\n",
       "      <td>64</td>\n",
       "      <td>3</td>\n",
       "      <td>340</td>\n",
       "      <td>128</td>\n",
       "      <td>Bad</td>\n",
       "      <td>38</td>\n",
       "      <td>13</td>\n",
       "      <td>Yes</td>\n",
       "      <td>No</td>\n",
       "      <td>No</td>\n",
       "    </tr>\n",
       "    <tr>\n",
       "      <th>...</th>\n",
       "      <td>...</td>\n",
       "      <td>...</td>\n",
       "      <td>...</td>\n",
       "      <td>...</td>\n",
       "      <td>...</td>\n",
       "      <td>...</td>\n",
       "      <td>...</td>\n",
       "      <td>...</td>\n",
       "      <td>...</td>\n",
       "      <td>...</td>\n",
       "      <td>...</td>\n",
       "      <td>...</td>\n",
       "    </tr>\n",
       "    <tr>\n",
       "      <th>396</th>\n",
       "      <td>12.57000</td>\n",
       "      <td>138</td>\n",
       "      <td>108</td>\n",
       "      <td>17</td>\n",
       "      <td>203</td>\n",
       "      <td>128</td>\n",
       "      <td>Good</td>\n",
       "      <td>33</td>\n",
       "      <td>14</td>\n",
       "      <td>Yes</td>\n",
       "      <td>Yes</td>\n",
       "      <td>Yes</td>\n",
       "    </tr>\n",
       "    <tr>\n",
       "      <th>397</th>\n",
       "      <td>6.14000</td>\n",
       "      <td>139</td>\n",
       "      <td>23</td>\n",
       "      <td>3</td>\n",
       "      <td>37</td>\n",
       "      <td>120</td>\n",
       "      <td>Medium</td>\n",
       "      <td>55</td>\n",
       "      <td>11</td>\n",
       "      <td>No</td>\n",
       "      <td>Yes</td>\n",
       "      <td>No</td>\n",
       "    </tr>\n",
       "    <tr>\n",
       "      <th>398</th>\n",
       "      <td>7.41000</td>\n",
       "      <td>162</td>\n",
       "      <td>26</td>\n",
       "      <td>12</td>\n",
       "      <td>368</td>\n",
       "      <td>159</td>\n",
       "      <td>Medium</td>\n",
       "      <td>40</td>\n",
       "      <td>18</td>\n",
       "      <td>Yes</td>\n",
       "      <td>Yes</td>\n",
       "      <td>No</td>\n",
       "    </tr>\n",
       "    <tr>\n",
       "      <th>399</th>\n",
       "      <td>5.94000</td>\n",
       "      <td>100</td>\n",
       "      <td>79</td>\n",
       "      <td>7</td>\n",
       "      <td>284</td>\n",
       "      <td>95</td>\n",
       "      <td>Bad</td>\n",
       "      <td>50</td>\n",
       "      <td>12</td>\n",
       "      <td>Yes</td>\n",
       "      <td>Yes</td>\n",
       "      <td>No</td>\n",
       "    </tr>\n",
       "    <tr>\n",
       "      <th>400</th>\n",
       "      <td>9.71000</td>\n",
       "      <td>134</td>\n",
       "      <td>37</td>\n",
       "      <td>0</td>\n",
       "      <td>27</td>\n",
       "      <td>120</td>\n",
       "      <td>Good</td>\n",
       "      <td>49</td>\n",
       "      <td>16</td>\n",
       "      <td>Yes</td>\n",
       "      <td>Yes</td>\n",
       "      <td>Yes</td>\n",
       "    </tr>\n",
       "  </tbody>\n",
       "</table>\n",
       "<p>400 rows × 12 columns</p>\n",
       "</div>"
      ],
      "text/plain": [
       "                   Sales  CompPrice  Income  Advertising  Population  Price  \\\n",
       "1                9.50000        138      73           11         276    120   \n",
       "2               11.22000        111      48           16         260     83   \n",
       "3               10.06000        113      35           10         269     80   \n",
       "4                7.40000        117     100            4         466     97   \n",
       "5                4.15000        141      64            3         340    128   \n",
       "..                   ...        ...     ...          ...         ...    ...   \n",
       "396             12.57000        138     108           17         203    128   \n",
       "397              6.14000        139      23            3          37    120   \n",
       "398              7.41000        162      26           12         368    159   \n",
       "399              5.94000        100      79            7         284     95   \n",
       "400              9.71000        134      37            0          27    120   \n",
       "\n",
       "    ShelveLoc  Age  Education Urban   US High  \n",
       "1         Bad   42         17   Yes  Yes  Yes  \n",
       "2        Good   65         10   Yes  Yes  Yes  \n",
       "3      Medium   59         12   Yes  Yes  Yes  \n",
       "4      Medium   55         14   Yes  Yes   No  \n",
       "5         Bad   38         13   Yes   No   No  \n",
       "..        ...  ...        ...   ...  ...  ...  \n",
       "396      Good   33         14   Yes  Yes  Yes  \n",
       "397    Medium   55         11    No  Yes   No  \n",
       "398    Medium   40         18   Yes  Yes   No  \n",
       "399       Bad   50         12   Yes  Yes   No  \n",
       "400      Good   49         16   Yes  Yes  Yes  \n",
       "\n",
       "[400 rows x 12 columns]"
      ]
     },
     "execution_count": 3,
     "metadata": {},
     "output_type": "execute_result"
    }
   ],
   "source": [
    "carseats = pd.read_csv('/Users/kangseunggu/Desktop/Data-Analysis/data/Carseats.csv', index_col=0)\n",
    "carseats['High'] = (carseats['Sales'] > 8).map({True: 'Yes', False: 'No'}) # adding new column\n",
    "carseats.loc[:, ['ShelveLoc', 'Urban', 'US', 'High']].apply(pd.Categorical)\n",
    "carseats"
   ]
  },
  {
   "cell_type": "markdown",
   "id": "009d4c84",
   "metadata": {},
   "source": [
    "## Encoding for converting each text category to numbers"
   ]
  },
  {
   "cell_type": "code",
   "execution_count": 6,
   "id": "83c355f9",
   "metadata": {},
   "outputs": [
    {
     "data": {
      "text/html": [
       "<div>\n",
       "<style scoped>\n",
       "    .dataframe tbody tr th:only-of-type {\n",
       "        vertical-align: middle;\n",
       "    }\n",
       "\n",
       "    .dataframe tbody tr th {\n",
       "        vertical-align: top;\n",
       "    }\n",
       "\n",
       "    .dataframe thead th {\n",
       "        text-align: right;\n",
       "    }\n",
       "</style>\n",
       "<table border=\"1\" class=\"dataframe\">\n",
       "  <thead>\n",
       "    <tr style=\"text-align: right;\">\n",
       "      <th></th>\n",
       "      <th>Sales</th>\n",
       "      <th>CompPrice</th>\n",
       "      <th>Income</th>\n",
       "      <th>Advertising</th>\n",
       "      <th>Population</th>\n",
       "      <th>Price</th>\n",
       "      <th>ShelveLoc</th>\n",
       "      <th>Age</th>\n",
       "      <th>Education</th>\n",
       "      <th>Urban</th>\n",
       "      <th>US</th>\n",
       "      <th>High</th>\n",
       "    </tr>\n",
       "  </thead>\n",
       "  <tbody>\n",
       "    <tr>\n",
       "      <th>1</th>\n",
       "      <td>9.50000</td>\n",
       "      <td>138</td>\n",
       "      <td>73</td>\n",
       "      <td>11</td>\n",
       "      <td>276</td>\n",
       "      <td>120</td>\n",
       "      <td>0</td>\n",
       "      <td>42</td>\n",
       "      <td>17</td>\n",
       "      <td>1</td>\n",
       "      <td>1</td>\n",
       "      <td>Yes</td>\n",
       "    </tr>\n",
       "    <tr>\n",
       "      <th>2</th>\n",
       "      <td>11.22000</td>\n",
       "      <td>111</td>\n",
       "      <td>48</td>\n",
       "      <td>16</td>\n",
       "      <td>260</td>\n",
       "      <td>83</td>\n",
       "      <td>1</td>\n",
       "      <td>65</td>\n",
       "      <td>10</td>\n",
       "      <td>1</td>\n",
       "      <td>1</td>\n",
       "      <td>Yes</td>\n",
       "    </tr>\n",
       "    <tr>\n",
       "      <th>3</th>\n",
       "      <td>10.06000</td>\n",
       "      <td>113</td>\n",
       "      <td>35</td>\n",
       "      <td>10</td>\n",
       "      <td>269</td>\n",
       "      <td>80</td>\n",
       "      <td>2</td>\n",
       "      <td>59</td>\n",
       "      <td>12</td>\n",
       "      <td>1</td>\n",
       "      <td>1</td>\n",
       "      <td>Yes</td>\n",
       "    </tr>\n",
       "    <tr>\n",
       "      <th>4</th>\n",
       "      <td>7.40000</td>\n",
       "      <td>117</td>\n",
       "      <td>100</td>\n",
       "      <td>4</td>\n",
       "      <td>466</td>\n",
       "      <td>97</td>\n",
       "      <td>2</td>\n",
       "      <td>55</td>\n",
       "      <td>14</td>\n",
       "      <td>1</td>\n",
       "      <td>1</td>\n",
       "      <td>No</td>\n",
       "    </tr>\n",
       "    <tr>\n",
       "      <th>5</th>\n",
       "      <td>4.15000</td>\n",
       "      <td>141</td>\n",
       "      <td>64</td>\n",
       "      <td>3</td>\n",
       "      <td>340</td>\n",
       "      <td>128</td>\n",
       "      <td>0</td>\n",
       "      <td>38</td>\n",
       "      <td>13</td>\n",
       "      <td>1</td>\n",
       "      <td>0</td>\n",
       "      <td>No</td>\n",
       "    </tr>\n",
       "    <tr>\n",
       "      <th>...</th>\n",
       "      <td>...</td>\n",
       "      <td>...</td>\n",
       "      <td>...</td>\n",
       "      <td>...</td>\n",
       "      <td>...</td>\n",
       "      <td>...</td>\n",
       "      <td>...</td>\n",
       "      <td>...</td>\n",
       "      <td>...</td>\n",
       "      <td>...</td>\n",
       "      <td>...</td>\n",
       "      <td>...</td>\n",
       "    </tr>\n",
       "    <tr>\n",
       "      <th>396</th>\n",
       "      <td>12.57000</td>\n",
       "      <td>138</td>\n",
       "      <td>108</td>\n",
       "      <td>17</td>\n",
       "      <td>203</td>\n",
       "      <td>128</td>\n",
       "      <td>1</td>\n",
       "      <td>33</td>\n",
       "      <td>14</td>\n",
       "      <td>1</td>\n",
       "      <td>1</td>\n",
       "      <td>Yes</td>\n",
       "    </tr>\n",
       "    <tr>\n",
       "      <th>397</th>\n",
       "      <td>6.14000</td>\n",
       "      <td>139</td>\n",
       "      <td>23</td>\n",
       "      <td>3</td>\n",
       "      <td>37</td>\n",
       "      <td>120</td>\n",
       "      <td>2</td>\n",
       "      <td>55</td>\n",
       "      <td>11</td>\n",
       "      <td>0</td>\n",
       "      <td>1</td>\n",
       "      <td>No</td>\n",
       "    </tr>\n",
       "    <tr>\n",
       "      <th>398</th>\n",
       "      <td>7.41000</td>\n",
       "      <td>162</td>\n",
       "      <td>26</td>\n",
       "      <td>12</td>\n",
       "      <td>368</td>\n",
       "      <td>159</td>\n",
       "      <td>2</td>\n",
       "      <td>40</td>\n",
       "      <td>18</td>\n",
       "      <td>1</td>\n",
       "      <td>1</td>\n",
       "      <td>No</td>\n",
       "    </tr>\n",
       "    <tr>\n",
       "      <th>399</th>\n",
       "      <td>5.94000</td>\n",
       "      <td>100</td>\n",
       "      <td>79</td>\n",
       "      <td>7</td>\n",
       "      <td>284</td>\n",
       "      <td>95</td>\n",
       "      <td>0</td>\n",
       "      <td>50</td>\n",
       "      <td>12</td>\n",
       "      <td>1</td>\n",
       "      <td>1</td>\n",
       "      <td>No</td>\n",
       "    </tr>\n",
       "    <tr>\n",
       "      <th>400</th>\n",
       "      <td>9.71000</td>\n",
       "      <td>134</td>\n",
       "      <td>37</td>\n",
       "      <td>0</td>\n",
       "      <td>27</td>\n",
       "      <td>120</td>\n",
       "      <td>1</td>\n",
       "      <td>49</td>\n",
       "      <td>16</td>\n",
       "      <td>1</td>\n",
       "      <td>1</td>\n",
       "      <td>Yes</td>\n",
       "    </tr>\n",
       "  </tbody>\n",
       "</table>\n",
       "<p>400 rows × 12 columns</p>\n",
       "</div>"
      ],
      "text/plain": [
       "                   Sales  CompPrice  Income  Advertising  Population  Price  \\\n",
       "1                9.50000        138      73           11         276    120   \n",
       "2               11.22000        111      48           16         260     83   \n",
       "3               10.06000        113      35           10         269     80   \n",
       "4                7.40000        117     100            4         466     97   \n",
       "5                4.15000        141      64            3         340    128   \n",
       "..                   ...        ...     ...          ...         ...    ...   \n",
       "396             12.57000        138     108           17         203    128   \n",
       "397              6.14000        139      23            3          37    120   \n",
       "398              7.41000        162      26           12         368    159   \n",
       "399              5.94000        100      79            7         284     95   \n",
       "400              9.71000        134      37            0          27    120   \n",
       "\n",
       "     ShelveLoc  Age  Education  Urban  US High  \n",
       "1            0   42         17      1   1  Yes  \n",
       "2            1   65         10      1   1  Yes  \n",
       "3            2   59         12      1   1  Yes  \n",
       "4            2   55         14      1   1   No  \n",
       "5            0   38         13      1   0   No  \n",
       "..         ...  ...        ...    ...  ..  ...  \n",
       "396          1   33         14      1   1  Yes  \n",
       "397          2   55         11      0   1   No  \n",
       "398          2   40         18      1   1   No  \n",
       "399          0   50         12      1   1   No  \n",
       "400          1   49         16      1   1  Yes  \n",
       "\n",
       "[400 rows x 12 columns]"
      ]
     },
     "execution_count": 6,
     "metadata": {},
     "output_type": "execute_result"
    }
   ],
   "source": [
    "from sklearn.preprocessing import OneHotEncoder, LabelEncoder\n",
    "le = LabelEncoder()\n",
    "carseats['ShelveLoc'] = le.fit_transform(carseats['ShelveLoc'])\n",
    "carseats['Urban'] = le.fit_transform(carseats['Urban'])\n",
    "carseats['US'] = le.fit_transform(carseats['US']) # fit label encoder and return encoded labels\n",
    "\n",
    "x = carseats.loc[:, 'CompPrice':'US']\n",
    "y = carseats.loc[:, 'High']\n",
    "carseats\n"
   ]
  },
  {
   "cell_type": "code",
   "execution_count": 7,
   "id": "4c15c71f",
   "metadata": {},
   "outputs": [],
   "source": [
    "# The classifier"
   ]
  },
  {
   "cell_type": "code",
   "execution_count": 14,
   "id": "a4347070",
   "metadata": {},
   "outputs": [
    {
     "data": {
      "text/plain": [
       "0.8775"
      ]
     },
     "execution_count": 14,
     "metadata": {},
     "output_type": "execute_result"
    }
   ],
   "source": [
    "from sklearn.tree import DecisionTreeClassifier \n",
    "\n",
    "tree_carseats = DecisionTreeClassifier(min_samples_leaf=5, max_depth=6)\n",
    "tree_carseats.fit(x, y)\n",
    "y_pred = tree_carseats.predict(x)\n",
    "\n",
    "tree_carseats.score(x, y) # return the mean accuracy on the given test data and labels"
   ]
  },
  {
   "cell_type": "code",
   "execution_count": 21,
   "id": "e543bbcf",
   "metadata": {},
   "outputs": [
    {
     "data": {
      "image/png": "[encoded data removed]",
      "text/plain": [
       "<Figure size 576x396 with 1 Axes>"
      ]
     },
     "metadata": {},
     "output_type": "display_data"
    }
   ],
   "source": [
    "# Feature Importance\n",
    "from scikitplot.estimators import plot_feature_importances\n",
    "\n",
    "plot_feature_importances(tree_carseats,\n",
    "                        feature_names = x.columns,\n",
    "                        x_tick_rotation=45);"
   ]
  },
  {
   "cell_type": "code",
   "execution_count": 23,
   "id": "02215520",
   "metadata": {},
   "outputs": [
    {
     "data": {
      "text/plain": [
       "(0.9, 0.73)"
      ]
     },
     "execution_count": 23,
     "metadata": {},
     "output_type": "execute_result"
    }
   ],
   "source": [
    "from sklearn.model_selection import train_test_split\n",
    "\n",
    "x_train, x_test, y_train, y_test = train_test_split(x, y, train_size=0.5, test_size=0.5, random_state=42)\n",
    "tree_carseats_tt = DecisionTreeClassifier(min_samples_leaf=5, max_depth=6)\n",
    "tree_carseats_tt.fit(x_train, y_train)\n",
    "y_pred = tree_carseats_tt.predict(x_test)\n",
    "\n",
    "tree_carseats_tt.score(x_train, y_train), tree_carseats_tt.score(x_test, y_test)"
   ]
  },
  {
   "cell_type": "markdown",
   "id": "329bfc46",
   "metadata": {},
   "source": [
    "## Plotting confusion matrix"
   ]
  },
  {
   "cell_type": "code",
   "execution_count": 24,
   "id": "3711250b",
   "metadata": {},
   "outputs": [
    {
     "data": {
      "text/plain": [
       "<AxesSubplot:title={'center':'Confusion Matrix'}, xlabel='Predicted label', ylabel='True label'>"
      ]
     },
     "execution_count": 24,
     "metadata": {},
     "output_type": "execute_result"
    },
    {
     "data": {
      "image/png": "[encoded data removed]",
      "text/plain": [
       "<Figure size 576x396 with 2 Axes>"
      ]
     },
     "metadata": {},
     "output_type": "display_data"
    }
   ],
   "source": [
    "from scikitplot.metrics import plot_confusion_matrix\n",
    "plot_confusion_matrix(y_test, y_pred)"
   ]
  },
  {
   "cell_type": "code",
   "execution_count": 26,
   "id": "fe437204",
   "metadata": {
    "scrolled": true
   },
   "outputs": [
    {
     "data": {
      "text/html": [
       "<div>\n",
       "<style scoped>\n",
       "    .dataframe tbody tr th:only-of-type {\n",
       "        vertical-align: middle;\n",
       "    }\n",
       "\n",
       "    .dataframe tbody tr th {\n",
       "        vertical-align: top;\n",
       "    }\n",
       "\n",
       "    .dataframe thead th {\n",
       "        text-align: right;\n",
       "    }\n",
       "</style>\n",
       "<table border=\"1\" class=\"dataframe\">\n",
       "  <thead>\n",
       "    <tr style=\"text-align: right;\">\n",
       "      <th></th>\n",
       "      <th>crim</th>\n",
       "      <th>zn</th>\n",
       "      <th>indus</th>\n",
       "      <th>chas</th>\n",
       "      <th>nox</th>\n",
       "      <th>rm</th>\n",
       "      <th>...</th>\n",
       "      <th>rad</th>\n",
       "      <th>tax</th>\n",
       "      <th>ptratio</th>\n",
       "      <th>black</th>\n",
       "      <th>lstat</th>\n",
       "      <th>medv</th>\n",
       "    </tr>\n",
       "  </thead>\n",
       "  <tbody>\n",
       "    <tr>\n",
       "      <th>1</th>\n",
       "      <td>0.00632</td>\n",
       "      <td>18.00000</td>\n",
       "      <td>2.31000</td>\n",
       "      <td>0</td>\n",
       "      <td>0.53800</td>\n",
       "      <td>6.57500</td>\n",
       "      <td>...</td>\n",
       "      <td>1</td>\n",
       "      <td>296</td>\n",
       "      <td>15.30000</td>\n",
       "      <td>396.90000</td>\n",
       "      <td>4.98000</td>\n",
       "      <td>24.00000</td>\n",
       "    </tr>\n",
       "    <tr>\n",
       "      <th>2</th>\n",
       "      <td>0.02731</td>\n",
       "      <td>0.00000</td>\n",
       "      <td>7.07000</td>\n",
       "      <td>0</td>\n",
       "      <td>0.46900</td>\n",
       "      <td>6.42100</td>\n",
       "      <td>...</td>\n",
       "      <td>2</td>\n",
       "      <td>242</td>\n",
       "      <td>17.80000</td>\n",
       "      <td>396.90000</td>\n",
       "      <td>9.14000</td>\n",
       "      <td>21.60000</td>\n",
       "    </tr>\n",
       "    <tr>\n",
       "      <th>3</th>\n",
       "      <td>0.02729</td>\n",
       "      <td>0.00000</td>\n",
       "      <td>7.07000</td>\n",
       "      <td>0</td>\n",
       "      <td>0.46900</td>\n",
       "      <td>7.18500</td>\n",
       "      <td>...</td>\n",
       "      <td>2</td>\n",
       "      <td>242</td>\n",
       "      <td>17.80000</td>\n",
       "      <td>392.83000</td>\n",
       "      <td>4.03000</td>\n",
       "      <td>34.70000</td>\n",
       "    </tr>\n",
       "    <tr>\n",
       "      <th>4</th>\n",
       "      <td>0.03237</td>\n",
       "      <td>0.00000</td>\n",
       "      <td>2.18000</td>\n",
       "      <td>0</td>\n",
       "      <td>0.45800</td>\n",
       "      <td>6.99800</td>\n",
       "      <td>...</td>\n",
       "      <td>3</td>\n",
       "      <td>222</td>\n",
       "      <td>18.70000</td>\n",
       "      <td>394.63000</td>\n",
       "      <td>2.94000</td>\n",
       "      <td>33.40000</td>\n",
       "    </tr>\n",
       "    <tr>\n",
       "      <th>5</th>\n",
       "      <td>0.06905</td>\n",
       "      <td>0.00000</td>\n",
       "      <td>2.18000</td>\n",
       "      <td>0</td>\n",
       "      <td>0.45800</td>\n",
       "      <td>7.14700</td>\n",
       "      <td>...</td>\n",
       "      <td>3</td>\n",
       "      <td>222</td>\n",
       "      <td>18.70000</td>\n",
       "      <td>396.90000</td>\n",
       "      <td>5.33000</td>\n",
       "      <td>36.20000</td>\n",
       "    </tr>\n",
       "    <tr>\n",
       "      <th>...</th>\n",
       "      <td>...</td>\n",
       "      <td>...</td>\n",
       "      <td>...</td>\n",
       "      <td>...</td>\n",
       "      <td>...</td>\n",
       "      <td>...</td>\n",
       "      <td>...</td>\n",
       "      <td>...</td>\n",
       "      <td>...</td>\n",
       "      <td>...</td>\n",
       "      <td>...</td>\n",
       "      <td>...</td>\n",
       "      <td>...</td>\n",
       "    </tr>\n",
       "    <tr>\n",
       "      <th>502</th>\n",
       "      <td>0.06263</td>\n",
       "      <td>0.00000</td>\n",
       "      <td>11.93000</td>\n",
       "      <td>0</td>\n",
       "      <td>0.57300</td>\n",
       "      <td>6.59300</td>\n",
       "      <td>...</td>\n",
       "      <td>1</td>\n",
       "      <td>273</td>\n",
       "      <td>21.00000</td>\n",
       "      <td>391.99000</td>\n",
       "      <td>9.67000</td>\n",
       "      <td>22.40000</td>\n",
       "    </tr>\n",
       "    <tr>\n",
       "      <th>503</th>\n",
       "      <td>0.04527</td>\n",
       "      <td>0.00000</td>\n",
       "      <td>11.93000</td>\n",
       "      <td>0</td>\n",
       "      <td>0.57300</td>\n",
       "      <td>6.12000</td>\n",
       "      <td>...</td>\n",
       "      <td>1</td>\n",
       "      <td>273</td>\n",
       "      <td>21.00000</td>\n",
       "      <td>396.90000</td>\n",
       "      <td>9.08000</td>\n",
       "      <td>20.60000</td>\n",
       "    </tr>\n",
       "    <tr>\n",
       "      <th>504</th>\n",
       "      <td>0.06076</td>\n",
       "      <td>0.00000</td>\n",
       "      <td>11.93000</td>\n",
       "      <td>0</td>\n",
       "      <td>0.57300</td>\n",
       "      <td>6.97600</td>\n",
       "      <td>...</td>\n",
       "      <td>1</td>\n",
       "      <td>273</td>\n",
       "      <td>21.00000</td>\n",
       "      <td>396.90000</td>\n",
       "      <td>5.64000</td>\n",
       "      <td>23.90000</td>\n",
       "    </tr>\n",
       "    <tr>\n",
       "      <th>505</th>\n",
       "      <td>0.10959</td>\n",
       "      <td>0.00000</td>\n",
       "      <td>11.93000</td>\n",
       "      <td>0</td>\n",
       "      <td>0.57300</td>\n",
       "      <td>6.79400</td>\n",
       "      <td>...</td>\n",
       "      <td>1</td>\n",
       "      <td>273</td>\n",
       "      <td>21.00000</td>\n",
       "      <td>393.45000</td>\n",
       "      <td>6.48000</td>\n",
       "      <td>22.00000</td>\n",
       "    </tr>\n",
       "    <tr>\n",
       "      <th>506</th>\n",
       "      <td>0.04741</td>\n",
       "      <td>0.00000</td>\n",
       "      <td>11.93000</td>\n",
       "      <td>0</td>\n",
       "      <td>0.57300</td>\n",
       "      <td>6.03000</td>\n",
       "      <td>...</td>\n",
       "      <td>1</td>\n",
       "      <td>273</td>\n",
       "      <td>21.00000</td>\n",
       "      <td>396.90000</td>\n",
       "      <td>7.88000</td>\n",
       "      <td>11.90000</td>\n",
       "    </tr>\n",
       "  </tbody>\n",
       "</table>\n",
       "<p>506 rows × 14 columns</p>\n",
       "</div>"
      ],
      "text/plain": [
       "                    crim                   zn                indus  chas  \\\n",
       "1                0.00632             18.00000              2.31000     0   \n",
       "2                0.02731              0.00000              7.07000     0   \n",
       "3                0.02729              0.00000              7.07000     0   \n",
       "4                0.03237              0.00000              2.18000     0   \n",
       "5                0.06905              0.00000              2.18000     0   \n",
       "..                   ...                  ...                  ...   ...   \n",
       "502              0.06263              0.00000             11.93000     0   \n",
       "503              0.04527              0.00000             11.93000     0   \n",
       "504              0.06076              0.00000             11.93000     0   \n",
       "505              0.10959              0.00000             11.93000     0   \n",
       "506              0.04741              0.00000             11.93000     0   \n",
       "\n",
       "                     nox                   rm  ...  rad  tax  \\\n",
       "1                0.53800              6.57500  ...    1  296   \n",
       "2                0.46900              6.42100  ...    2  242   \n",
       "3                0.46900              7.18500  ...    2  242   \n",
       "4                0.45800              6.99800  ...    3  222   \n",
       "5                0.45800              7.14700  ...    3  222   \n",
       "..                   ...                  ...  ...  ...  ...   \n",
       "502              0.57300              6.59300  ...    1  273   \n",
       "503              0.57300              6.12000  ...    1  273   \n",
       "504              0.57300              6.97600  ...    1  273   \n",
       "505              0.57300              6.79400  ...    1  273   \n",
       "506              0.57300              6.03000  ...    1  273   \n",
       "\n",
       "                 ptratio                black                lstat  \\\n",
       "1               15.30000            396.90000              4.98000   \n",
       "2               17.80000            396.90000              9.14000   \n",
       "3               17.80000            392.83000              4.03000   \n",
       "4               18.70000            394.63000              2.94000   \n",
       "5               18.70000            396.90000              5.33000   \n",
       "..                   ...                  ...                  ...   \n",
       "502             21.00000            391.99000              9.67000   \n",
       "503             21.00000            396.90000              9.08000   \n",
       "504             21.00000            396.90000              5.64000   \n",
       "505             21.00000            393.45000              6.48000   \n",
       "506             21.00000            396.90000              7.88000   \n",
       "\n",
       "                    medv  \n",
       "1               24.00000  \n",
       "2               21.60000  \n",
       "3               34.70000  \n",
       "4               33.40000  \n",
       "5               36.20000  \n",
       "..                   ...  \n",
       "502             22.40000  \n",
       "503             20.60000  \n",
       "504             23.90000  \n",
       "505             22.00000  \n",
       "506             11.90000  \n",
       "\n",
       "[506 rows x 14 columns]"
      ]
     },
     "execution_count": 26,
     "metadata": {},
     "output_type": "execute_result"
    }
   ],
   "source": [
    "boston = pd.read_csv('/Users/kangseunggu/Desktop/Data-Analysis/data/Boston.csv', index_col=0)\n",
    "x = boston.loc[:, 'crim':'lstat']\n",
    "y = boston.loc[:, 'medv']\n",
    "\n",
    "boston"
   ]
  },
  {
   "cell_type": "markdown",
   "id": "4587ee65",
   "metadata": {},
   "source": [
    "## Accuracy of tree regressor "
   ]
  },
  {
   "cell_type": "code",
   "execution_count": 27,
   "id": "ac987e08",
   "metadata": {},
   "outputs": [
    {
     "data": {
      "text/plain": [
       "(0.7461422238084278, 0.6349503884695382)"
      ]
     },
     "execution_count": 27,
     "metadata": {},
     "output_type": "execute_result"
    }
   ],
   "source": [
    "from sklearn.tree import DecisionTreeRegressor\n",
    "\n",
    "x_train, x_test, y_train, y_test = train_test_split(x, y, train_size=0.5, test_size=0.5, random_state=42)\n",
    "tree_boston = DecisionTreeRegressor(min_samples_leaf=5, max_depth=2)\n",
    "tree_boston.fit(x_train, y_train)\n",
    "y_pred = tree_boston.predict(x_test)\n",
    "\n",
    "tree_boston.score(x_train, y_train), tree_boston.score(x_test, y_test)"
   ]
  },
  {
   "cell_type": "markdown",
   "id": "8e804e65",
   "metadata": {},
   "source": [
    "# Bagging"
   ]
  },
  {
   "cell_type": "code",
   "execution_count": 31,
   "id": "6acaabc7",
   "metadata": {},
   "outputs": [
    {
     "data": {
      "text/plain": [
       "14.667482976284576"
      ]
     },
     "execution_count": 31,
     "metadata": {},
     "output_type": "execute_result"
    }
   ],
   "source": [
    "from sklearn.ensemble import RandomForestRegressor\n",
    "from sklearn.metrics import mean_squared_error\n",
    "\n",
    "boston_bag = RandomForestRegressor(max_features=13, random_state=42)\n",
    "boston_bag.fit(x_train, y_train)\n",
    "y_pred = boston_bag.predict(x_test)\n",
    "\n",
    "mean_squared_error(y_test, y_pred)"
   ]
  },
  {
   "cell_type": "code",
   "execution_count": 32,
   "id": "80f9b4d6",
   "metadata": {},
   "outputs": [
    {
     "data": {
      "text/plain": [
       "<AxesSubplot:ylabel='medv'>"
      ]
     },
     "execution_count": 32,
     "metadata": {},
     "output_type": "execute_result"
    },
    {
     "data": {
      "image/png": "[encoded data removed]",
      "text/plain": [
       "<Figure size 576x396 with 1 Axes>"
      ]
     },
     "metadata": {},
     "output_type": "display_data"
    }
   ],
   "source": [
    "sns.regplot(x=y_pred, y=y_test)"
   ]
  },
  {
   "cell_type": "markdown",
   "id": "f49d2785",
   "metadata": {},
   "source": [
    "# Random Forest"
   ]
  },
  {
   "cell_type": "code",
   "execution_count": 34,
   "id": "d1653cf9",
   "metadata": {},
   "outputs": [
    {
     "data": {
      "text/plain": [
       "12.878658150197625"
      ]
     },
     "execution_count": 34,
     "metadata": {},
     "output_type": "execute_result"
    }
   ],
   "source": [
    "boston_rf = RandomForestRegressor(max_features = 6, random_state=42, n_estimators = 100)\n",
    "boston_rf.fit(x_train, y_train)\n",
    "\n",
    "y_pred = boston_rf.predict(x_test)\n",
    "\n",
    "mean_squared_error(y_test, y_pred)"
   ]
  },
  {
   "cell_type": "code",
   "execution_count": 35,
   "id": "74a0df2c",
   "metadata": {},
   "outputs": [
    {
     "data": {
      "text/plain": [
       "<AxesSubplot:ylabel='medv'>"
      ]
     },
     "execution_count": 35,
     "metadata": {},
     "output_type": "execute_result"
    },
    {
     "data": {
      "image/png": "[encoded data removed]",
      "text/plain": [
       "<Figure size 576x396 with 1 Axes>"
      ]
     },
     "metadata": {},
     "output_type": "display_data"
    }
   ],
   "source": [
    "sns.regplot(x=y_pred, y=y_test)"
   ]
  },
  {
   "cell_type": "code",
   "execution_count": 36,
   "id": "5d829ce3",
   "metadata": {},
   "outputs": [
    {
     "data": {
      "image/png": "[encoded data removed]",
      "text/plain": [
       "<Figure size 576x396 with 1 Axes>"
      ]
     },
     "metadata": {},
     "output_type": "display_data"
    }
   ],
   "source": [
    "# Feature Importance\n",
    "plot_feature_importances(boston_rf,\n",
    "                        feature_names=x.columns,\n",
    "                        x_tick_rotation=45);"
   ]
  },
  {
   "cell_type": "markdown",
   "id": "c27d18ff",
   "metadata": {},
   "source": [
    "# Boosting"
   ]
  },
  {
   "cell_type": "markdown",
   "id": "c014a81d",
   "metadata": {},
   "source": [
    "## Boosting with learning reate = 0.01"
   ]
  },
  {
   "cell_type": "code",
   "execution_count": 43,
   "id": "27c6b0d7",
   "metadata": {},
   "outputs": [
    {
     "data": {
      "text/plain": [
       "16.770864624119454"
      ]
     },
     "execution_count": 43,
     "metadata": {},
     "output_type": "execute_result"
    }
   ],
   "source": [
    "from sklearn.ensemble import GradientBoostingRegressor\n",
    "\n",
    "boston_gb = GradientBoostingRegressor(n_estimators=500, learning_rate=0.01, max_depth=4, random_state=42)\n",
    "boston_gb.fit(x_train, y_train)\n",
    "\n",
    "y_pred = boston_gb.predict(x_test)\n",
    "mean_squared_error(y_test, y_pred)"
   ]
  },
  {
   "cell_type": "code",
   "execution_count": 41,
   "id": "f7ebe075",
   "metadata": {},
   "outputs": [
    {
     "data": {
      "image/png": "[encoded data removed]",
      "text/plain": [
       "<Figure size 576x396 with 1 Axes>"
      ]
     },
     "metadata": {},
     "output_type": "display_data"
    }
   ],
   "source": [
    "plot_feature_importances(boston_gb,\n",
    "                        feature_names=x.columns,\n",
    "                        x_tick_rotation=45);"
   ]
  },
  {
   "cell_type": "code",
   "execution_count": 44,
   "id": "71e5fcf4",
   "metadata": {},
   "outputs": [
    {
     "data": {
      "image/png": "[encoded data removed]",
      "text/plain": [
       "<Figure size 576x396 with 3 Axes>"
      ]
     },
     "metadata": {},
     "output_type": "display_data"
    }
   ],
   "source": [
    "# Partial Dependence Plots\n",
    "\n",
    "from sklearn.inspection import plot_partial_dependence\n",
    "\n",
    "plot_partial_dependence(boston_gb, x_train, [5, 12], feature_names=x.columns);"
   ]
  },
  {
   "cell_type": "markdown",
   "id": "c99e32ed",
   "metadata": {},
   "source": [
    "## Boosting with learning rate = 0.5"
   ]
  },
  {
   "cell_type": "code",
   "execution_count": 45,
   "id": "82139c70",
   "metadata": {},
   "outputs": [
    {
     "data": {
      "text/plain": [
       "16.819090824649386"
      ]
     },
     "execution_count": 45,
     "metadata": {},
     "output_type": "execute_result"
    }
   ],
   "source": [
    "boston_gb2 = GradientBoostingRegressor(n_estimators=500, learning_rate=0.5, max_depth=4, random_state=42)\n",
    "boston_gb2.fit(x_train, y_train)\n",
    "\n",
    "y_pred = boston_gb2.predict(x_test)\n",
    "mean_squared_error(y_test, y_pred)"
   ]
  },
  {
   "cell_type": "code",
   "execution_count": 46,
   "id": "5c7703e1",
   "metadata": {},
   "outputs": [
    {
     "data": {
      "image/png": "[encoded data removed]",
      "text/plain": [
       "<Figure size 576x396 with 1 Axes>"
      ]
     },
     "metadata": {},
     "output_type": "display_data"
    }
   ],
   "source": [
    "plot_feature_importances(boston_gb2,\n",
    "                        feature_names=x.columns,\n",
    "                        x_tick_rotation=45);"
   ]
  },
  {
   "cell_type": "code",
   "execution_count": null,
   "id": "8a09064f",
   "metadata": {},
   "outputs": [],
   "source": []
  }
 ],
 "metadata": {
  "kernelspec": {
   "display_name": "Python 3 (ipykernel)",
   "language": "python",
   "name": "python3"
  },
  "language_info": {
   "codemirror_mode": {
    "name": "ipython",
    "version": 3
   },
   "file_extension": ".py",
   "mimetype": "text/x-python",
   "name": "python",
   "nbconvert_exporter": "python",
   "pygments_lexer": "ipython3",
   "version": "3.9.7"
  }
 },
 "nbformat": 4,
 "nbformat_minor": 5
}
